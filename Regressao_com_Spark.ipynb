{
  "nbformat": 4,
  "nbformat_minor": 0,
  "metadata": {
    "colab": {
      "provenance": [],
      "toc_visible": true,
      "authorship_tag": "ABX9TyOc+b6H/kZZTlU/3rN9yRWN",
      "include_colab_link": true
    },
    "kernelspec": {
      "name": "python3",
      "display_name": "Python 3"
    },
    "language_info": {
      "name": "python"
    }
  },
  "cells": [
    {
      "cell_type": "markdown",
      "metadata": {
        "id": "view-in-github",
        "colab_type": "text"
      },
      "source": [
        "<a href=\"https://colab.research.google.com/github/kennenvi/Challange-Dados/blob/main/Regressao_com_Spark.ipynb\" target=\"_parent\"><img src=\"https://colab.research.google.com/assets/colab-badge.svg\" alt=\"Open In Colab\"/></a>"
      ]
    },
    {
      "cell_type": "markdown",
      "metadata": {
        "id": "xIZNca7Pjgqf"
      },
      "source": [
        "# Iniciando ambiente\n",
        "---"
      ]
    },
    {
      "cell_type": "markdown",
      "metadata": {
        "id": "A_pds0odi1Rj"
      },
      "source": [
        "## Instalando o PySpark no Google Colab"
      ]
    },
    {
      "cell_type": "code",
      "source": [
        "!pip install pyspark==3.3.1"
      ],
      "metadata": {
        "colab": {
          "base_uri": "https://localhost:8080/"
        },
        "id": "TtSLyCVGuXFb",
        "outputId": "ce0fece6-ee66-4396-cbf4-6069df81d7cf"
      },
      "execution_count": null,
      "outputs": [
        {
          "output_type": "stream",
          "name": "stdout",
          "text": [
            "Looking in indexes: https://pypi.org/simple, https://us-python.pkg.dev/colab-wheels/public/simple/\n",
            "Requirement already satisfied: pyspark==3.3.1 in /usr/local/lib/python3.8/dist-packages (3.3.1)\n",
            "Requirement already satisfied: py4j==0.10.9.5 in /usr/local/lib/python3.8/dist-packages (from pyspark==3.3.1) (0.10.9.5)\n"
          ]
        }
      ]
    },
    {
      "cell_type": "markdown",
      "metadata": {
        "id": "YGNS075GGlH0"
      },
      "source": [
        "## SparkSession\n",
        "\n",
        "O ponto de entrada para programar o Spark com a API Dataset e DataFrame."
      ]
    },
    {
      "cell_type": "code",
      "source": [
        "from pyspark.sql import SparkSession\n",
        "\n",
        "spark = SparkSession.builder \\\n",
        "    .master('local[*]') \\\n",
        "    .appName(\"Iniciando com Spark\") \\\n",
        "    .config('spark.ui.port', '4050') \\\n",
        "    .getOrCreate()"
      ],
      "metadata": {
        "id": "IcVyRdrwdFKE"
      },
      "execution_count": null,
      "outputs": []
    },
    {
      "cell_type": "code",
      "execution_count": null,
      "metadata": {
        "id": "PizPNqbmCuSM",
        "colab": {
          "base_uri": "https://localhost:8080/",
          "height": 219
        },
        "outputId": "484a0bff-9bf4-42a2-ab70-d291ea0c49e9"
      },
      "outputs": [
        {
          "output_type": "execute_result",
          "data": {
            "text/plain": [
              "<pyspark.sql.session.SparkSession at 0x7fdca19ddf40>"
            ],
            "text/html": [
              "\n",
              "            <div>\n",
              "                <p><b>SparkSession - in-memory</b></p>\n",
              "                \n",
              "        <div>\n",
              "            <p><b>SparkContext</b></p>\n",
              "\n",
              "            <p><a href=\"http://c69b49baed03:4050\">Spark UI</a></p>\n",
              "\n",
              "            <dl>\n",
              "              <dt>Version</dt>\n",
              "                <dd><code>v3.3.1</code></dd>\n",
              "              <dt>Master</dt>\n",
              "                <dd><code>local[*]</code></dd>\n",
              "              <dt>AppName</dt>\n",
              "                <dd><code>Iniciando com Spark</code></dd>\n",
              "            </dl>\n",
              "        </div>\n",
              "        \n",
              "            </div>\n",
              "        "
            ]
          },
          "metadata": {},
          "execution_count": 6
        }
      ],
      "source": [
        "spark"
      ]
    },
    {
      "cell_type": "markdown",
      "source": [
        "## Baixando conjunto de dados"
      ],
      "metadata": {
        "id": "HDEfKGcCGhh0"
      }
    },
    {
      "cell_type": "code",
      "source": [
        "!wget 'https://caelum-online-public.s3.amazonaws.com/challenge-spark/semana-2.zip' && unzip semana-2.zip -d dados/"
      ],
      "metadata": {
        "id": "yip_n_BAGkjz",
        "colab": {
          "base_uri": "https://localhost:8080/"
        },
        "outputId": "5fc8b6cf-7c7e-41ac-c96a-cec8e831c75b"
      },
      "execution_count": null,
      "outputs": [
        {
          "output_type": "stream",
          "name": "stdout",
          "text": [
            "--2022-12-06 16:54:24--  https://caelum-online-public.s3.amazonaws.com/challenge-spark/semana-2.zip\n",
            "Resolving caelum-online-public.s3.amazonaws.com (caelum-online-public.s3.amazonaws.com)... 54.231.135.33, 3.5.11.155, 54.231.224.41, ...\n",
            "Connecting to caelum-online-public.s3.amazonaws.com (caelum-online-public.s3.amazonaws.com)|54.231.135.33|:443... connected.\n",
            "HTTP request sent, awaiting response... 200 OK\n",
            "Length: 2763652 (2.6M) [application/zip]\n",
            "Saving to: ‘semana-2.zip.1’\n",
            "\n",
            "semana-2.zip.1      100%[===================>]   2.63M  --.-KB/s    in 0.1s    \n",
            "\n",
            "2022-12-06 16:54:24 (19.1 MB/s) - ‘semana-2.zip.1’ saved [2763652/2763652]\n",
            "\n",
            "Archive:  semana-2.zip\n",
            "replace dados/dataset_transformado_parquet/_SUCCESS? [y]es, [n]o, [A]ll, [N]one, [r]ename: A\n",
            "  inflating: dados/dataset_transformado_parquet/_SUCCESS  \n",
            "  inflating: dados/dataset_transformado_parquet/._SUCCESS.crc  \n",
            "  inflating: dados/dataset_transformado_parquet/part-00000-00341ba7-0a7c-4fef-a81e-1066725a64b1-c000.snappy.parquet  \n",
            "  inflating: dados/dataset_transformado_parquet/.part-00000-00341ba7-0a7c-4fef-a81e-1066725a64b1-c000.snappy.parquet.crc  \n"
          ]
        }
      ]
    },
    {
      "cell_type": "markdown",
      "source": [
        "# Criando Modelo de Regressão"
      ],
      "metadata": {
        "id": "ZUaSAECPsEdo"
      }
    },
    {
      "cell_type": "markdown",
      "source": [
        "## Seleção de Features"
      ],
      "metadata": {
        "id": "UCgkGBZ4sH2z"
      }
    },
    {
      "cell_type": "code",
      "source": [
        "# Importando módelos\n",
        "from pyspark.sql import functions as f\n",
        "from pyspark.sql.types import DoubleType, IntegerType"
      ],
      "metadata": {
        "id": "3rAxINtytkOY"
      },
      "execution_count": 74,
      "outputs": []
    },
    {
      "cell_type": "code",
      "source": [
        "# Carregando os dados\n",
        "dados = spark.read.parquet('/content/dados/dataset_transformado_parquet')"
      ],
      "metadata": {
        "id": "QLCGo7nxsHOC"
      },
      "execution_count": null,
      "outputs": []
    },
    {
      "cell_type": "code",
      "source": [
        "# Visualizando os dados\n",
        "dados.show()"
      ],
      "metadata": {
        "colab": {
          "base_uri": "https://localhost:8080/"
        },
        "id": "ycY07mJ7sXED",
        "outputId": "5300463f-e109-4934-f164-94ca20093119"
      },
      "execution_count": null,
      "outputs": [
        {
          "output_type": "stream",
          "name": "stdout",
          "text": [
            "+--------------------+-----+----------+---------+---------+--------------------+-------+------+------------+------------+-----------+----+--------------------+------------+----------+----+-----+------+\n",
            "|                  id|andar|area_total|area_util|banheiros|     caracteristicas|quartos|suites|tipo_anuncio|tipo_unidade|   tipo_uso|vaga|              bairro|        zona|condominio|iptu| tipo| valor|\n",
            "+--------------------+-----+----------+---------+---------+--------------------+-------+------+------------+------------+-----------+----+--------------------+------------+----------+----+-----+------+\n",
            "|03a386b6-7ab8-4ef...|    0|        43|       43|        1|[Churrasqueira, A...|      2|  null|       Usado| Apartamento|Residencial|   1|            Realengo|  Zona Oeste|       285|null|Venda| 22999|\n",
            "|1fe78d41-b8e0-4d2...|    0|        44|       44|        1|                  []|      2|     0|       Usado| Apartamento|Residencial|   0|               Irajá|  Zona Norte|       170|   0|Venda|110000|\n",
            "|1fa1c1e5-e98c-433...|    4|      null|       55|        1|                  []|      2|     0|       Usado| Apartamento|Residencial|   1|              Cosmos|  Zona Oeste|      null|null|Venda|115000|\n",
            "|a6ab01ae-3d40-40e...|    2|      null|       55|        1|                  []|      2|     0|       Usado| Apartamento|Residencial|   0|        Tomás Coelho|  Zona Norte|      null|null|Venda|115000|\n",
            "|1d8ff7a2-16bd-4e3...|    0|      null|       50|        1|                  []|      1|  null|       Usado| Apartamento|Residencial|   0|              Centro|Zona Central|      1300|2679|Venda|125000|\n",
            "|40a2cbde-946b-42d...|    2|        47|       47|        1|[Condomínio fecha...|      2|     0|       Usado| Apartamento|Residencial|   1|        Campo Grande|  Zona Oeste|       380|null|Venda|138000|\n",
            "|be269ddf-a4a3-4a7...|    0|     17089|       45|        1|[Churrasqueira, C...|      2|     0|       Usado| Apartamento|Residencial|   1|        Campo Grande|  Zona Oeste|       356|   0|Venda|140000|\n",
            "|4b7e3d59-34fd-4ba...|    3|        48|       48|        1|[Churrasqueira, P...|      2|  null|       Usado| Apartamento|Residencial|   1|        Campo Grande|  Zona Oeste|         0|   0|Venda|150000|\n",
            "|a1a0c2ac-4fa8-4b0...|    9|      null|       55|        1|[Churrasqueira, E...|      2|  null|       Usado| Apartamento|Residencial|   1|Freguesia (Jacare...|  Zona Oeste|       780| 660|Venda|160000|\n",
            "|390d2b88-e06d-47e...|    0|        70|       70|        2|   [Salão de festas]|      2|     0|       Usado| Apartamento|Residencial|   1|          Praça Seca|  Zona Oeste|    420000|null|Venda|159000|\n",
            "|07bb07c1-21cc-4da...|    2|        50|       48|        1|[Condomínio fecha...|      1|     0|       Usado| Apartamento|Residencial|   0|             Piedade|  Zona Norte|        10|  10|Venda|170000|\n",
            "|7d3a1bae-988c-44b...|    5|        40|       40|        1|[Playground, Chur...|      2|     0|       Usado| Apartamento|Residencial|   1|        Braz de Pina|  Zona Norte|       150| 120|Venda|189000|\n",
            "|47af17f0-1c81-474...|    0|        65|       65|        1|                  []|      2|     0|       Usado| Apartamento|Residencial|   1|            Campinho|  Zona Oeste|       432|null|Venda|185000|\n",
            "|a9bd1575-e9f2-43d...|    2|        50|       50|        1|[Condomínio fecha...|      1|     0|       Usado| Apartamento|Residencial|   1|           Madureira|  Zona Norte|       650|   1|Venda|185000|\n",
            "|cfca7253-3d02-4cd...|    5|        45|       45|        1|[Academia, Churra...|      2|     1|       Usado| Apartamento|Residencial|   0|             Taquara|  Zona Oeste|       150|  40|Venda|199000|\n",
            "|b571ae97-e3d8-4fb...|    0|        48|       48|        1|[Academia, Condom...|      2|  null|       Usado| Apartamento|Residencial|   0|          Bonsucesso|  Zona Norte|         0|   0|Venda|205933|\n",
            "|eb5fdc65-acae-45f...|    0|        44|       44|        1|[Academia, Condom...|      2|  null|       Usado| Apartamento|Residencial|   0|          Bonsucesso|  Zona Norte|         0|   0|Venda|206000|\n",
            "|77cd0388-e3ff-40c...|    2|        64|       64|        1|                  []|      2|     0|       Usado| Apartamento|Residencial|   0|      Jardim América|  Zona Norte|         0|   0|Venda|220000|\n",
            "|74a91f07-7387-4a8...|    0|        55|       55|        2|[Salão de festas,...|      1|     0|       Usado| Apartamento|Residencial|   1|        Engenho Novo|  Zona Norte|       600| 652|Venda|219130|\n",
            "|6aab1165-508d-455...|    3|        60|       60|        1|[Animais permitidos]|      3|     0|       Usado| Apartamento|Residencial|   1|           Cascadura|  Zona Norte|        98|   1|Venda|230000|\n",
            "+--------------------+-----+----------+---------+---------+--------------------+-------+------+------------+------------+-----------+----+--------------------+------------+----------+----+-----+------+\n",
            "only showing top 20 rows\n",
            "\n"
          ]
        }
      ]
    },
    {
      "cell_type": "code",
      "source": [
        "# Visualizando o Schema\n",
        "dados.printSchema()"
      ],
      "metadata": {
        "id": "bYC41geQc_AN"
      },
      "execution_count": null,
      "outputs": []
    },
    {
      "cell_type": "markdown",
      "source": [
        "### Convertendo Tipos"
      ],
      "metadata": {
        "id": "eXFmthz9dXkR"
      }
    },
    {
      "cell_type": "markdown",
      "source": [
        "Algumas colunas estão com os tipos errados, por isso serão realizadas transformaçãoes (casting) para os tipos corretos:\n",
        "\n",
        "* \"area_total\", \"area_util\", \"iptu\" e \"valor\" --> **Double**\n",
        "\n",
        "* \"andar\", \"banheiros\", \"quartos\", \"suites\" e \"vaga\" e \"condominio\" --> **Integer**"
      ],
      "metadata": {
        "id": "UVWGyR2a2ohg"
      }
    },
    {
      "cell_type": "code",
      "source": [
        "# Dicionário com a coluna e seu tipo correspondente\n",
        "dict_casting = {'area_total': DoubleType, 'area_util': DoubleType, 'iptu': DoubleType, 'valor': DoubleType, \n",
        "                 'andar': IntegerType, 'banheiros': IntegerType, 'quartos': IntegerType, 'suites': IntegerType, 'vaga': IntegerType, 'condominio': IntegerType}\n",
        "\n",
        "# Realizando o casting com base no dicionário\n",
        "dados = dados\\\n",
        "    .select(\n",
        "        [f.col(col).cast(dict_casting[col]()).alias(col) if col in dict_casting else col for col in dados.columns]\n",
        "    )"
      ],
      "metadata": {
        "id": "0JBnQmHhs_Hu"
      },
      "execution_count": null,
      "outputs": []
    },
    {
      "cell_type": "code",
      "source": [
        "dados.printSchema()"
      ],
      "metadata": {
        "colab": {
          "base_uri": "https://localhost:8080/"
        },
        "id": "Ytyx-V5fsg77",
        "outputId": "96ef5e0d-cb14-4250-8809-591303122154"
      },
      "execution_count": null,
      "outputs": [
        {
          "output_type": "stream",
          "name": "stdout",
          "text": [
            "root\n",
            " |-- id: string (nullable = true)\n",
            " |-- andar: integer (nullable = true)\n",
            " |-- area_total: double (nullable = true)\n",
            " |-- area_util: double (nullable = true)\n",
            " |-- banheiros: integer (nullable = true)\n",
            " |-- caracteristicas: array (nullable = true)\n",
            " |    |-- element: string (containsNull = true)\n",
            " |-- quartos: integer (nullable = true)\n",
            " |-- suites: integer (nullable = true)\n",
            " |-- tipo_anuncio: string (nullable = true)\n",
            " |-- tipo_unidade: string (nullable = true)\n",
            " |-- tipo_uso: string (nullable = true)\n",
            " |-- vaga: integer (nullable = true)\n",
            " |-- bairro: string (nullable = true)\n",
            " |-- zona: string (nullable = true)\n",
            " |-- condominio: integer (nullable = true)\n",
            " |-- iptu: double (nullable = true)\n",
            " |-- tipo: string (nullable = true)\n",
            " |-- valor: double (nullable = true)\n",
            "\n"
          ]
        }
      ]
    },
    {
      "cell_type": "markdown",
      "source": [
        "### Retirando colunas com valores únicos"
      ],
      "metadata": {
        "id": "yAIt82nUun20"
      }
    },
    {
      "cell_type": "markdown",
      "source": [
        "Algumas colunas possuem valores únicos, pois foram filtradas no processamento anterior. Por isso serão excluídas"
      ],
      "metadata": {
        "id": "Y5UEAM0NeV7f"
      }
    },
    {
      "cell_type": "code",
      "source": [
        "# Verificando se essas colunas realmente possuem apenas um valor\n",
        "lista_valores_unicos = ['tipo_anuncio', 'tipo_unidade', 'tipo_uso', 'bairro', 'zona', 'tipo']\n",
        "\n",
        "for i in lista_valores_unicos:\n",
        "    dados\\\n",
        "        .groupBy(i)\\\n",
        "        .count()\\\n",
        "        .show()"
      ],
      "metadata": {
        "colab": {
          "base_uri": "https://localhost:8080/"
        },
        "id": "LdeABBLTuEIy",
        "outputId": "f922ff2d-2b4d-40f8-9e37-0423f88e1ac9"
      },
      "execution_count": null,
      "outputs": [
        {
          "output_type": "stream",
          "name": "stdout",
          "text": [
            "+------------+-----+\n",
            "|tipo_anuncio|count|\n",
            "+------------+-----+\n",
            "|       Usado|66562|\n",
            "+------------+-----+\n",
            "\n",
            "+------------+-----+\n",
            "|tipo_unidade|count|\n",
            "+------------+-----+\n",
            "| Apartamento|66562|\n",
            "+------------+-----+\n",
            "\n",
            "+-----------+-----+\n",
            "|   tipo_uso|count|\n",
            "+-----------+-----+\n",
            "|Residencial|66562|\n",
            "+-----------+-----+\n",
            "\n",
            "+-------------------+-----+\n",
            "|             bairro|count|\n",
            "+-------------------+-----+\n",
            "|             Cocotá|   16|\n",
            "|       Tomás Coelho|   38|\n",
            "|              Gávea|  597|\n",
            "|            Ipanema| 2113|\n",
            "|           Realengo|   46|\n",
            "|      Gardênia Azul|    7|\n",
            "|      Bento Ribeiro|   33|\n",
            "|              Rocha|   38|\n",
            "|Vicente de Carvalho|   86|\n",
            "|         Manguinhos|    1|\n",
            "|       Campo Grande|  639|\n",
            "|        Jacarepaguá| 4437|\n",
            "|               Leme|  234|\n",
            "|           Botafogo| 3499|\n",
            "|       Padre Miguel|   15|\n",
            "|       Santo Cristo|  357|\n",
            "|           Flamengo| 1378|\n",
            "|  Engenho da Rainha|   25|\n",
            "| Pedra de Guaratiba|   12|\n",
            "|            Piedade|  104|\n",
            "+-------------------+-----+\n",
            "only showing top 20 rows\n",
            "\n",
            "+------------+-----+\n",
            "|        zona|count|\n",
            "+------------+-----+\n",
            "|  Zona Norte|11897|\n",
            "|  Zona Oeste|32979|\n",
            "|Zona Central| 1144|\n",
            "|    Zona Sul|20531|\n",
            "|            |   11|\n",
            "+------------+-----+\n",
            "\n",
            "+-----+-----+\n",
            "| tipo|count|\n",
            "+-----+-----+\n",
            "|Venda|66562|\n",
            "+-----+-----+\n",
            "\n"
          ]
        }
      ]
    },
    {
      "cell_type": "markdown",
      "source": [
        "As colunas \"tipo_anuncio\", \"tipo_unidade\", \"tipo_uso\" e \"tipo\" serão retiradas, porque possuem apenas uma categoria o que não fornece nenhuma informação para o modelo"
      ],
      "metadata": {
        "id": "YqDJjDdavaoe"
      }
    },
    {
      "cell_type": "code",
      "source": [
        "dados = dados.drop('tipo_anuncio', 'tipo_unidade', 'tipo_uso', 'tipo')"
      ],
      "metadata": {
        "id": "G3-XZtpLvp3S"
      },
      "execution_count": null,
      "outputs": []
    },
    {
      "cell_type": "markdown",
      "source": [
        "A coluna bairro possui muitas classes com poucos valores, o que não agrega informações uteis ao modelo. Por isso será retirada"
      ],
      "metadata": {
        "id": "iT4QJOb1vztX"
      }
    },
    {
      "cell_type": "code",
      "source": [
        "dados = dados.drop('bairro')"
      ],
      "metadata": {
        "id": "X_1fQSPxvwFa"
      },
      "execution_count": null,
      "outputs": []
    },
    {
      "cell_type": "code",
      "source": [
        "# Verificando como a tabela dados está até o momento\n",
        "dados.show(truncate=False)"
      ],
      "metadata": {
        "colab": {
          "base_uri": "https://localhost:8080/"
        },
        "id": "Z_vAxWRzwFOo",
        "outputId": "57495986-22b8-4465-c218-610422d4c92e"
      },
      "execution_count": null,
      "outputs": [
        {
          "output_type": "stream",
          "name": "stdout",
          "text": [
            "+------------------------------------+-----+----------+---------+---------+-----------------------------------------------------------------------------------------------------------------------------------------+-------+------+----+------------+----------+------+--------+\n",
            "|id                                  |andar|area_total|area_util|banheiros|caracteristicas                                                                                                                          |quartos|suites|vaga|zona        |condominio|iptu  |valor   |\n",
            "+------------------------------------+-----+----------+---------+---------+-----------------------------------------------------------------------------------------------------------------------------------------+-------+------+----+------------+----------+------+--------+\n",
            "|03a386b6-7ab8-4eff-891d-f8a16efc1989|0    |43.0      |43.0     |1        |[Churrasqueira, Academia, Playground, Salão de festas, Condomínio fechado, Portão eletrônico, Portaria 24h, Animais permitidos]          |2      |null  |1   |Zona Oeste  |285       |null  |22999.0 |\n",
            "|1fe78d41-b8e0-4d21-a1a8-72cb7863f441|0    |44.0      |44.0     |1        |[]                                                                                                                                       |2      |0     |0   |Zona Norte  |170       |0.0   |110000.0|\n",
            "|1fa1c1e5-e98c-433f-9675-1b43d7d6da01|4    |null      |55.0     |1        |[]                                                                                                                                       |2      |0     |1   |Zona Oeste  |null      |null  |115000.0|\n",
            "|a6ab01ae-3d40-40e7-bb6a-f2334e0abbe0|2    |null      |55.0     |1        |[]                                                                                                                                       |2      |0     |0   |Zona Norte  |null      |null  |115000.0|\n",
            "|1d8ff7a2-16bd-4e3f-a92e-1b85f923ebb0|0    |null      |50.0     |1        |[]                                                                                                                                       |1      |null  |0   |Zona Central|1300      |2679.0|125000.0|\n",
            "|40a2cbde-946b-42da-b7f2-b80057c7a47f|2    |47.0      |47.0     |1        |[Condomínio fechado, Portaria 24h, Salão de festas, Churrasqueira, Piscina, Animais permitidos]                                          |2      |0     |1   |Zona Oeste  |380       |null  |138000.0|\n",
            "|be269ddf-a4a3-4a72-bd54-93cdccf512dd|0    |17089.0   |45.0     |1        |[Churrasqueira, Condomínio fechado, Piscina]                                                                                             |2      |0     |1   |Zona Oeste  |356       |0.0   |140000.0|\n",
            "|4b7e3d59-34fd-4bac-9232-1015cb3b3a24|3    |48.0      |48.0     |1        |[Churrasqueira, Piscina, Playground, Salão de festas, Condomínio fechado, Portão eletrônico, Portaria 24h, Animais permitidos]           |2      |null  |1   |Zona Oeste  |0         |0.0   |150000.0|\n",
            "|a1a0c2ac-4fa8-4b02-a087-f9d76b6bccb7|9    |null      |55.0     |1        |[Churrasqueira, Elevador, Salão de festas, Condomínio fechado, Portão eletrônico, Portaria 24h, Animais permitidos]                      |2      |null  |1   |Zona Oeste  |780       |660.0 |160000.0|\n",
            "|390d2b88-e06d-47e5-ba7f-a680130ac5f0|0    |70.0      |70.0     |2        |[Salão de festas]                                                                                                                        |2      |0     |1   |Zona Oeste  |420000    |null  |159000.0|\n",
            "|07bb07c1-21cc-4daa-99c4-e12b53da67d2|2    |50.0      |48.0     |1        |[Condomínio fechado, Animais permitidos]                                                                                                 |1      |0     |0   |Zona Norte  |10        |10.0  |170000.0|\n",
            "|7d3a1bae-988c-44b9-8e42-99267dda4245|5    |40.0      |40.0     |1        |[Playground, Churrasqueira, Salão de festas, Condomínio fechado, Portão eletrônico, Portaria 24h, Animais permitidos]                    |2      |0     |1   |Zona Norte  |150       |120.0 |189000.0|\n",
            "|47af17f0-1c81-474c-b7ec-fefbe48954d0|0    |65.0      |65.0     |1        |[]                                                                                                                                       |2      |0     |1   |Zona Oeste  |432       |null  |185000.0|\n",
            "|a9bd1575-e9f2-43d7-850c-c8d1385e6908|2    |50.0      |50.0     |1        |[Condomínio fechado, Portão eletrônico, Animais permitidos]                                                                              |1      |0     |1   |Zona Norte  |650       |1.0   |185000.0|\n",
            "|cfca7253-3d02-4cdc-99de-714ad1b4cc61|5    |45.0      |45.0     |1        |[Academia, Churrasqueira, Condomínio fechado, Elevador, Playground, Portão eletrônico, Portaria 24h, Salão de festas, Animais permitidos]|2      |1     |0   |Zona Oeste  |150       |40.0  |199000.0|\n",
            "|b571ae97-e3d8-4fbf-80b9-2c2c78fb02c1|0    |48.0      |48.0     |1        |[Academia, Condomínio fechado, Elevador, Portaria 24h, Salão de festas, Churrasqueira, Portão eletrônico, Animais permitidos]            |2      |null  |0   |Zona Norte  |0         |0.0   |205933.0|\n",
            "|eb5fdc65-acae-45f8-9075-b5238b19bd9e|0    |44.0      |44.0     |1        |[Academia, Condomínio fechado, Elevador, Portaria 24h, Salão de festas, Playground, Portão eletrônico, Animais permitidos]               |2      |null  |0   |Zona Norte  |0         |0.0   |206000.0|\n",
            "|77cd0388-e3ff-40c3-928c-f4d535049bff|2    |64.0      |64.0     |1        |[]                                                                                                                                       |2      |0     |0   |Zona Norte  |0         |0.0   |220000.0|\n",
            "|74a91f07-7387-4a8e-bfbe-c8aec0bf645f|0    |55.0      |55.0     |2        |[Salão de festas, Elevador]                                                                                                              |1      |0     |1   |Zona Norte  |600       |652.0 |219130.0|\n",
            "|6aab1165-508d-4554-b122-b61c178109de|3    |60.0      |60.0     |1        |[Animais permitidos]                                                                                                                     |3      |0     |1   |Zona Norte  |98        |1.0   |230000.0|\n",
            "+------------------------------------+-----+----------+---------+---------+-----------------------------------------------------------------------------------------------------------------------------------------+-------+------+----+------------+----------+------+--------+\n",
            "only showing top 20 rows\n",
            "\n"
          ]
        }
      ]
    },
    {
      "cell_type": "markdown",
      "source": [
        "### Tratando valores nulos"
      ],
      "metadata": {
        "id": "O4tO8bHGe291"
      }
    },
    {
      "cell_type": "markdown",
      "source": [
        "As colunas possuem valores nulos que não são bem interpretados pelos modelos, por isso será feito um tratamento neles"
      ],
      "metadata": {
        "id": "AazTIUtdyNuR"
      }
    },
    {
      "cell_type": "code",
      "source": [
        "# Transformando os nulos de todas as colunas com numerais em zero\n",
        "dados = dados\\\n",
        "    .na\\\n",
        "    .fill(0)"
      ],
      "metadata": {
        "id": "ENm6S7Rt0E-y"
      },
      "execution_count": null,
      "outputs": []
    },
    {
      "cell_type": "code",
      "source": [
        "# Transformando listas vazias \"[]\" em None\n",
        "dados = dados\\\n",
        "    .withColumn('caracteristicas',\n",
        "                f.when(f.size('caracteristicas') == 0, None)\\\n",
        "                .otherwise( dados['caracteristicas'] )\n",
        "                )"
      ],
      "metadata": {
        "id": "ddN0BGhq4Vk_"
      },
      "execution_count": null,
      "outputs": []
    },
    {
      "cell_type": "code",
      "source": [
        "# Removendo amostras onde a zona é uma string vazia ('')\n",
        "dados = dados\\\n",
        "    .where(dados['zona'] != '')"
      ],
      "metadata": {
        "id": "GkcN5IDryZY-"
      },
      "execution_count": null,
      "outputs": []
    },
    {
      "cell_type": "code",
      "source": [
        "dados\\\n",
        "    .groupBy('caracteristicas')\\\n",
        "    .count()\\\n",
        "    .orderBy('caracteristicas')\\\n",
        "    .show(truncate=False)"
      ],
      "metadata": {
        "colab": {
          "base_uri": "https://localhost:8080/"
        },
        "id": "ZPmsu5yGmFzB",
        "outputId": "d8a70356-fafb-4c28-be99-102a6d734b59"
      },
      "execution_count": null,
      "outputs": [
        {
          "output_type": "stream",
          "name": "stdout",
          "text": [
            "+--------------------------------------------------------------------------------------------------------------------------------------------------+-----+\n",
            "|caracteristicas                                                                                                                                   |count|\n",
            "+--------------------------------------------------------------------------------------------------------------------------------------------------+-----+\n",
            "|null                                                                                                                                              |12731|\n",
            "|[Academia]                                                                                                                                        |57   |\n",
            "|[Academia, Animais permitidos]                                                                                                                    |2    |\n",
            "|[Academia, Animais permitidos, Churrasqueira, Elevador, Piscina, Playground, Condomínio fechado, Salão de festas]                                 |1    |\n",
            "|[Academia, Animais permitidos, Churrasqueira, Elevador, Playground, Salão de festas, Piscina, Condomínio fechado]                                 |1    |\n",
            "|[Academia, Animais permitidos, Churrasqueira, Playground, Elevador, Piscina, Condomínio fechado, Salão de festas]                                 |1    |\n",
            "|[Academia, Animais permitidos, Churrasqueira, Salão de festas, Elevador]                                                                          |1    |\n",
            "|[Academia, Animais permitidos, Condomínio fechado, Churrasqueira, Piscina, Salão de festas, Elevador]                                             |1    |\n",
            "|[Academia, Animais permitidos, Condomínio fechado, Churrasqueira, Playground, Salão de festas, Elevador, Piscina]                                 |1    |\n",
            "|[Academia, Animais permitidos, Condomínio fechado, Elevador, Playground, Salão de festas, Piscina, Churrasqueira]                                 |1    |\n",
            "|[Academia, Animais permitidos, Condomínio fechado, Elevador, Salão de festas, Piscina, Churrasqueira, Playground]                                 |1    |\n",
            "|[Academia, Animais permitidos, Condomínio fechado, Piscina, Elevador, Churrasqueira, Playground, Salão de festas]                                 |1    |\n",
            "|[Academia, Animais permitidos, Elevador, Piscina, Salão de festas, Churrasqueira, Condomínio fechado, Playground]                                 |1    |\n",
            "|[Academia, Animais permitidos, Elevador, Playground, Churrasqueira, Salão de festas, Piscina, Portaria 24h, Condomínio fechado, Portão eletrônico]|1    |\n",
            "|[Academia, Animais permitidos, Elevador, Playground, Salão de festas, Churrasqueira, Condomínio fechado, Piscina]                                 |1    |\n",
            "|[Academia, Animais permitidos, Piscina, Churrasqueira, Condomínio fechado, Playground, Salão de festas]                                           |1    |\n",
            "|[Academia, Animais permitidos, Piscina, Churrasqueira, Salão de festas, Condomínio fechado, Elevador]                                             |1    |\n",
            "|[Academia, Animais permitidos, Piscina, Elevador, Churrasqueira, Salão de festas, Condomínio fechado, Playground]                                 |1    |\n",
            "|[Academia, Animais permitidos, Piscina, Elevador, Playground, Salão de festas]                                                                    |1    |\n",
            "|[Academia, Animais permitidos, Piscina, Playground, Salão de festas, Elevador, Condomínio fechado, Portão eletrônico, Portaria 24h]               |1    |\n",
            "+--------------------------------------------------------------------------------------------------------------------------------------------------+-----+\n",
            "only showing top 20 rows\n",
            "\n"
          ]
        }
      ]
    },
    {
      "cell_type": "markdown",
      "source": [
        "### Criando variáveis *dummy*"
      ],
      "metadata": {
        "id": "v_SjG7lHfP_h"
      }
    },
    {
      "cell_type": "markdown",
      "source": [
        "Os modelos não conseguem ler dados categóricos puros, por isso são utilizadas técnicas para transfomá-los em numeros, sendo um destes a criação de variáveis dummy\n",
        "\n",
        "As colunas que se enquadram nessa descrição são \"caracteristicas\" e \"zona\""
      ],
      "metadata": {
        "id": "qdYGxjmKjLzA"
      }
    },
    {
      "cell_type": "code",
      "source": [
        "# Essa coluna possui arrays, por isso foi utilizado o método explode para separar o array em novas amostras\n",
        "caracteristicas_dummy = dados\\\n",
        "    .select('id', f.explode('caracteristicas').alias('explode_caracteristicas'))\\\n",
        "    .groupBy('id')\\\n",
        "    .pivot('explode_caracteristicas')\\\n",
        "    .agg(f.lit(1))\\\n",
        "    .na\\\n",
        "    .fill(0)"
      ],
      "metadata": {
        "id": "TBPDkGOtrAFx"
      },
      "execution_count": null,
      "outputs": []
    },
    {
      "cell_type": "code",
      "source": [
        "zona_dummy = dados\\\n",
        "    .select(\n",
        "        'id', 'zona'\n",
        "    )\\\n",
        "    .groupBy('id')\\\n",
        "    .pivot('zona')\\\n",
        "    .agg(f.lit(1))\\\n",
        "    .na\\\n",
        "    .fill(0)"
      ],
      "metadata": {
        "id": "sWCHPSzcxoIL"
      },
      "execution_count": null,
      "outputs": []
    },
    {
      "cell_type": "code",
      "source": [
        "# Juntando as variáveis dummy aos dados principais utilizando join\n",
        "dados = dados\\\n",
        "    .join(caracteristicas_dummy, 'id', how='inner')\\\n",
        "    .join(zona_dummy, 'id', how='inner')"
      ],
      "metadata": {
        "id": "aOsEbRzrzuzi"
      },
      "execution_count": null,
      "outputs": []
    },
    {
      "cell_type": "code",
      "source": [
        "# Retirando as colunas originais\n",
        "dataset = dados\\\n",
        "    .drop('caracteristicas')\\\n",
        "    .drop('zona')"
      ],
      "metadata": {
        "id": "GG6oivcf0ukF"
      },
      "execution_count": null,
      "outputs": []
    },
    {
      "cell_type": "code",
      "source": [
        "# Conjunto de dados até agora\n",
        "dataset.show()"
      ],
      "metadata": {
        "colab": {
          "base_uri": "https://localhost:8080/"
        },
        "id": "JKZg2MK11JEa",
        "outputId": "00dd1997-a5c3-4d1e-f8c0-b924f9fc38aa"
      },
      "execution_count": null,
      "outputs": [
        {
          "output_type": "stream",
          "name": "stdout",
          "text": [
            "+--------------------+-----+----------+---------+---------+-------+------+----+----------+-------+---------+--------+------------------+-------------+------------------+--------+-------+----------+------------+-----------------+---------------+------------+----------+----------+--------+\n",
            "|                  id|andar|area_total|area_util|banheiros|quartos|suites|vaga|condominio|   iptu|    valor|Academia|Animais permitidos|Churrasqueira|Condomínio fechado|Elevador|Piscina|Playground|Portaria 24h|Portão eletrônico|Salão de festas|Zona Central|Zona Norte|Zona Oeste|Zona Sul|\n",
            "+--------------------+-----+----------+---------+---------+-------+------+----+----------+-------+---------+--------+------------------+-------------+------------------+--------+-------+----------+------------+-----------------+---------------+------------+----------+----------+--------+\n",
            "|fd96bbd5-d631-416...|    0|       0.0|     48.0|        1|      2|     1|   1|         1|    1.0| 315000.0|       1|                 1|            1|                 1|       1|      1|         1|           1|                1|              1|           0|         0|         1|       0|\n",
            "|bfffedfe-99e7-4ae...|    3|      60.0|     60.0|        2|      2|     0|   1|      1000|  700.0| 440000.0|       0|                 1|            1|                 1|       1|      0|         1|           0|                1|              1|           0|         1|         0|       0|\n",
            "|fcb67af3-5601-415...|    0|      69.0|     69.0|        2|      2|     1|   2|      1030| 2130.0| 629000.0|       1|                 1|            1|                 0|       0|      1|         1|           0|                0|              1|           0|         0|         1|       0|\n",
            "|afecddff-f4cc-4ab...|    4|      85.0|     85.0|        2|      2|     1|   1|       957| 2900.0|1100000.0|       1|                 1|            1|                 1|       1|      1|         1|           1|                1|              1|           0|         0|         0|       1|\n",
            "|1bbc40f3-4f5c-459...|    6|       0.0|    328.0|        4|      4|     4|   3|         0|    0.0| 1.0302E7|       1|                 0|            0|                 1|       1|      1|         1|           1|                1|              1|           0|         0|         0|       1|\n",
            "|fd26aeb2-a7b3-4f8...|    8|      54.0|     54.0|        2|      2|     1|   0|       350|  105.0| 340000.0|       1|                 1|            1|                 1|       1|      1|         1|           1|                1|              1|           1|         0|         0|       0|\n",
            "|10e9d118-dbad-43c...|    0|       0.0|     56.0|        2|      2|     1|   1|         0|    0.0| 359000.0|       0|                 1|            1|                 1|       0|      1|         1|           1|                1|              1|           0|         1|         0|       0|\n",
            "|ca1e84d7-86c8-4b1...|    0|      55.0|     55.0|        2|      2|     1|   1|       400|    1.0| 376000.0|       1|                 0|            1|                 1|       1|      1|         1|           1|                1|              1|           0|         1|         0|       0|\n",
            "|d9e139a5-e85d-4e1...|    1|      55.0|     55.0|        2|      3|     1|   1|         1|    1.0| 400100.0|       1|                 1|            1|                 1|       1|      1|         1|           1|                1|              1|           0|         0|         1|       0|\n",
            "|156a1fa5-37ca-43d...|    2|      74.0|     74.0|        2|      2|     1|   2|       790| 1400.0| 700000.0|       1|                 0|            1|                 1|       1|      1|         1|           1|                1|              1|           0|         0|         1|       0|\n",
            "|e7be09eb-6223-4b4...|    9|      87.0|     87.0|        2|      3|     1|   1|      1722| 2190.0| 733700.0|       1|                 1|            1|                 1|       1|      1|         1|           1|                1|              1|           0|         0|         1|       0|\n",
            "|631efda0-5e10-422...|    0|       0.0|     80.0|        1|      1|     1|   1|      1200|  235.0| 895000.0|       1|                 1|            1|                 1|       1|      1|         1|           1|                1|              1|           0|         0|         1|       0|\n",
            "|07cbfef2-efbf-4e8...|    1|     120.0|    120.0|        2|      3|     0|   0|       950|  270.0| 950000.0|       0|                 1|            0|                 0|       1|      0|         0|           1|                0|              0|           0|         0|         0|       1|\n",
            "|62baf185-103d-448...|    0|     100.0|    100.0|        2|      2|     1|   1|      2000|  290.0|1000000.0|       1|                 0|            1|                 1|       0|      1|         1|           0|                0|              0|           0|         0|         1|       0|\n",
            "|3030d17c-5681-4b2...|    2|      97.0|     97.0|        2|      2|     2|   1|      1260| 1500.0|1200000.0|       1|                 1|            1|                 1|       1|      1|         0|           1|                1|              1|           0|         0|         0|       1|\n",
            "|6179c8a4-1fd2-4f5...|    0|     356.0|    356.0|        8|      4|     4|   3|      4400|10000.0|2700000.0|       1|                 1|            0|                 1|       1|      1|         1|           1|                1|              1|           0|         0|         1|       0|\n",
            "|c284072a-7298-4e5...|    5|      55.0|     55.0|        2|      2|     1|   1|       460|  500.0| 320000.0|       1|                 1|            1|                 1|       1|      1|         1|           1|                1|              1|           0|         0|         1|       0|\n",
            "|7e43514c-3b40-4fb...|    6|       0.0|    113.0|        3|      3|     2|   2|       700|  150.0| 620000.0|       1|                 1|            1|                 1|       1|      1|         1|           1|                1|              1|           0|         0|         1|       0|\n",
            "|6a4ce9ac-1eb0-4d4...|    0|      75.0|     75.0|        2|      3|     1|   1|         0|    0.0| 740900.0|       1|                 0|            1|                 0|       1|      1|         1|           0|                0|              1|           0|         1|         0|       0|\n",
            "|bdc6127a-1d97-41b...|    0|     126.0|    126.0|        3|      2|     1|   2|      1640| 2583.0| 795000.0|       1|                 0|            1|                 0|       0|      0|         0|           0|                0|              1|           0|         1|         0|       0|\n",
            "+--------------------+-----+----------+---------+---------+-------+------+----+----------+-------+---------+--------+------------------+-------------+------------------+--------+-------+----------+------------+-----------------+---------------+------------+----------+----------+--------+\n",
            "only showing top 20 rows\n",
            "\n"
          ]
        }
      ]
    },
    {
      "cell_type": "markdown",
      "source": [
        "### Salvando dataset processado"
      ],
      "metadata": {
        "id": "YhOX9pF3Yr8T"
      }
    },
    {
      "cell_type": "markdown",
      "source": [
        "O dataset processado será salvo para utilizações futuras"
      ],
      "metadata": {
        "id": "otrgIpdNkSmg"
      }
    },
    {
      "cell_type": "code",
      "source": [
        "dataset.write.parquet(\n",
        "    '/content/dados/dataset_processado_ml',\n",
        "    'overwrite'\n",
        ")"
      ],
      "metadata": {
        "id": "L2dOYalrYv93"
      },
      "execution_count": null,
      "outputs": []
    },
    {
      "cell_type": "markdown",
      "source": [
        "### Preparando dados para inserção no modelo"
      ],
      "metadata": {
        "id": "BrTjhxRz00oa"
      }
    },
    {
      "cell_type": "code",
      "source": [
        "from pyspark.ml.feature import VectorAssembler"
      ],
      "metadata": {
        "id": "EKFgV6450y_6"
      },
      "execution_count": null,
      "outputs": []
    },
    {
      "cell_type": "code",
      "source": [
        "# Renomeando \"valor\" para \"label\"\n",
        "dataset = dataset.withColumnRenamed('valor', 'label')"
      ],
      "metadata": {
        "id": "eQan-T2T1Fcq"
      },
      "execution_count": null,
      "outputs": []
    },
    {
      "cell_type": "code",
      "source": [
        "# Selecionando as colunas que atuarão como features\n",
        "X = dataset.drop('id', 'label').columns"
      ],
      "metadata": {
        "id": "0hcNimoF1OGB"
      },
      "execution_count": null,
      "outputs": []
    },
    {
      "cell_type": "code",
      "source": [
        "X"
      ],
      "metadata": {
        "colab": {
          "base_uri": "https://localhost:8080/"
        },
        "id": "HNg9aq0h1Qlw",
        "outputId": "c92bfef1-21fd-4339-82d4-5adc76fe9d3a"
      },
      "execution_count": null,
      "outputs": [
        {
          "output_type": "execute_result",
          "data": {
            "text/plain": [
              "['andar',\n",
              " 'area_total',\n",
              " 'area_util',\n",
              " 'banheiros',\n",
              " 'quartos',\n",
              " 'suites',\n",
              " 'vaga',\n",
              " 'condominio',\n",
              " 'iptu',\n",
              " 'Academia',\n",
              " 'Animais permitidos',\n",
              " 'Churrasqueira',\n",
              " 'Condomínio fechado',\n",
              " 'Elevador',\n",
              " 'Piscina',\n",
              " 'Playground',\n",
              " 'Portaria 24h',\n",
              " 'Portão eletrônico',\n",
              " 'Salão de festas',\n",
              " 'Zona Central',\n",
              " 'Zona Norte',\n",
              " 'Zona Oeste',\n",
              " 'Zona Sul']"
            ]
          },
          "metadata": {},
          "execution_count": 29
        }
      ]
    },
    {
      "cell_type": "code",
      "source": [
        "assembler = VectorAssembler(inputCols=X, outputCol='features')"
      ],
      "metadata": {
        "id": "DI2nPyOD1Xra"
      },
      "execution_count": null,
      "outputs": []
    },
    {
      "cell_type": "code",
      "source": [
        "# Transformando os dados em vetores\n",
        "dataset_prep = assembler.transform(dataset).select('features', 'label')"
      ],
      "metadata": {
        "id": "O4RrpHzg1cgR"
      },
      "execution_count": null,
      "outputs": []
    },
    {
      "cell_type": "code",
      "source": [
        "dataset_prep.show()"
      ],
      "metadata": {
        "colab": {
          "base_uri": "https://localhost:8080/"
        },
        "id": "vpOjz2cvk9xD",
        "outputId": "17c5118d-47ea-46ae-d3c4-0ae66435b91c"
      },
      "execution_count": 75,
      "outputs": [
        {
          "output_type": "stream",
          "name": "stdout",
          "text": [
            "+--------------------+---------+\n",
            "|            features|    label|\n",
            "+--------------------+---------+\n",
            "|[0.0,0.0,48.0,1.0...| 315000.0|\n",
            "|[3.0,60.0,60.0,2....| 440000.0|\n",
            "|[0.0,69.0,69.0,2....| 629000.0|\n",
            "|[4.0,85.0,85.0,2....|1100000.0|\n",
            "|[6.0,0.0,328.0,4....| 1.0302E7|\n",
            "|[8.0,54.0,54.0,2....| 340000.0|\n",
            "|(23,[2,3,4,5,6,10...| 359000.0|\n",
            "|[0.0,55.0,55.0,2....| 376000.0|\n",
            "|[1.0,55.0,55.0,2....| 400100.0|\n",
            "|[2.0,74.0,74.0,2....| 700000.0|\n",
            "|[9.0,87.0,87.0,2....| 733700.0|\n",
            "|[0.0,0.0,80.0,1.0...| 895000.0|\n",
            "|(23,[0,1,2,3,4,7,...| 950000.0|\n",
            "|(23,[1,2,3,4,5,6,...|1000000.0|\n",
            "|[2.0,97.0,97.0,2....|1200000.0|\n",
            "|[0.0,356.0,356.0,...|2700000.0|\n",
            "|[5.0,55.0,55.0,2....| 320000.0|\n",
            "|[6.0,0.0,113.0,3....| 620000.0|\n",
            "|(23,[1,2,3,4,5,6,...| 740900.0|\n",
            "|(23,[1,2,3,4,5,6,...| 795000.0|\n",
            "+--------------------+---------+\n",
            "only showing top 20 rows\n",
            "\n"
          ]
        }
      ]
    },
    {
      "cell_type": "markdown",
      "source": [
        "### Verificando correlação entre as variáveis"
      ],
      "metadata": {
        "id": "RsoX9jhHWgPM"
      }
    },
    {
      "cell_type": "code",
      "source": [
        "from pyspark.ml.stat import Correlation\n",
        "import pandas as pd"
      ],
      "metadata": {
        "id": "PGrZ_Ldk1nUR"
      },
      "execution_count": null,
      "outputs": []
    },
    {
      "cell_type": "code",
      "source": [
        "correlacao = Correlation.corr(dataset_prep, 'features').collect()"
      ],
      "metadata": {
        "id": "FYSGWon_2OY6"
      },
      "execution_count": null,
      "outputs": []
    },
    {
      "cell_type": "code",
      "source": [
        "correlacao = correlacao[0][0]"
      ],
      "metadata": {
        "id": "OkDYm9Kl2Wlp"
      },
      "execution_count": null,
      "outputs": []
    },
    {
      "cell_type": "code",
      "source": [
        "df_corr = pd.DataFrame(correlacao.toArray(), columns=X, index=X)"
      ],
      "metadata": {
        "id": "g6sZvdI72aAR"
      },
      "execution_count": null,
      "outputs": []
    },
    {
      "cell_type": "code",
      "source": [
        "df_corr"
      ],
      "metadata": {
        "colab": {
          "base_uri": "https://localhost:8080/",
          "height": 951
        },
        "id": "aT9TKmMG2nAB",
        "outputId": "ef4bc992-cdcc-484e-8210-80917363bbb9"
      },
      "execution_count": null,
      "outputs": [
        {
          "output_type": "execute_result",
          "data": {
            "text/plain": [
              "                       andar  area_total  area_util  banheiros   quartos  \\\n",
              "andar               1.000000    0.000233   0.020889   0.015930  0.009954   \n",
              "area_total          0.000233    1.000000  -0.002097   0.001330  0.001144   \n",
              "area_util           0.020889   -0.002097   1.000000   0.686366  0.674062   \n",
              "banheiros           0.015930    0.001330   0.686366   1.000000  0.667164   \n",
              "quartos             0.009954    0.001144   0.674062   0.667164  1.000000   \n",
              "suites              0.017759   -0.000666   0.632294   0.741722  0.596462   \n",
              "vaga                0.013261    0.000364   0.491658   0.458799  0.447261   \n",
              "condominio          0.004862   -0.000358   0.045239   0.026960  0.022126   \n",
              "iptu               -0.000513   -0.000242   0.022311   0.014011  0.017929   \n",
              "Academia            0.047240    0.005776   0.006967   0.085130  0.074023   \n",
              "Animais permitidos  0.088243    0.008299  -0.010923  -0.043620 -0.026625   \n",
              "Churrasqueira       0.024563    0.007209  -0.024583   0.040106  0.076368   \n",
              "Condomínio fechado  0.076296    0.006178  -0.010113  -0.022443 -0.001011   \n",
              "Elevador            0.050480    0.004467   0.033466   0.061639  0.036810   \n",
              "Piscina             0.021052    0.006181   0.028465   0.111956  0.104275   \n",
              "Playground          0.033553    0.006966  -0.014270   0.069803  0.096806   \n",
              "Portaria 24h        0.074800    0.007467  -0.025044  -0.056596 -0.028381   \n",
              "Portão eletrônico   0.068083    0.007831   0.002254  -0.033011 -0.019777   \n",
              "Salão de festas     0.038230    0.007405  -0.028293   0.056768  0.076783   \n",
              "Zona Central        0.035354    0.002431  -0.107634  -0.132955 -0.168396   \n",
              "Zona Norte         -0.009712   -0.000145  -0.170873  -0.166267 -0.124420   \n",
              "Zona Oeste         -0.000230    0.004768   0.133501   0.197056  0.185675   \n",
              "Zona Sul           -0.002185   -0.005932   0.028488  -0.038690 -0.050780   \n",
              "\n",
              "                      suites      vaga  condominio      iptu  Academia  ...  \\\n",
              "andar               0.017759  0.013261    0.004862 -0.000513  0.047240  ...   \n",
              "area_total         -0.000666  0.000364   -0.000358 -0.000242  0.005776  ...   \n",
              "area_util           0.632294  0.491658    0.045239  0.022311  0.006967  ...   \n",
              "banheiros           0.741722  0.458799    0.026960  0.014011  0.085130  ...   \n",
              "quartos             0.596462  0.447261    0.022126  0.017929  0.074023  ...   \n",
              "suites              1.000000  0.464657    0.028670  0.011209  0.244828  ...   \n",
              "vaga                0.464657  1.000000    0.024853  0.011946  0.136633  ...   \n",
              "condominio          0.028670  0.024853    1.000000  0.205853  0.011718  ...   \n",
              "iptu                0.011209  0.011946    0.205853  1.000000 -0.000156  ...   \n",
              "Academia            0.244828  0.136633    0.011718 -0.000156  1.000000  ...   \n",
              "Animais permitidos  0.028458  0.009153    0.009532 -0.006413  0.278314  ...   \n",
              "Churrasqueira       0.175256  0.125387    0.001431 -0.007983  0.601459  ...   \n",
              "Condomínio fechado  0.115753  0.057152    0.008864 -0.011222  0.487405  ...   \n",
              "Elevador            0.084341  0.023170    0.009650  0.001213  0.270428  ...   \n",
              "Piscina             0.273196  0.174891    0.006297 -0.001890  0.688896  ...   \n",
              "Playground          0.179403  0.127828    0.005923 -0.003613  0.595288  ...   \n",
              "Portaria 24h        0.046470  0.004867    0.008875 -0.005602  0.381260  ...   \n",
              "Portão eletrônico   0.059335  0.020121    0.002302 -0.009092  0.292719  ...   \n",
              "Salão de festas     0.160148  0.127242    0.005211 -0.003528  0.619865  ...   \n",
              "Zona Central       -0.110830 -0.104357   -0.004732 -0.003941  0.039871  ...   \n",
              "Zona Norte         -0.213892 -0.108763   -0.010113 -0.008811 -0.136884  ...   \n",
              "Zona Oeste          0.278102  0.247438    0.000279 -0.007506  0.367612  ...   \n",
              "Zona Sul           -0.095412 -0.152326    0.009697  0.017040 -0.306140  ...   \n",
              "\n",
              "                    Elevador   Piscina  Playground  Portaria 24h  \\\n",
              "andar               0.050480  0.021052    0.033553      0.074800   \n",
              "area_total          0.004467  0.006181    0.006966      0.007467   \n",
              "area_util           0.033466  0.028465   -0.014270     -0.025044   \n",
              "banheiros           0.061639  0.111956    0.069803     -0.056596   \n",
              "quartos             0.036810  0.104275    0.096806     -0.028381   \n",
              "suites              0.084341  0.273196    0.179403      0.046470   \n",
              "vaga                0.023170  0.174891    0.127828      0.004867   \n",
              "condominio          0.009650  0.006297    0.005923      0.008875   \n",
              "iptu                0.001213 -0.001890   -0.003613     -0.005602   \n",
              "Academia            0.270428  0.688896    0.595288      0.381260   \n",
              "Animais permitidos  0.252789  0.109882    0.170610      0.589621   \n",
              "Churrasqueira       0.112706  0.680302    0.524314      0.208727   \n",
              "Condomínio fechado  0.288652  0.326151    0.318745      0.608784   \n",
              "Elevador            1.000000  0.139805    0.167879      0.334189   \n",
              "Piscina             0.139805  1.000000    0.541208      0.218429   \n",
              "Playground          0.167879  0.541208    1.000000      0.276673   \n",
              "Portaria 24h        0.334189  0.218429    0.276673      1.000000   \n",
              "Portão eletrônico   0.290655  0.137687    0.193190      0.731803   \n",
              "Salão de festas     0.164465  0.545742    0.660977      0.307590   \n",
              "Zona Central        0.033248  0.003356   -0.016356      0.047241   \n",
              "Zona Norte         -0.017984 -0.157210   -0.032312     -0.077716   \n",
              "Zona Oeste         -0.062057  0.459694    0.276601      0.017812   \n",
              "Zona Sul            0.074459 -0.380620   -0.276301      0.031777   \n",
              "\n",
              "                    Portão eletrônico  Salão de festas  Zona Central  \\\n",
              "andar                        0.068083         0.038230      0.035354   \n",
              "area_total                   0.007831         0.007405      0.002431   \n",
              "area_util                    0.002254        -0.028293     -0.107634   \n",
              "banheiros                   -0.033011         0.056768     -0.132955   \n",
              "quartos                     -0.019777         0.076783     -0.168396   \n",
              "suites                       0.059335         0.160148     -0.110830   \n",
              "vaga                         0.020121         0.127242     -0.104357   \n",
              "condominio                   0.002302         0.005211     -0.004732   \n",
              "iptu                        -0.009092        -0.003528     -0.003941   \n",
              "Academia                     0.292719         0.619865      0.039871   \n",
              "Animais permitidos           0.613032         0.216872      0.054028   \n",
              "Churrasqueira                0.144999         0.544167     -0.010422   \n",
              "Condomínio fechado           0.595954         0.351153      0.044807   \n",
              "Elevador                     0.290655         0.164465      0.033248   \n",
              "Piscina                      0.137687         0.545742      0.003356   \n",
              "Playground                   0.193190         0.660977     -0.016356   \n",
              "Portaria 24h                 0.731803         0.307590      0.047241   \n",
              "Portão eletrônico            1.000000         0.220558      0.039939   \n",
              "Salão de festas              0.220558         1.000000     -0.003007   \n",
              "Zona Central                 0.039939        -0.003007      1.000000   \n",
              "Zona Norte                  -0.027154        -0.008943     -0.063251   \n",
              "Zona Oeste                   0.020076         0.300488     -0.146381   \n",
              "Zona Sul                    -0.011434        -0.326811     -0.085091   \n",
              "\n",
              "                    Zona Norte  Zona Oeste  Zona Sul  \n",
              "andar                -0.009712   -0.000230 -0.002185  \n",
              "area_total           -0.000145    0.004768 -0.005932  \n",
              "area_util            -0.170873    0.133501  0.028488  \n",
              "banheiros            -0.166267    0.197056 -0.038690  \n",
              "quartos              -0.124420    0.185675 -0.050780  \n",
              "suites               -0.213892    0.278102 -0.095412  \n",
              "vaga                 -0.108763    0.247438 -0.152326  \n",
              "condominio           -0.010113    0.000279  0.009697  \n",
              "iptu                 -0.008811   -0.007506  0.017040  \n",
              "Academia             -0.136884    0.367612 -0.306140  \n",
              "Animais permitidos   -0.019250    0.022542 -0.025147  \n",
              "Churrasqueira        -0.050767    0.439720 -0.444459  \n",
              "Condomínio fechado   -0.101256    0.190343 -0.140044  \n",
              "Elevador             -0.017984   -0.062057  0.074459  \n",
              "Piscina              -0.157210    0.459694 -0.380620  \n",
              "Playground           -0.032312    0.276601 -0.276301  \n",
              "Portaria 24h         -0.077716    0.017812  0.031777  \n",
              "Portão eletrônico    -0.027154    0.020076 -0.011434  \n",
              "Salão de festas      -0.008943    0.300488 -0.326811  \n",
              "Zona Central         -0.063251   -0.146381 -0.085091  \n",
              "Zona Norte            1.000000   -0.488545 -0.283992  \n",
              "Zona Oeste           -0.488545    1.000000 -0.657242  \n",
              "Zona Sul             -0.283992   -0.657242  1.000000  \n",
              "\n",
              "[23 rows x 23 columns]"
            ],
            "text/html": [
              "\n",
              "  <div id=\"df-865bb0b0-d6c9-4620-8def-cf8f277c8758\">\n",
              "    <div class=\"colab-df-container\">\n",
              "      <div>\n",
              "<style scoped>\n",
              "    .dataframe tbody tr th:only-of-type {\n",
              "        vertical-align: middle;\n",
              "    }\n",
              "\n",
              "    .dataframe tbody tr th {\n",
              "        vertical-align: top;\n",
              "    }\n",
              "\n",
              "    .dataframe thead th {\n",
              "        text-align: right;\n",
              "    }\n",
              "</style>\n",
              "<table border=\"1\" class=\"dataframe\">\n",
              "  <thead>\n",
              "    <tr style=\"text-align: right;\">\n",
              "      <th></th>\n",
              "      <th>andar</th>\n",
              "      <th>area_total</th>\n",
              "      <th>area_util</th>\n",
              "      <th>banheiros</th>\n",
              "      <th>quartos</th>\n",
              "      <th>suites</th>\n",
              "      <th>vaga</th>\n",
              "      <th>condominio</th>\n",
              "      <th>iptu</th>\n",
              "      <th>Academia</th>\n",
              "      <th>...</th>\n",
              "      <th>Elevador</th>\n",
              "      <th>Piscina</th>\n",
              "      <th>Playground</th>\n",
              "      <th>Portaria 24h</th>\n",
              "      <th>Portão eletrônico</th>\n",
              "      <th>Salão de festas</th>\n",
              "      <th>Zona Central</th>\n",
              "      <th>Zona Norte</th>\n",
              "      <th>Zona Oeste</th>\n",
              "      <th>Zona Sul</th>\n",
              "    </tr>\n",
              "  </thead>\n",
              "  <tbody>\n",
              "    <tr>\n",
              "      <th>andar</th>\n",
              "      <td>1.000000</td>\n",
              "      <td>0.000233</td>\n",
              "      <td>0.020889</td>\n",
              "      <td>0.015930</td>\n",
              "      <td>0.009954</td>\n",
              "      <td>0.017759</td>\n",
              "      <td>0.013261</td>\n",
              "      <td>0.004862</td>\n",
              "      <td>-0.000513</td>\n",
              "      <td>0.047240</td>\n",
              "      <td>...</td>\n",
              "      <td>0.050480</td>\n",
              "      <td>0.021052</td>\n",
              "      <td>0.033553</td>\n",
              "      <td>0.074800</td>\n",
              "      <td>0.068083</td>\n",
              "      <td>0.038230</td>\n",
              "      <td>0.035354</td>\n",
              "      <td>-0.009712</td>\n",
              "      <td>-0.000230</td>\n",
              "      <td>-0.002185</td>\n",
              "    </tr>\n",
              "    <tr>\n",
              "      <th>area_total</th>\n",
              "      <td>0.000233</td>\n",
              "      <td>1.000000</td>\n",
              "      <td>-0.002097</td>\n",
              "      <td>0.001330</td>\n",
              "      <td>0.001144</td>\n",
              "      <td>-0.000666</td>\n",
              "      <td>0.000364</td>\n",
              "      <td>-0.000358</td>\n",
              "      <td>-0.000242</td>\n",
              "      <td>0.005776</td>\n",
              "      <td>...</td>\n",
              "      <td>0.004467</td>\n",
              "      <td>0.006181</td>\n",
              "      <td>0.006966</td>\n",
              "      <td>0.007467</td>\n",
              "      <td>0.007831</td>\n",
              "      <td>0.007405</td>\n",
              "      <td>0.002431</td>\n",
              "      <td>-0.000145</td>\n",
              "      <td>0.004768</td>\n",
              "      <td>-0.005932</td>\n",
              "    </tr>\n",
              "    <tr>\n",
              "      <th>area_util</th>\n",
              "      <td>0.020889</td>\n",
              "      <td>-0.002097</td>\n",
              "      <td>1.000000</td>\n",
              "      <td>0.686366</td>\n",
              "      <td>0.674062</td>\n",
              "      <td>0.632294</td>\n",
              "      <td>0.491658</td>\n",
              "      <td>0.045239</td>\n",
              "      <td>0.022311</td>\n",
              "      <td>0.006967</td>\n",
              "      <td>...</td>\n",
              "      <td>0.033466</td>\n",
              "      <td>0.028465</td>\n",
              "      <td>-0.014270</td>\n",
              "      <td>-0.025044</td>\n",
              "      <td>0.002254</td>\n",
              "      <td>-0.028293</td>\n",
              "      <td>-0.107634</td>\n",
              "      <td>-0.170873</td>\n",
              "      <td>0.133501</td>\n",
              "      <td>0.028488</td>\n",
              "    </tr>\n",
              "    <tr>\n",
              "      <th>banheiros</th>\n",
              "      <td>0.015930</td>\n",
              "      <td>0.001330</td>\n",
              "      <td>0.686366</td>\n",
              "      <td>1.000000</td>\n",
              "      <td>0.667164</td>\n",
              "      <td>0.741722</td>\n",
              "      <td>0.458799</td>\n",
              "      <td>0.026960</td>\n",
              "      <td>0.014011</td>\n",
              "      <td>0.085130</td>\n",
              "      <td>...</td>\n",
              "      <td>0.061639</td>\n",
              "      <td>0.111956</td>\n",
              "      <td>0.069803</td>\n",
              "      <td>-0.056596</td>\n",
              "      <td>-0.033011</td>\n",
              "      <td>0.056768</td>\n",
              "      <td>-0.132955</td>\n",
              "      <td>-0.166267</td>\n",
              "      <td>0.197056</td>\n",
              "      <td>-0.038690</td>\n",
              "    </tr>\n",
              "    <tr>\n",
              "      <th>quartos</th>\n",
              "      <td>0.009954</td>\n",
              "      <td>0.001144</td>\n",
              "      <td>0.674062</td>\n",
              "      <td>0.667164</td>\n",
              "      <td>1.000000</td>\n",
              "      <td>0.596462</td>\n",
              "      <td>0.447261</td>\n",
              "      <td>0.022126</td>\n",
              "      <td>0.017929</td>\n",
              "      <td>0.074023</td>\n",
              "      <td>...</td>\n",
              "      <td>0.036810</td>\n",
              "      <td>0.104275</td>\n",
              "      <td>0.096806</td>\n",
              "      <td>-0.028381</td>\n",
              "      <td>-0.019777</td>\n",
              "      <td>0.076783</td>\n",
              "      <td>-0.168396</td>\n",
              "      <td>-0.124420</td>\n",
              "      <td>0.185675</td>\n",
              "      <td>-0.050780</td>\n",
              "    </tr>\n",
              "    <tr>\n",
              "      <th>suites</th>\n",
              "      <td>0.017759</td>\n",
              "      <td>-0.000666</td>\n",
              "      <td>0.632294</td>\n",
              "      <td>0.741722</td>\n",
              "      <td>0.596462</td>\n",
              "      <td>1.000000</td>\n",
              "      <td>0.464657</td>\n",
              "      <td>0.028670</td>\n",
              "      <td>0.011209</td>\n",
              "      <td>0.244828</td>\n",
              "      <td>...</td>\n",
              "      <td>0.084341</td>\n",
              "      <td>0.273196</td>\n",
              "      <td>0.179403</td>\n",
              "      <td>0.046470</td>\n",
              "      <td>0.059335</td>\n",
              "      <td>0.160148</td>\n",
              "      <td>-0.110830</td>\n",
              "      <td>-0.213892</td>\n",
              "      <td>0.278102</td>\n",
              "      <td>-0.095412</td>\n",
              "    </tr>\n",
              "    <tr>\n",
              "      <th>vaga</th>\n",
              "      <td>0.013261</td>\n",
              "      <td>0.000364</td>\n",
              "      <td>0.491658</td>\n",
              "      <td>0.458799</td>\n",
              "      <td>0.447261</td>\n",
              "      <td>0.464657</td>\n",
              "      <td>1.000000</td>\n",
              "      <td>0.024853</td>\n",
              "      <td>0.011946</td>\n",
              "      <td>0.136633</td>\n",
              "      <td>...</td>\n",
              "      <td>0.023170</td>\n",
              "      <td>0.174891</td>\n",
              "      <td>0.127828</td>\n",
              "      <td>0.004867</td>\n",
              "      <td>0.020121</td>\n",
              "      <td>0.127242</td>\n",
              "      <td>-0.104357</td>\n",
              "      <td>-0.108763</td>\n",
              "      <td>0.247438</td>\n",
              "      <td>-0.152326</td>\n",
              "    </tr>\n",
              "    <tr>\n",
              "      <th>condominio</th>\n",
              "      <td>0.004862</td>\n",
              "      <td>-0.000358</td>\n",
              "      <td>0.045239</td>\n",
              "      <td>0.026960</td>\n",
              "      <td>0.022126</td>\n",
              "      <td>0.028670</td>\n",
              "      <td>0.024853</td>\n",
              "      <td>1.000000</td>\n",
              "      <td>0.205853</td>\n",
              "      <td>0.011718</td>\n",
              "      <td>...</td>\n",
              "      <td>0.009650</td>\n",
              "      <td>0.006297</td>\n",
              "      <td>0.005923</td>\n",
              "      <td>0.008875</td>\n",
              "      <td>0.002302</td>\n",
              "      <td>0.005211</td>\n",
              "      <td>-0.004732</td>\n",
              "      <td>-0.010113</td>\n",
              "      <td>0.000279</td>\n",
              "      <td>0.009697</td>\n",
              "    </tr>\n",
              "    <tr>\n",
              "      <th>iptu</th>\n",
              "      <td>-0.000513</td>\n",
              "      <td>-0.000242</td>\n",
              "      <td>0.022311</td>\n",
              "      <td>0.014011</td>\n",
              "      <td>0.017929</td>\n",
              "      <td>0.011209</td>\n",
              "      <td>0.011946</td>\n",
              "      <td>0.205853</td>\n",
              "      <td>1.000000</td>\n",
              "      <td>-0.000156</td>\n",
              "      <td>...</td>\n",
              "      <td>0.001213</td>\n",
              "      <td>-0.001890</td>\n",
              "      <td>-0.003613</td>\n",
              "      <td>-0.005602</td>\n",
              "      <td>-0.009092</td>\n",
              "      <td>-0.003528</td>\n",
              "      <td>-0.003941</td>\n",
              "      <td>-0.008811</td>\n",
              "      <td>-0.007506</td>\n",
              "      <td>0.017040</td>\n",
              "    </tr>\n",
              "    <tr>\n",
              "      <th>Academia</th>\n",
              "      <td>0.047240</td>\n",
              "      <td>0.005776</td>\n",
              "      <td>0.006967</td>\n",
              "      <td>0.085130</td>\n",
              "      <td>0.074023</td>\n",
              "      <td>0.244828</td>\n",
              "      <td>0.136633</td>\n",
              "      <td>0.011718</td>\n",
              "      <td>-0.000156</td>\n",
              "      <td>1.000000</td>\n",
              "      <td>...</td>\n",
              "      <td>0.270428</td>\n",
              "      <td>0.688896</td>\n",
              "      <td>0.595288</td>\n",
              "      <td>0.381260</td>\n",
              "      <td>0.292719</td>\n",
              "      <td>0.619865</td>\n",
              "      <td>0.039871</td>\n",
              "      <td>-0.136884</td>\n",
              "      <td>0.367612</td>\n",
              "      <td>-0.306140</td>\n",
              "    </tr>\n",
              "    <tr>\n",
              "      <th>Animais permitidos</th>\n",
              "      <td>0.088243</td>\n",
              "      <td>0.008299</td>\n",
              "      <td>-0.010923</td>\n",
              "      <td>-0.043620</td>\n",
              "      <td>-0.026625</td>\n",
              "      <td>0.028458</td>\n",
              "      <td>0.009153</td>\n",
              "      <td>0.009532</td>\n",
              "      <td>-0.006413</td>\n",
              "      <td>0.278314</td>\n",
              "      <td>...</td>\n",
              "      <td>0.252789</td>\n",
              "      <td>0.109882</td>\n",
              "      <td>0.170610</td>\n",
              "      <td>0.589621</td>\n",
              "      <td>0.613032</td>\n",
              "      <td>0.216872</td>\n",
              "      <td>0.054028</td>\n",
              "      <td>-0.019250</td>\n",
              "      <td>0.022542</td>\n",
              "      <td>-0.025147</td>\n",
              "    </tr>\n",
              "    <tr>\n",
              "      <th>Churrasqueira</th>\n",
              "      <td>0.024563</td>\n",
              "      <td>0.007209</td>\n",
              "      <td>-0.024583</td>\n",
              "      <td>0.040106</td>\n",
              "      <td>0.076368</td>\n",
              "      <td>0.175256</td>\n",
              "      <td>0.125387</td>\n",
              "      <td>0.001431</td>\n",
              "      <td>-0.007983</td>\n",
              "      <td>0.601459</td>\n",
              "      <td>...</td>\n",
              "      <td>0.112706</td>\n",
              "      <td>0.680302</td>\n",
              "      <td>0.524314</td>\n",
              "      <td>0.208727</td>\n",
              "      <td>0.144999</td>\n",
              "      <td>0.544167</td>\n",
              "      <td>-0.010422</td>\n",
              "      <td>-0.050767</td>\n",
              "      <td>0.439720</td>\n",
              "      <td>-0.444459</td>\n",
              "    </tr>\n",
              "    <tr>\n",
              "      <th>Condomínio fechado</th>\n",
              "      <td>0.076296</td>\n",
              "      <td>0.006178</td>\n",
              "      <td>-0.010113</td>\n",
              "      <td>-0.022443</td>\n",
              "      <td>-0.001011</td>\n",
              "      <td>0.115753</td>\n",
              "      <td>0.057152</td>\n",
              "      <td>0.008864</td>\n",
              "      <td>-0.011222</td>\n",
              "      <td>0.487405</td>\n",
              "      <td>...</td>\n",
              "      <td>0.288652</td>\n",
              "      <td>0.326151</td>\n",
              "      <td>0.318745</td>\n",
              "      <td>0.608784</td>\n",
              "      <td>0.595954</td>\n",
              "      <td>0.351153</td>\n",
              "      <td>0.044807</td>\n",
              "      <td>-0.101256</td>\n",
              "      <td>0.190343</td>\n",
              "      <td>-0.140044</td>\n",
              "    </tr>\n",
              "    <tr>\n",
              "      <th>Elevador</th>\n",
              "      <td>0.050480</td>\n",
              "      <td>0.004467</td>\n",
              "      <td>0.033466</td>\n",
              "      <td>0.061639</td>\n",
              "      <td>0.036810</td>\n",
              "      <td>0.084341</td>\n",
              "      <td>0.023170</td>\n",
              "      <td>0.009650</td>\n",
              "      <td>0.001213</td>\n",
              "      <td>0.270428</td>\n",
              "      <td>...</td>\n",
              "      <td>1.000000</td>\n",
              "      <td>0.139805</td>\n",
              "      <td>0.167879</td>\n",
              "      <td>0.334189</td>\n",
              "      <td>0.290655</td>\n",
              "      <td>0.164465</td>\n",
              "      <td>0.033248</td>\n",
              "      <td>-0.017984</td>\n",
              "      <td>-0.062057</td>\n",
              "      <td>0.074459</td>\n",
              "    </tr>\n",
              "    <tr>\n",
              "      <th>Piscina</th>\n",
              "      <td>0.021052</td>\n",
              "      <td>0.006181</td>\n",
              "      <td>0.028465</td>\n",
              "      <td>0.111956</td>\n",
              "      <td>0.104275</td>\n",
              "      <td>0.273196</td>\n",
              "      <td>0.174891</td>\n",
              "      <td>0.006297</td>\n",
              "      <td>-0.001890</td>\n",
              "      <td>0.688896</td>\n",
              "      <td>...</td>\n",
              "      <td>0.139805</td>\n",
              "      <td>1.000000</td>\n",
              "      <td>0.541208</td>\n",
              "      <td>0.218429</td>\n",
              "      <td>0.137687</td>\n",
              "      <td>0.545742</td>\n",
              "      <td>0.003356</td>\n",
              "      <td>-0.157210</td>\n",
              "      <td>0.459694</td>\n",
              "      <td>-0.380620</td>\n",
              "    </tr>\n",
              "    <tr>\n",
              "      <th>Playground</th>\n",
              "      <td>0.033553</td>\n",
              "      <td>0.006966</td>\n",
              "      <td>-0.014270</td>\n",
              "      <td>0.069803</td>\n",
              "      <td>0.096806</td>\n",
              "      <td>0.179403</td>\n",
              "      <td>0.127828</td>\n",
              "      <td>0.005923</td>\n",
              "      <td>-0.003613</td>\n",
              "      <td>0.595288</td>\n",
              "      <td>...</td>\n",
              "      <td>0.167879</td>\n",
              "      <td>0.541208</td>\n",
              "      <td>1.000000</td>\n",
              "      <td>0.276673</td>\n",
              "      <td>0.193190</td>\n",
              "      <td>0.660977</td>\n",
              "      <td>-0.016356</td>\n",
              "      <td>-0.032312</td>\n",
              "      <td>0.276601</td>\n",
              "      <td>-0.276301</td>\n",
              "    </tr>\n",
              "    <tr>\n",
              "      <th>Portaria 24h</th>\n",
              "      <td>0.074800</td>\n",
              "      <td>0.007467</td>\n",
              "      <td>-0.025044</td>\n",
              "      <td>-0.056596</td>\n",
              "      <td>-0.028381</td>\n",
              "      <td>0.046470</td>\n",
              "      <td>0.004867</td>\n",
              "      <td>0.008875</td>\n",
              "      <td>-0.005602</td>\n",
              "      <td>0.381260</td>\n",
              "      <td>...</td>\n",
              "      <td>0.334189</td>\n",
              "      <td>0.218429</td>\n",
              "      <td>0.276673</td>\n",
              "      <td>1.000000</td>\n",
              "      <td>0.731803</td>\n",
              "      <td>0.307590</td>\n",
              "      <td>0.047241</td>\n",
              "      <td>-0.077716</td>\n",
              "      <td>0.017812</td>\n",
              "      <td>0.031777</td>\n",
              "    </tr>\n",
              "    <tr>\n",
              "      <th>Portão eletrônico</th>\n",
              "      <td>0.068083</td>\n",
              "      <td>0.007831</td>\n",
              "      <td>0.002254</td>\n",
              "      <td>-0.033011</td>\n",
              "      <td>-0.019777</td>\n",
              "      <td>0.059335</td>\n",
              "      <td>0.020121</td>\n",
              "      <td>0.002302</td>\n",
              "      <td>-0.009092</td>\n",
              "      <td>0.292719</td>\n",
              "      <td>...</td>\n",
              "      <td>0.290655</td>\n",
              "      <td>0.137687</td>\n",
              "      <td>0.193190</td>\n",
              "      <td>0.731803</td>\n",
              "      <td>1.000000</td>\n",
              "      <td>0.220558</td>\n",
              "      <td>0.039939</td>\n",
              "      <td>-0.027154</td>\n",
              "      <td>0.020076</td>\n",
              "      <td>-0.011434</td>\n",
              "    </tr>\n",
              "    <tr>\n",
              "      <th>Salão de festas</th>\n",
              "      <td>0.038230</td>\n",
              "      <td>0.007405</td>\n",
              "      <td>-0.028293</td>\n",
              "      <td>0.056768</td>\n",
              "      <td>0.076783</td>\n",
              "      <td>0.160148</td>\n",
              "      <td>0.127242</td>\n",
              "      <td>0.005211</td>\n",
              "      <td>-0.003528</td>\n",
              "      <td>0.619865</td>\n",
              "      <td>...</td>\n",
              "      <td>0.164465</td>\n",
              "      <td>0.545742</td>\n",
              "      <td>0.660977</td>\n",
              "      <td>0.307590</td>\n",
              "      <td>0.220558</td>\n",
              "      <td>1.000000</td>\n",
              "      <td>-0.003007</td>\n",
              "      <td>-0.008943</td>\n",
              "      <td>0.300488</td>\n",
              "      <td>-0.326811</td>\n",
              "    </tr>\n",
              "    <tr>\n",
              "      <th>Zona Central</th>\n",
              "      <td>0.035354</td>\n",
              "      <td>0.002431</td>\n",
              "      <td>-0.107634</td>\n",
              "      <td>-0.132955</td>\n",
              "      <td>-0.168396</td>\n",
              "      <td>-0.110830</td>\n",
              "      <td>-0.104357</td>\n",
              "      <td>-0.004732</td>\n",
              "      <td>-0.003941</td>\n",
              "      <td>0.039871</td>\n",
              "      <td>...</td>\n",
              "      <td>0.033248</td>\n",
              "      <td>0.003356</td>\n",
              "      <td>-0.016356</td>\n",
              "      <td>0.047241</td>\n",
              "      <td>0.039939</td>\n",
              "      <td>-0.003007</td>\n",
              "      <td>1.000000</td>\n",
              "      <td>-0.063251</td>\n",
              "      <td>-0.146381</td>\n",
              "      <td>-0.085091</td>\n",
              "    </tr>\n",
              "    <tr>\n",
              "      <th>Zona Norte</th>\n",
              "      <td>-0.009712</td>\n",
              "      <td>-0.000145</td>\n",
              "      <td>-0.170873</td>\n",
              "      <td>-0.166267</td>\n",
              "      <td>-0.124420</td>\n",
              "      <td>-0.213892</td>\n",
              "      <td>-0.108763</td>\n",
              "      <td>-0.010113</td>\n",
              "      <td>-0.008811</td>\n",
              "      <td>-0.136884</td>\n",
              "      <td>...</td>\n",
              "      <td>-0.017984</td>\n",
              "      <td>-0.157210</td>\n",
              "      <td>-0.032312</td>\n",
              "      <td>-0.077716</td>\n",
              "      <td>-0.027154</td>\n",
              "      <td>-0.008943</td>\n",
              "      <td>-0.063251</td>\n",
              "      <td>1.000000</td>\n",
              "      <td>-0.488545</td>\n",
              "      <td>-0.283992</td>\n",
              "    </tr>\n",
              "    <tr>\n",
              "      <th>Zona Oeste</th>\n",
              "      <td>-0.000230</td>\n",
              "      <td>0.004768</td>\n",
              "      <td>0.133501</td>\n",
              "      <td>0.197056</td>\n",
              "      <td>0.185675</td>\n",
              "      <td>0.278102</td>\n",
              "      <td>0.247438</td>\n",
              "      <td>0.000279</td>\n",
              "      <td>-0.007506</td>\n",
              "      <td>0.367612</td>\n",
              "      <td>...</td>\n",
              "      <td>-0.062057</td>\n",
              "      <td>0.459694</td>\n",
              "      <td>0.276601</td>\n",
              "      <td>0.017812</td>\n",
              "      <td>0.020076</td>\n",
              "      <td>0.300488</td>\n",
              "      <td>-0.146381</td>\n",
              "      <td>-0.488545</td>\n",
              "      <td>1.000000</td>\n",
              "      <td>-0.657242</td>\n",
              "    </tr>\n",
              "    <tr>\n",
              "      <th>Zona Sul</th>\n",
              "      <td>-0.002185</td>\n",
              "      <td>-0.005932</td>\n",
              "      <td>0.028488</td>\n",
              "      <td>-0.038690</td>\n",
              "      <td>-0.050780</td>\n",
              "      <td>-0.095412</td>\n",
              "      <td>-0.152326</td>\n",
              "      <td>0.009697</td>\n",
              "      <td>0.017040</td>\n",
              "      <td>-0.306140</td>\n",
              "      <td>...</td>\n",
              "      <td>0.074459</td>\n",
              "      <td>-0.380620</td>\n",
              "      <td>-0.276301</td>\n",
              "      <td>0.031777</td>\n",
              "      <td>-0.011434</td>\n",
              "      <td>-0.326811</td>\n",
              "      <td>-0.085091</td>\n",
              "      <td>-0.283992</td>\n",
              "      <td>-0.657242</td>\n",
              "      <td>1.000000</td>\n",
              "    </tr>\n",
              "  </tbody>\n",
              "</table>\n",
              "<p>23 rows × 23 columns</p>\n",
              "</div>\n",
              "      <button class=\"colab-df-convert\" onclick=\"convertToInteractive('df-865bb0b0-d6c9-4620-8def-cf8f277c8758')\"\n",
              "              title=\"Convert this dataframe to an interactive table.\"\n",
              "              style=\"display:none;\">\n",
              "        \n",
              "  <svg xmlns=\"http://www.w3.org/2000/svg\" height=\"24px\"viewBox=\"0 0 24 24\"\n",
              "       width=\"24px\">\n",
              "    <path d=\"M0 0h24v24H0V0z\" fill=\"none\"/>\n",
              "    <path d=\"M18.56 5.44l.94 2.06.94-2.06 2.06-.94-2.06-.94-.94-2.06-.94 2.06-2.06.94zm-11 1L8.5 8.5l.94-2.06 2.06-.94-2.06-.94L8.5 2.5l-.94 2.06-2.06.94zm10 10l.94 2.06.94-2.06 2.06-.94-2.06-.94-.94-2.06-.94 2.06-2.06.94z\"/><path d=\"M17.41 7.96l-1.37-1.37c-.4-.4-.92-.59-1.43-.59-.52 0-1.04.2-1.43.59L10.3 9.45l-7.72 7.72c-.78.78-.78 2.05 0 2.83L4 21.41c.39.39.9.59 1.41.59.51 0 1.02-.2 1.41-.59l7.78-7.78 2.81-2.81c.8-.78.8-2.07 0-2.86zM5.41 20L4 18.59l7.72-7.72 1.47 1.35L5.41 20z\"/>\n",
              "  </svg>\n",
              "      </button>\n",
              "      \n",
              "  <style>\n",
              "    .colab-df-container {\n",
              "      display:flex;\n",
              "      flex-wrap:wrap;\n",
              "      gap: 12px;\n",
              "    }\n",
              "\n",
              "    .colab-df-convert {\n",
              "      background-color: #E8F0FE;\n",
              "      border: none;\n",
              "      border-radius: 50%;\n",
              "      cursor: pointer;\n",
              "      display: none;\n",
              "      fill: #1967D2;\n",
              "      height: 32px;\n",
              "      padding: 0 0 0 0;\n",
              "      width: 32px;\n",
              "    }\n",
              "\n",
              "    .colab-df-convert:hover {\n",
              "      background-color: #E2EBFA;\n",
              "      box-shadow: 0px 1px 2px rgba(60, 64, 67, 0.3), 0px 1px 3px 1px rgba(60, 64, 67, 0.15);\n",
              "      fill: #174EA6;\n",
              "    }\n",
              "\n",
              "    [theme=dark] .colab-df-convert {\n",
              "      background-color: #3B4455;\n",
              "      fill: #D2E3FC;\n",
              "    }\n",
              "\n",
              "    [theme=dark] .colab-df-convert:hover {\n",
              "      background-color: #434B5C;\n",
              "      box-shadow: 0px 1px 3px 1px rgba(0, 0, 0, 0.15);\n",
              "      filter: drop-shadow(0px 1px 2px rgba(0, 0, 0, 0.3));\n",
              "      fill: #FFFFFF;\n",
              "    }\n",
              "  </style>\n",
              "\n",
              "      <script>\n",
              "        const buttonEl =\n",
              "          document.querySelector('#df-865bb0b0-d6c9-4620-8def-cf8f277c8758 button.colab-df-convert');\n",
              "        buttonEl.style.display =\n",
              "          google.colab.kernel.accessAllowed ? 'block' : 'none';\n",
              "\n",
              "        async function convertToInteractive(key) {\n",
              "          const element = document.querySelector('#df-865bb0b0-d6c9-4620-8def-cf8f277c8758');\n",
              "          const dataTable =\n",
              "            await google.colab.kernel.invokeFunction('convertToInteractive',\n",
              "                                                     [key], {});\n",
              "          if (!dataTable) return;\n",
              "\n",
              "          const docLinkHtml = 'Like what you see? Visit the ' +\n",
              "            '<a target=\"_blank\" href=https://colab.research.google.com/notebooks/data_table.ipynb>data table notebook</a>'\n",
              "            + ' to learn more about interactive tables.';\n",
              "          element.innerHTML = '';\n",
              "          dataTable['output_type'] = 'display_data';\n",
              "          await google.colab.output.renderOutput(dataTable, element);\n",
              "          const docLink = document.createElement('div');\n",
              "          docLink.innerHTML = docLinkHtml;\n",
              "          element.appendChild(docLink);\n",
              "        }\n",
              "      </script>\n",
              "    </div>\n",
              "  </div>\n",
              "  "
            ]
          },
          "metadata": {},
          "execution_count": 36
        }
      ]
    },
    {
      "cell_type": "markdown",
      "source": [
        "Criando visualização das correlações para compreensão mais fácil"
      ],
      "metadata": {
        "id": "eoawFTgnlIhI"
      }
    },
    {
      "cell_type": "code",
      "source": [
        "import matplotlib.pyplot as plt\n",
        "import seaborn as sns\n",
        "import numpy as np"
      ],
      "metadata": {
        "id": "apMIXit42rd5"
      },
      "execution_count": null,
      "outputs": []
    },
    {
      "cell_type": "code",
      "source": [
        "plt.figure(figsize=(20, 8))\n",
        "paleta = sns.color_palette('light:salmon', as_cmap=True)\n",
        "mask = np.triu(np.ones_like(df_corr), True)\n",
        "sns.heatmap(df_corr, annot=True, mask=mask, cmap=paleta)"
      ],
      "metadata": {
        "colab": {
          "base_uri": "https://localhost:8080/",
          "height": 596
        },
        "id": "nJActsAq2vl5",
        "outputId": "a35f7819-6fe7-4908-dff8-97f645958ce2"
      },
      "execution_count": 76,
      "outputs": [
        {
          "output_type": "execute_result",
          "data": {
            "text/plain": [
              "<matplotlib.axes._subplots.AxesSubplot at 0x7fdc84bb1df0>"
            ]
          },
          "metadata": {},
          "execution_count": 76
        },
        {
          "output_type": "display_data",
          "data": {
            "text/plain": [
              "<Figure size 1440x576 with 2 Axes>"
            ],
            "image/png": "[encoded data removed]"
          },
          "metadata": {
            "needs_background": "light"
          }
        }
      ]
    },
    {
      "cell_type": "markdown",
      "source": [
        "## Treinando Modelo"
      ],
      "metadata": {
        "id": "-X_GkPITWkY1"
      }
    },
    {
      "cell_type": "code",
      "source": [
        "from pyspark.ml.regression import LinearRegression"
      ],
      "metadata": {
        "id": "UmCY5dBNWmT3"
      },
      "execution_count": null,
      "outputs": []
    },
    {
      "cell_type": "code",
      "source": [
        "# Separando em treino e teste\n",
        "treino, teste = dataset_prep.randomSplit([.7, .3], seed=101)"
      ],
      "metadata": {
        "id": "o-xEt4coWvAW"
      },
      "execution_count": null,
      "outputs": []
    },
    {
      "cell_type": "code",
      "source": [
        "# Instanciando modelo\n",
        "lr = LinearRegression()"
      ],
      "metadata": {
        "id": "uulB7dA4W4YG"
      },
      "execution_count": null,
      "outputs": []
    },
    {
      "cell_type": "code",
      "source": [
        "# Treinando o modelo\n",
        "modelo_lr = lr.fit(treino)"
      ],
      "metadata": {
        "id": "WQqf_go3XQan"
      },
      "execution_count": null,
      "outputs": []
    },
    {
      "cell_type": "markdown",
      "source": [
        "### Extraíndo métricas\n",
        "\n",
        "As métricas utilizadas foram o R2 e o RMSE"
      ],
      "metadata": {
        "id": "SFzqLpLwlkO5"
      }
    },
    {
      "cell_type": "markdown",
      "source": [
        "Treino"
      ],
      "metadata": {
        "id": "HQkIfTMKls7A"
      }
    },
    {
      "cell_type": "code",
      "source": [
        "# Gerando resumo da performance do modelo para os dados de treino\n",
        "resumo_modelo = modelo_lr.summary"
      ],
      "metadata": {
        "id": "BgTFe_INXTae"
      },
      "execution_count": null,
      "outputs": []
    },
    {
      "cell_type": "code",
      "source": [
        "resumo_modelo.r2"
      ],
      "metadata": {
        "colab": {
          "base_uri": "https://localhost:8080/"
        },
        "id": "GE9pOZ0yXmPW",
        "outputId": "ba95262c-f39b-49d3-826a-bc496b279b6d"
      },
      "execution_count": null,
      "outputs": [
        {
          "output_type": "execute_result",
          "data": {
            "text/plain": [
              "0.6781339512094222"
            ]
          },
          "metadata": {},
          "execution_count": 48
        }
      ]
    },
    {
      "cell_type": "code",
      "source": [
        "resumo_modelo.rootMeanSquaredError"
      ],
      "metadata": {
        "colab": {
          "base_uri": "https://localhost:8080/"
        },
        "id": "SSuet3TTXoz_",
        "outputId": "565462fd-4e08-42ca-f80e-c2d6bf8f89ba"
      },
      "execution_count": null,
      "outputs": [
        {
          "output_type": "execute_result",
          "data": {
            "text/plain": [
              "836049.2076567278"
            ]
          },
          "metadata": {},
          "execution_count": 50
        }
      ]
    },
    {
      "cell_type": "markdown",
      "source": [
        "Teste"
      ],
      "metadata": {
        "id": "JXT2ND60XwYv"
      }
    },
    {
      "cell_type": "code",
      "source": [
        "resumo_teste = modelo_lr.evaluate(teste)"
      ],
      "metadata": {
        "id": "X8yoLtuaXru2"
      },
      "execution_count": null,
      "outputs": []
    },
    {
      "cell_type": "code",
      "source": [
        "resumo_teste.r2"
      ],
      "metadata": {
        "colab": {
          "base_uri": "https://localhost:8080/"
        },
        "id": "jI0QQKFKX2Qv",
        "outputId": "0e5a0f19-24d2-4b63-919e-0f80298ad93b"
      },
      "execution_count": null,
      "outputs": [
        {
          "output_type": "execute_result",
          "data": {
            "text/plain": [
              "0.6663408560991568"
            ]
          },
          "metadata": {},
          "execution_count": 52
        }
      ]
    },
    {
      "cell_type": "code",
      "source": [
        "resumo_teste.rootMeanSquaredError"
      ],
      "metadata": {
        "colab": {
          "base_uri": "https://localhost:8080/"
        },
        "id": "B9PKjzb4X3YG",
        "outputId": "849e6f71-84bb-422d-85a9-386727b8c349"
      },
      "execution_count": null,
      "outputs": [
        {
          "output_type": "execute_result",
          "data": {
            "text/plain": [
              "897038.7361500504"
            ]
          },
          "metadata": {},
          "execution_count": 53
        }
      ]
    },
    {
      "cell_type": "code",
      "source": [
        "def tabela_metricas(nome_modelo, resumo_treino, resumo_teste):\n",
        "    print(nome_modelo)\n",
        "    print(\"=\"*30)\n",
        "    print(\"Dados de Treino\")\n",
        "    print(\"=\"*30)\n",
        "    print(\"R²: %f\" % resumo_treino.r2)\n",
        "    print(\"RMSE: %f\" % resumo_treino.rootMeanSquaredError)\n",
        "    print(\"\")\n",
        "    print(\"=\"*30)\n",
        "    print(\"Dados de Teste\")\n",
        "    print(\"=\"*30)\n",
        "    print(\"R²: %f\" % resumo_teste.r2)\n",
        "    print(\"RMSE: %f\" % resumo_teste.rootMeanSquaredError)"
      ],
      "metadata": {
        "id": "jMjIHR8HX6Em"
      },
      "execution_count": null,
      "outputs": []
    },
    {
      "cell_type": "code",
      "source": [
        "# Visualizando a performance de ambos\n",
        "tabela_metricas('Linear Regression', resumo_modelo, resumo_teste)"
      ],
      "metadata": {
        "colab": {
          "base_uri": "https://localhost:8080/"
        },
        "id": "ymzI6DDJYG8-",
        "outputId": "1ae339d5-df41-4814-8ad8-0e5f2480f3f3"
      },
      "execution_count": null,
      "outputs": [
        {
          "output_type": "stream",
          "name": "stdout",
          "text": [
            "Linear Regression\n",
            "==============================\n",
            "Dados de Treino\n",
            "==============================\n",
            "R²: 0.678134\n",
            "RMSE: 836049.207657\n",
            "\n",
            "==============================\n",
            "Dados de Teste\n",
            "==============================\n",
            "R²: 0.666341\n",
            "RMSE: 897038.736150\n"
          ]
        }
      ]
    }
  ]
}
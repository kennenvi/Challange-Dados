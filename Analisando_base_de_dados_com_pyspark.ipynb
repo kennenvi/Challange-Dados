{
  "nbformat": 4,
  "nbformat_minor": 0,
  "metadata": {
    "colab": {
      "provenance": [],
      "toc_visible": true,
      "mount_file_id": "1T8bpFm3Z5y7kRbw6Wsyl1CTWsj1fEm9q",
      "authorship_tag": "ABX9TyMrvQmmPhZ/2vuCZQoFN442",
      "include_colab_link": true
    },
    "kernelspec": {
      "name": "python3",
      "display_name": "Python 3"
    },
    "language_info": {
      "name": "python"
    }
  },
  "cells": [
    {
      "cell_type": "markdown",
      "metadata": {
        "id": "view-in-github",
        "colab_type": "text"
      },
      "source": [
        "<a href=\"https://colab.research.google.com/github/kennenvi/Challange-Dados/blob/main/Analisando_base_de_dados_com_pyspark.ipynb\" target=\"_parent\"><img src=\"https://colab.research.google.com/assets/colab-badge.svg\" alt=\"Open In Colab\"/></a>"
      ]
    },
    {
      "cell_type": "markdown",
      "metadata": {
        "id": "A_pds0odi1Rj"
      },
      "source": [
        "## Utilizando o Spark no Google Colab"
      ]
    },
    {
      "cell_type": "code",
      "source": [
        "!pip install pyspark==3.3.1"
      ],
      "metadata": {
        "colab": {
          "base_uri": "https://localhost:8080/"
        },
        "id": "TtSLyCVGuXFb",
        "outputId": "c2c83537-87d7-4dd7-c81c-53a341376a1c"
      },
      "execution_count": 1,
      "outputs": [
        {
          "output_type": "stream",
          "name": "stdout",
          "text": [
            "Looking in indexes: https://pypi.org/simple, https://us-python.pkg.dev/colab-wheels/public/simple/\n",
            "Collecting pyspark==3.3.1\n",
            "  Downloading pyspark-3.3.1.tar.gz (281.4 MB)\n",
            "\u001b[K     |████████████████████████████████| 281.4 MB 42 kB/s \n",
            "\u001b[?25hCollecting py4j==0.10.9.5\n",
            "  Downloading py4j-0.10.9.5-py2.py3-none-any.whl (199 kB)\n",
            "\u001b[K     |████████████████████████████████| 199 kB 53.0 MB/s \n",
            "\u001b[?25hBuilding wheels for collected packages: pyspark\n",
            "  Building wheel for pyspark (setup.py) ... \u001b[?25l\u001b[?25hdone\n",
            "  Created wheel for pyspark: filename=pyspark-3.3.1-py2.py3-none-any.whl size=281845512 sha256=418b6ab5a4ff77493f181a2f41ef56284ad8540c8e9816ce48c015a9ce061f02\n",
            "  Stored in directory: /root/.cache/pip/wheels/43/dc/11/ec201cd671da62fa9c5cc77078235e40722170ceba231d7598\n",
            "Successfully built pyspark\n",
            "Installing collected packages: py4j, pyspark\n",
            "Successfully installed py4j-0.10.9.5 pyspark-3.3.1\n"
          ]
        }
      ]
    },
    {
      "cell_type": "markdown",
      "metadata": {
        "id": "xIZNca7Pjgqf"
      },
      "source": [
        "# Carregamento de Dados\n",
        "---"
      ]
    },
    {
      "cell_type": "markdown",
      "metadata": {
        "id": "YGNS075GGlH0"
      },
      "source": [
        "## SparkSession\n",
        "\n",
        "O ponto de entrada para programar o Spark com a API Dataset e DataFrame."
      ]
    },
    {
      "cell_type": "code",
      "source": [
        "from pyspark.sql import SparkSession\n",
        "\n",
        "spark = SparkSession.builder \\\n",
        "    .master('local[*]') \\\n",
        "    .appName(\"Iniciando com Spark\") \\\n",
        "    .config('spark.ui.port', '4050') \\\n",
        "    .getOrCreate()"
      ],
      "metadata": {
        "id": "IcVyRdrwdFKE"
      },
      "execution_count": 2,
      "outputs": []
    },
    {
      "cell_type": "code",
      "execution_count": 3,
      "metadata": {
        "id": "PizPNqbmCuSM",
        "colab": {
          "base_uri": "https://localhost:8080/",
          "height": 219
        },
        "outputId": "e354c8d8-4ec1-4eb3-c3e0-fe17b857d1e1"
      },
      "outputs": [
        {
          "output_type": "execute_result",
          "data": {
            "text/plain": [
              "<pyspark.sql.session.SparkSession at 0x7f29e5fd2370>"
            ],
            "text/html": [
              "\n",
              "            <div>\n",
              "                <p><b>SparkSession - in-memory</b></p>\n",
              "                \n",
              "        <div>\n",
              "            <p><b>SparkContext</b></p>\n",
              "\n",
              "            <p><a href=\"http://a14caaf8bdb4:4050\">Spark UI</a></p>\n",
              "\n",
              "            <dl>\n",
              "              <dt>Version</dt>\n",
              "                <dd><code>v3.3.1</code></dd>\n",
              "              <dt>Master</dt>\n",
              "                <dd><code>local[*]</code></dd>\n",
              "              <dt>AppName</dt>\n",
              "                <dd><code>Iniciando com Spark</code></dd>\n",
              "            </dl>\n",
              "        </div>\n",
              "        \n",
              "            </div>\n",
              "        "
            ]
          },
          "metadata": {},
          "execution_count": 3
        }
      ],
      "source": [
        "spark"
      ]
    },
    {
      "cell_type": "markdown",
      "source": [
        "## Baixando dados"
      ],
      "metadata": {
        "id": "HDEfKGcCGhh0"
      }
    },
    {
      "cell_type": "code",
      "source": [
        "!wget 'https://caelum-online-public.s3.amazonaws.com/challenge-spark/semana-1.zip' && unzip semana-1.zip -d dados/"
      ],
      "metadata": {
        "id": "yip_n_BAGkjz",
        "colab": {
          "base_uri": "https://localhost:8080/"
        },
        "outputId": "deab04c4-b52d-48df-99c4-b62def047741"
      },
      "execution_count": 4,
      "outputs": [
        {
          "output_type": "stream",
          "name": "stdout",
          "text": [
            "--2022-12-02 00:42:14--  https://caelum-online-public.s3.amazonaws.com/challenge-spark/semana-1.zip\n",
            "Resolving caelum-online-public.s3.amazonaws.com (caelum-online-public.s3.amazonaws.com)... 52.216.83.64, 52.217.66.100, 52.216.28.12, ...\n",
            "Connecting to caelum-online-public.s3.amazonaws.com (caelum-online-public.s3.amazonaws.com)|52.216.83.64|:443... connected.\n",
            "HTTP request sent, awaiting response... 200 OK\n",
            "Length: 18975214 (18M) [application/zip]\n",
            "Saving to: ‘semana-1.zip’\n",
            "\n",
            "semana-1.zip        100%[===================>]  18.10M  40.5MB/s    in 0.4s    \n",
            "\n",
            "2022-12-02 00:42:14 (40.5 MB/s) - ‘semana-1.zip’ saved [18975214/18975214]\n",
            "\n",
            "Archive:  semana-1.zip\n",
            "  inflating: dados/dataset_bruto.json  \n"
          ]
        }
      ]
    },
    {
      "cell_type": "markdown",
      "source": [
        "# Iniciando análise"
      ],
      "metadata": {
        "id": "AEmUwy1ZvLE9"
      }
    },
    {
      "cell_type": "code",
      "source": [
        "# Importando modulos e classes\n",
        "\n",
        "import pyspark.sql.functions as f\n",
        "from pyspark.sql.types import DoubleType, IntegerType, StringType"
      ],
      "metadata": {
        "id": "ML8gXxAxLQHc"
      },
      "execution_count": 5,
      "outputs": []
    },
    {
      "cell_type": "code",
      "source": [
        "# Lendo dados e transformando-os em um DataFrame\n",
        "\n",
        "dados = spark.read.json('/content/dados/dataset_bruto.json')"
      ],
      "metadata": {
        "id": "8XRP1qe23jHG"
      },
      "execution_count": 6,
      "outputs": []
    },
    {
      "cell_type": "markdown",
      "source": [
        "### Avaliando a estrutura dos dados"
      ],
      "metadata": {
        "id": "a2C25k0-3jyK"
      }
    },
    {
      "cell_type": "code",
      "source": [
        "dados.printSchema()"
      ],
      "metadata": {
        "colab": {
          "base_uri": "https://localhost:8080/"
        },
        "id": "ypRNWjyYGf4V",
        "outputId": "34aa92ca-3f01-4a56-911d-bfa95038a3f9"
      },
      "execution_count": 7,
      "outputs": [
        {
          "output_type": "stream",
          "name": "stdout",
          "text": [
            "root\n",
            " |-- anuncio: struct (nullable = true)\n",
            " |    |-- andar: long (nullable = true)\n",
            " |    |-- area_total: array (nullable = true)\n",
            " |    |    |-- element: string (containsNull = true)\n",
            " |    |-- area_util: array (nullable = true)\n",
            " |    |    |-- element: string (containsNull = true)\n",
            " |    |-- banheiros: array (nullable = true)\n",
            " |    |    |-- element: long (containsNull = true)\n",
            " |    |-- caracteristicas: array (nullable = true)\n",
            " |    |    |-- element: string (containsNull = true)\n",
            " |    |-- endereco: struct (nullable = true)\n",
            " |    |    |-- bairro: string (nullable = true)\n",
            " |    |    |-- cep: string (nullable = true)\n",
            " |    |    |-- cidade: string (nullable = true)\n",
            " |    |    |-- estado: string (nullable = true)\n",
            " |    |    |-- latitude: double (nullable = true)\n",
            " |    |    |-- longitude: double (nullable = true)\n",
            " |    |    |-- pais: string (nullable = true)\n",
            " |    |    |-- rua: string (nullable = true)\n",
            " |    |    |-- zona: string (nullable = true)\n",
            " |    |-- id: string (nullable = true)\n",
            " |    |-- quartos: array (nullable = true)\n",
            " |    |    |-- element: long (containsNull = true)\n",
            " |    |-- suites: array (nullable = true)\n",
            " |    |    |-- element: long (containsNull = true)\n",
            " |    |-- tipo_anuncio: string (nullable = true)\n",
            " |    |-- tipo_unidade: string (nullable = true)\n",
            " |    |-- tipo_uso: string (nullable = true)\n",
            " |    |-- vaga: array (nullable = true)\n",
            " |    |    |-- element: long (containsNull = true)\n",
            " |    |-- valores: array (nullable = true)\n",
            " |    |    |-- element: struct (containsNull = true)\n",
            " |    |    |    |-- condominio: string (nullable = true)\n",
            " |    |    |    |-- iptu: string (nullable = true)\n",
            " |    |    |    |-- tipo: string (nullable = true)\n",
            " |    |    |    |-- valor: string (nullable = true)\n",
            " |-- imagens: array (nullable = true)\n",
            " |    |-- element: struct (containsNull = true)\n",
            " |    |    |-- id: string (nullable = true)\n",
            " |    |    |-- url: string (nullable = true)\n",
            " |-- usuario: struct (nullable = true)\n",
            " |    |-- id: string (nullable = true)\n",
            " |    |-- nome: string (nullable = true)\n",
            "\n"
          ]
        }
      ]
    },
    {
      "cell_type": "code",
      "source": [
        "print(f'Quantidade de linhas = {dados.count()}, Quantidade de colunas {len(dados.columns)}')"
      ],
      "metadata": {
        "colab": {
          "base_uri": "https://localhost:8080/"
        },
        "id": "RDfwo-ciHEes",
        "outputId": "253d424d-3fbe-4f4d-bd17-6c0c736de4dc"
      },
      "execution_count": 8,
      "outputs": [
        {
          "output_type": "stream",
          "name": "stdout",
          "text": [
            "Quantidade de linhas = 89083, Quantidade de colunas 3\n"
          ]
        }
      ]
    },
    {
      "cell_type": "markdown",
      "source": [
        "### Selecionando os Subcampos da caluna anúncio\n",
        "\n",
        "Porque como o objetivo é prever um valor para o imóvel apenas os dados da coluna anúncio serão utilizados"
      ],
      "metadata": {
        "id": "cv3STV7aNUvZ"
      }
    },
    {
      "cell_type": "code",
      "source": [
        "dados = dados.select('anuncio.*')"
      ],
      "metadata": {
        "id": "2rWOw9ESNaKy"
      },
      "execution_count": 9,
      "outputs": []
    },
    {
      "cell_type": "code",
      "source": [
        "dados.show()"
      ],
      "metadata": {
        "colab": {
          "base_uri": "https://localhost:8080/"
        },
        "id": "43UcpZNeTc7t",
        "outputId": "a4bc3dae-e4c9-44c7-a34f-1302a4082569"
      },
      "execution_count": 10,
      "outputs": [
        {
          "output_type": "stream",
          "name": "stdout",
          "text": [
            "+-----+----------+---------+---------+--------------------+--------------------+--------------------+-------+------+------------+------------+-----------+----+--------------------+\n",
            "|andar|area_total|area_util|banheiros|     caracteristicas|            endereco|                  id|quartos|suites|tipo_anuncio|tipo_unidade|   tipo_uso|vaga|             valores|\n",
            "+-----+----------+---------+---------+--------------------+--------------------+--------------------+-------+------+------------+------------+-----------+----+--------------------+\n",
            "|    0|        []|     [16]|      [0]|                  []|{Centro, 20061003...|47d553e0-79f2-4a4...|    [0]|   [0]|       Usado|      Outros|  Comercial| [1]|[{260, 107, Venda...|\n",
            "|    0|        []|     [14]|      [0]|                  []|{Centro, 20051040...|b6ffbae1-17f6-487...|    [0]|    []|       Usado|      Outros|  Comercial| [0]|[{260, 107, Venda...|\n",
            "|    0|    [1026]|   [1026]|      [0]|                  []|{Maria da Graça, ...|1fb030a5-9e3e-4a1...|    [0]|    []|       Usado|      Outros|  Comercial| [0]|[{null, 1613, Ven...|\n",
            "|    0|     [120]|    [120]|      [0]|[Portão eletrônic...|{Campo Grande, 23...|ac6cb348-69d6-45a...|    [0]|    []|       Usado|      Outros|Residencial|  []|[{80, null, Venda...|\n",
            "|    0|       [3]|      [3]|      [0]|                  []|{São Cristóvão, 2...|e032b908-ef42-4d4...|    [0]|    []|       Usado|      Outros|Residencial|  []|[{0, 0, Venda, 50...|\n",
            "|    0|      [20]|     [15]|      [1]|                  []|{Centro, 20231047...|df9cf0b8-b972-433...|    [0]|    []|       Usado|      Outros|  Comercial| [1]|[{223, 87, Venda,...|\n",
            "|    3|      [43]|     [43]|      [1]|[Academia, Churra...|{Paciência, 23585...|d2e3a3aa-09b5-45a...|    [2]|    []|       Usado| Apartamento|Residencial| [1]|[{245, null, Vend...|\n",
            "|    2|      [42]|     [42]|      [1]|[Churrasqueira, P...|{Paciência, 23585...|085bab2c-87ad-452...|    [2]|    []|       Usado| Apartamento|Residencial| [1]|[{0, 0, Venda, 15...|\n",
            "|    0|        []|     [12]|      [0]|[Portaria 24h, El...|{Centro, 20231047...|096ad966-dc36-47b...|    [0]|    []|       Usado|      Outros|  Comercial| [1]|[{250, null, Vend...|\n",
            "|    1|      [41]|     [41]|      [1]|[Portaria 24h, Co...|{Guaratiba, 23036...|18d22cbe-1b86-476...|    [2]|    []|       Usado| Apartamento|Residencial| [1]|[{0, 0, Venda, 20...|\n",
            "|    3|      [43]|     [43]|      [1]|[Churrasqueira, P...|{Cosmos, 23066271...|bed8a354-9317-442...|    [2]|    []|       Usado| Apartamento|Residencial| [0]|[{285, null, Vend...|\n",
            "|    0|      [10]|      [4]|      [0]|[Elevador, Portar...|{Centro, 20080021...|b7d0fbd3-0b28-420...|    [0]|    []|       Usado|      Outros|  Comercial| [0]|[{200, 86, Venda,...|\n",
            "|    0|      [12]|     [12]|      [1]|      [Portaria 24h]|{Copacabana, 2202...|c6571c11-166e-4a4...|    [0]|    []|       Usado|      Outros|  Comercial|  []|[{470, null, Vend...|\n",
            "|    0|      [17]|     [17]|      [0]|          [Elevador]|{Centro, 20070021...|46d5b560-205f-45f...|    [0]|    []|       Usado|      Outros|  Comercial| [1]|[{294, 98, Venda,...|\n",
            "|    1|      [32]|     [32]|       []|[Elevador, Condom...|{Centro, 20090020...|db197997-00e6-4d6...|     []|    []|       Usado|      Outros|  Comercial| [1]|[{684, null, Vend...|\n",
            "|    0|        []|     [10]|      [0]|[Elevador, Condom...|{Saúde, 20080040,...|835d4338-4aa9-4e4...|    [0]|    []|       Usado|      Outros|  Comercial|  []|[{0, 120, Venda, ...|\n",
            "|    2|      [43]|     [43]|      [1]|[Academia, Churra...|{Guaratiba, 23036...|12a13315-d67f-48f...|    [2]|    []|       Usado| Apartamento|Residencial| [1]|[{245, null, Vend...|\n",
            "|    3|      [43]|     [43]|      [1]|[Churrasqueira, P...|{Cosmos, 23066271...|a2e6d7a5-0ff0-484...|    [2]|   [0]|       Usado| Apartamento|Residencial| [0]|[{285, null, Vend...|\n",
            "|    3|      [43]|     [43]|      [1]|[Churrasqueira, P...|{Paciência, 23585...|a6e3173b-c950-4db...|    [2]|    []|       Usado| Apartamento|Residencial| [1]|[{250, null, Vend...|\n",
            "|    3|      [43]|     [43]|      [1]|[Churrasqueira, P...|{Guaratiba, 23036...|2e6e5dfb-206c-496...|    [2]|   [0]|       Usado| Apartamento|Residencial| [1]|[{245, null, Vend...|\n",
            "+-----+----------+---------+---------+--------------------+--------------------+--------------------+-------+------+------------+------------+-----------+----+--------------------+\n",
            "only showing top 20 rows\n",
            "\n"
          ]
        }
      ]
    },
    {
      "cell_type": "markdown",
      "source": [
        "## Convertendo colunas para tipos correspondetes"
      ],
      "metadata": {
        "id": "zc7V9uTBZIkl"
      }
    },
    {
      "cell_type": "markdown",
      "source": [
        "Algumas colunas parecem estar em formato array porém possuem apenas um elemento. \n",
        "Por isso iremos verificar se isso se aplica a coluna inteira"
      ],
      "metadata": {
        "id": "FLGvME3FSRbQ"
      }
    },
    {
      "cell_type": "code",
      "source": [
        "# Colunas com dados do tipo inteiro, porém em arrays\n",
        "colunas_array = ['area_total', 'area_util', 'banheiros', 'quartos', 'suites', 'vaga']"
      ],
      "metadata": {
        "id": "iwmvS2DRXM_i"
      },
      "execution_count": 12,
      "outputs": []
    },
    {
      "cell_type": "code",
      "source": [
        "# Verificando frequência do tamanho de cada array das colunas em \"colunas_array\"\n",
        "for col in colunas_array:\n",
        "    dados\\\n",
        "        .select(f.size(f.col(col)).alias(col))\\\n",
        "        .groupby(col)\\\n",
        "        .count()\\\n",
        "        .show()"
      ],
      "metadata": {
        "colab": {
          "base_uri": "https://localhost:8080/"
        },
        "id": "QWxhmUTuSkkQ",
        "outputId": "4c5b953a-9fe8-4699-b139-bb9cd709e1a7"
      },
      "execution_count": 14,
      "outputs": [
        {
          "output_type": "stream",
          "name": "stdout",
          "text": [
            "+----------+-----+\n",
            "|area_total|count|\n",
            "+----------+-----+\n",
            "|         1|76488|\n",
            "|         0|12595|\n",
            "+----------+-----+\n",
            "\n",
            "+---------+-----+\n",
            "|area_util|count|\n",
            "+---------+-----+\n",
            "|        1|88846|\n",
            "|        2|  224|\n",
            "|        0|   13|\n",
            "+---------+-----+\n",
            "\n",
            "+---------+-----+\n",
            "|banheiros|count|\n",
            "+---------+-----+\n",
            "|        1|88798|\n",
            "|        2|  112|\n",
            "|        0|  173|\n",
            "+---------+-----+\n",
            "\n",
            "+-------+-----+\n",
            "|quartos|count|\n",
            "+-------+-----+\n",
            "|      1|88120|\n",
            "|      2|  160|\n",
            "|      0|  803|\n",
            "+-------+-----+\n",
            "\n",
            "+------+-----+\n",
            "|suites|count|\n",
            "+------+-----+\n",
            "|     1|79431|\n",
            "|     2|  103|\n",
            "|     0| 9549|\n",
            "+------+-----+\n",
            "\n",
            "+----+-----+\n",
            "|vaga|count|\n",
            "+----+-----+\n",
            "|   1|84037|\n",
            "|   2|   94|\n",
            "|   0| 4952|\n",
            "+----+-----+\n",
            "\n"
          ]
        }
      ]
    },
    {
      "cell_type": "markdown",
      "source": [
        "Por causa de a maioria conter apenas um valor será utilizado o primeiro valor para essas colunas"
      ],
      "metadata": {
        "id": "A6nnW6-qTi1b"
      }
    },
    {
      "cell_type": "code",
      "source": [
        "# Retirando os dados de arrays e transformando-os em inteiros\n",
        "dados = dados\\\n",
        "    .select([f.col(col)[0].cast(IntegerType()).alias(col) if col in  colunas_array else col for col in dados.columns])"
      ],
      "metadata": {
        "id": "pCX6YbUmYwz5",
        "colab": {
          "base_uri": "https://localhost:8080/"
        },
        "outputId": "aa97ae9c-8d84-4b4f-f1d9-0e9509308415"
      },
      "execution_count": 46,
      "outputs": [
        {
          "output_type": "execute_result",
          "data": {
            "text/plain": [
              "0.05735525091999534"
            ]
          },
          "metadata": {},
          "execution_count": 46
        }
      ]
    },
    {
      "cell_type": "code",
      "source": [
        "# Coluna com arrays porém do tipo string\n",
        "dados = dados.withColumn('caracteristicas', dados['caracteristicas'][0])"
      ],
      "metadata": {
        "id": "Up80WPYpMRR-"
      },
      "execution_count": 14,
      "outputs": []
    },
    {
      "cell_type": "code",
      "source": [
        "dados.show()"
      ],
      "metadata": {
        "colab": {
          "base_uri": "https://localhost:8080/"
        },
        "id": "YWebYOSEZwcM",
        "outputId": "79f651df-80a9-429d-96d9-f67cc5f047d3"
      },
      "execution_count": 15,
      "outputs": [
        {
          "output_type": "stream",
          "name": "stdout",
          "text": [
            "+-----+----------+---------+---------+-----------------+--------------------+--------------------+-------+------+------------+------------+-----------+----+--------------------+\n",
            "|andar|area_total|area_util|banheiros|  caracteristicas|            endereco|                  id|quartos|suites|tipo_anuncio|tipo_unidade|   tipo_uso|vaga|             valores|\n",
            "+-----+----------+---------+---------+-----------------+--------------------+--------------------+-------+------+------------+------------+-----------+----+--------------------+\n",
            "|    0|      null|       16|        0|             null|{Centro, 20061003...|47d553e0-79f2-4a4...|      0|     0|       Usado|      Outros|  Comercial|   1|[{260, 107, Venda...|\n",
            "|    0|      null|       14|        0|             null|{Centro, 20051040...|b6ffbae1-17f6-487...|      0|  null|       Usado|      Outros|  Comercial|   0|[{260, 107, Venda...|\n",
            "|    0|      1026|     1026|        0|             null|{Maria da Graça, ...|1fb030a5-9e3e-4a1...|      0|  null|       Usado|      Outros|  Comercial|   0|[{null, 1613, Ven...|\n",
            "|    0|       120|      120|        0|Portão eletrônico|{Campo Grande, 23...|ac6cb348-69d6-45a...|      0|  null|       Usado|      Outros|Residencial|null|[{80, null, Venda...|\n",
            "|    0|         3|        3|        0|             null|{São Cristóvão, 2...|e032b908-ef42-4d4...|      0|  null|       Usado|      Outros|Residencial|null|[{0, 0, Venda, 50...|\n",
            "|    0|        20|       15|        1|             null|{Centro, 20231047...|df9cf0b8-b972-433...|      0|  null|       Usado|      Outros|  Comercial|   1|[{223, 87, Venda,...|\n",
            "|    3|        43|       43|        1|         Academia|{Paciência, 23585...|d2e3a3aa-09b5-45a...|      2|  null|       Usado| Apartamento|Residencial|   1|[{245, null, Vend...|\n",
            "|    2|        42|       42|        1|    Churrasqueira|{Paciência, 23585...|085bab2c-87ad-452...|      2|  null|       Usado| Apartamento|Residencial|   1|[{0, 0, Venda, 15...|\n",
            "|    0|      null|       12|        0|     Portaria 24h|{Centro, 20231047...|096ad966-dc36-47b...|      0|  null|       Usado|      Outros|  Comercial|   1|[{250, null, Vend...|\n",
            "|    1|        41|       41|        1|     Portaria 24h|{Guaratiba, 23036...|18d22cbe-1b86-476...|      2|  null|       Usado| Apartamento|Residencial|   1|[{0, 0, Venda, 20...|\n",
            "|    3|        43|       43|        1|    Churrasqueira|{Cosmos, 23066271...|bed8a354-9317-442...|      2|  null|       Usado| Apartamento|Residencial|   0|[{285, null, Vend...|\n",
            "|    0|        10|        4|        0|         Elevador|{Centro, 20080021...|b7d0fbd3-0b28-420...|      0|  null|       Usado|      Outros|  Comercial|   0|[{200, 86, Venda,...|\n",
            "|    0|        12|       12|        1|     Portaria 24h|{Copacabana, 2202...|c6571c11-166e-4a4...|      0|  null|       Usado|      Outros|  Comercial|null|[{470, null, Vend...|\n",
            "|    0|        17|       17|        0|         Elevador|{Centro, 20070021...|46d5b560-205f-45f...|      0|  null|       Usado|      Outros|  Comercial|   1|[{294, 98, Venda,...|\n",
            "|    1|        32|       32|     null|         Elevador|{Centro, 20090020...|db197997-00e6-4d6...|   null|  null|       Usado|      Outros|  Comercial|   1|[{684, null, Vend...|\n",
            "|    0|      null|       10|        0|         Elevador|{Saúde, 20080040,...|835d4338-4aa9-4e4...|      0|  null|       Usado|      Outros|  Comercial|null|[{0, 120, Venda, ...|\n",
            "|    2|        43|       43|        1|         Academia|{Guaratiba, 23036...|12a13315-d67f-48f...|      2|  null|       Usado| Apartamento|Residencial|   1|[{245, null, Vend...|\n",
            "|    3|        43|       43|        1|    Churrasqueira|{Cosmos, 23066271...|a2e6d7a5-0ff0-484...|      2|     0|       Usado| Apartamento|Residencial|   0|[{285, null, Vend...|\n",
            "|    3|        43|       43|        1|    Churrasqueira|{Paciência, 23585...|a6e3173b-c950-4db...|      2|  null|       Usado| Apartamento|Residencial|   1|[{250, null, Vend...|\n",
            "|    3|        43|       43|        1|    Churrasqueira|{Guaratiba, 23036...|2e6e5dfb-206c-496...|      2|     0|       Usado| Apartamento|Residencial|   1|[{245, null, Vend...|\n",
            "+-----+----------+---------+---------+-----------------+--------------------+--------------------+-------+------+------------+------------+-----------+----+--------------------+\n",
            "only showing top 20 rows\n",
            "\n"
          ]
        }
      ]
    },
    {
      "cell_type": "markdown",
      "source": [
        "## Filtrando a base de dados"
      ],
      "metadata": {
        "id": "dyYngzM4c1Le"
      }
    },
    {
      "cell_type": "markdown",
      "source": [
        "Verificando frêquencia das colunas \"tipo_anuncio\", \"tipo_unidade\", \"tipo_uso\""
      ],
      "metadata": {
        "id": "ANDJz0sX21cD"
      }
    },
    {
      "cell_type": "code",
      "source": [
        "dados\\\n",
        "    .groupBy('tipo_anuncio')\\\n",
        "    .count()\\\n",
        "    .show()"
      ],
      "metadata": {
        "colab": {
          "base_uri": "https://localhost:8080/"
        },
        "id": "cCqUqa15c27e",
        "outputId": "8802ebc9-aeca-461f-97d7-e50ac7b13926"
      },
      "execution_count": 16,
      "outputs": [
        {
          "output_type": "stream",
          "name": "stdout",
          "text": [
            "+------------+-----+\n",
            "|tipo_anuncio|count|\n",
            "+------------+-----+\n",
            "|       Usado|88827|\n",
            "|  Lançamento|  256|\n",
            "+------------+-----+\n",
            "\n"
          ]
        }
      ]
    },
    {
      "cell_type": "code",
      "source": [
        "dados\\\n",
        "    .groupBy('tipo_unidade')\\\n",
        "    .count()\\\n",
        "    .show()"
      ],
      "metadata": {
        "colab": {
          "base_uri": "https://localhost:8080/"
        },
        "id": "ZNb4zwPNdxCg",
        "outputId": "275d1b58-7a9f-422b-eece-53bb47fe075b"
      },
      "execution_count": 17,
      "outputs": [
        {
          "output_type": "stream",
          "name": "stdout",
          "text": [
            "+------------+-----+\n",
            "|tipo_unidade|count|\n",
            "+------------+-----+\n",
            "|      Outros|11963|\n",
            "| Apartamento|66801|\n",
            "|        Casa|10319|\n",
            "+------------+-----+\n",
            "\n"
          ]
        }
      ]
    },
    {
      "cell_type": "code",
      "source": [
        "dados\\\n",
        "    .groupBy('tipo_uso')\\\n",
        "    .count()\\\n",
        "    .show()"
      ],
      "metadata": {
        "colab": {
          "base_uri": "https://localhost:8080/"
        },
        "id": "IDiCZWLUd594",
        "outputId": "c063a86f-f4b3-40e8-e6c6-dcca3e033ad3"
      },
      "execution_count": 18,
      "outputs": [
        {
          "output_type": "stream",
          "name": "stdout",
          "text": [
            "+-----------+-----+\n",
            "|   tipo_uso|count|\n",
            "+-----------+-----+\n",
            "|  Comercial| 4542|\n",
            "|Residencial|84541|\n",
            "+-----------+-----+\n",
            "\n"
          ]
        }
      ]
    },
    {
      "cell_type": "markdown",
      "source": [
        "Selecionando apenas as categorias com mais valores, pois estes representam uma parcela maior do conjunto de dados"
      ],
      "metadata": {
        "id": "z-vGiMyB3EmV"
      }
    },
    {
      "cell_type": "code",
      "source": [
        "dados = dados.where(\"tipo_uso = 'Residencial' and tipo_unidade = 'Apartamento' and tipo_anuncio = 'Usado'\")"
      ],
      "metadata": {
        "id": "Cp0u4qsFeY7S"
      },
      "execution_count": 19,
      "outputs": []
    },
    {
      "cell_type": "markdown",
      "source": [
        "## Extraindo bairro e zona da coluna endereco"
      ],
      "metadata": {
        "id": "fnZPmmdPg54G"
      }
    },
    {
      "cell_type": "code",
      "source": [
        "# Selecionando os campos\n",
        "dados = dados.withColumn('bairro', dados['endereco.bairro'])\n",
        "dados = dados.withColumn('zona', dados['endereco.zona'])"
      ],
      "metadata": {
        "id": "-3pbaMFVf__i"
      },
      "execution_count": 20,
      "outputs": []
    },
    {
      "cell_type": "code",
      "source": [
        "# Excluindo coluna endereco\n",
        "dados = dados.drop('endereco')"
      ],
      "metadata": {
        "id": "2V9W3CbDuJ7m"
      },
      "execution_count": 21,
      "outputs": []
    },
    {
      "cell_type": "code",
      "source": [
        "dados.show()"
      ],
      "metadata": {
        "colab": {
          "base_uri": "https://localhost:8080/"
        },
        "id": "zQMZanz1gpxm",
        "outputId": "347ce53a-5a19-4899-b832-c3972c15f9e2"
      },
      "execution_count": 22,
      "outputs": [
        {
          "output_type": "stream",
          "name": "stdout",
          "text": [
            "+-----+----------+---------+---------+------------------+--------------------+-------+------+------------+------------+-----------+----+--------------------+--------------------+----------+\n",
            "|andar|area_total|area_util|banheiros|   caracteristicas|                  id|quartos|suites|tipo_anuncio|tipo_unidade|   tipo_uso|vaga|             valores|              bairro|      zona|\n",
            "+-----+----------+---------+---------+------------------+--------------------+-------+------+------------+------------+-----------+----+--------------------+--------------------+----------+\n",
            "|    3|        43|       43|        1|          Academia|d2e3a3aa-09b5-45a...|      2|  null|       Usado| Apartamento|Residencial|   1|[{245, null, Vend...|           Paciência|Zona Oeste|\n",
            "|    2|        42|       42|        1|     Churrasqueira|085bab2c-87ad-452...|      2|  null|       Usado| Apartamento|Residencial|   1|[{0, 0, Venda, 15...|           Paciência|Zona Oeste|\n",
            "|    1|        41|       41|        1|      Portaria 24h|18d22cbe-1b86-476...|      2|  null|       Usado| Apartamento|Residencial|   1|[{0, 0, Venda, 20...|           Guaratiba|Zona Oeste|\n",
            "|    3|        43|       43|        1|     Churrasqueira|bed8a354-9317-442...|      2|  null|       Usado| Apartamento|Residencial|   0|[{285, null, Vend...|              Cosmos|Zona Oeste|\n",
            "|    2|        43|       43|        1|          Academia|12a13315-d67f-48f...|      2|  null|       Usado| Apartamento|Residencial|   1|[{245, null, Vend...|           Guaratiba|Zona Oeste|\n",
            "|    3|        43|       43|        1|     Churrasqueira|a2e6d7a5-0ff0-484...|      2|     0|       Usado| Apartamento|Residencial|   0|[{285, null, Vend...|              Cosmos|Zona Oeste|\n",
            "|    3|        43|       43|        1|     Churrasqueira|a6e3173b-c950-4db...|      2|  null|       Usado| Apartamento|Residencial|   1|[{250, null, Vend...|           Paciência|Zona Oeste|\n",
            "|    3|        43|       43|        1|     Churrasqueira|2e6e5dfb-206c-496...|      2|     0|       Usado| Apartamento|Residencial|   1|[{245, null, Vend...|           Guaratiba|Zona Oeste|\n",
            "|    3|        43|       43|        1|     Churrasqueira|99f8d0f9-95a4-461...|      2|     0|       Usado| Apartamento|Residencial|   1|[{245, null, Vend...|           Paciência|Zona Oeste|\n",
            "|    4|        43|       43|        1|     Churrasqueira|b3f44c1a-2d50-4d5...|      2|  null|       Usado| Apartamento|Residencial|   1|[{240, null, Vend...|           Guaratiba|Zona Oeste|\n",
            "|    0|        60|       60|        1|Condomínio fechado|dc99d9e1-4c63-41f...|      2|  null|       Usado| Apartamento|Residencial|   1|[{0, 0, Venda, 15...|  Pedra de Guaratiba|Zona Oeste|\n",
            "|    1|        43|       43|        1|     Churrasqueira|aa3606d8-8bcd-45e...|      2|  null|       Usado| Apartamento|Residencial|   1|[{240, 0, Venda, ...|              Cosmos|Zona Oeste|\n",
            "|    0|        43|       43|        1|     Churrasqueira|df80b0d5-677c-4be...|      2|     0|       Usado| Apartamento|Residencial|   0|[{245, null, Vend...|        Campo Grande|Zona Oeste|\n",
            "|    2|        43|       43|        1|          Academia|3d6c0218-9b7d-474...|      2|  null|       Usado| Apartamento|Residencial|   2|[{290, null, Vend...|          Santa Cruz|Zona Oeste|\n",
            "|    3|        43|       43|        1|   Salão de festas|304266cc-62d1-4ce...|      2|  null|       Usado| Apartamento|Residencial|null|[{285, null, Vend...|           Guaratiba|Zona Oeste|\n",
            "|    4|        55|       55|        2|          Academia|111472a2-afa1-4a7...|      2|     1|       Usado| Apartamento|Residencial|   1|[{0, 0, Venda, 30...|Recreio dos Bande...|Zona Oeste|\n",
            "|    0|        45|       45|        1|        Playground|275c1589-6537-4bf...|      2|     0|       Usado| Apartamento|Residencial|   1|[{null, null, Ven...|              Cosmos|Zona Oeste|\n",
            "|    5|        42|       42|        1|Condomínio fechado|ab8f367f-7509-45c...|      2|     0|       Usado| Apartamento|Residencial|   0|[{280, 0, Venda, ...|            Realengo|Zona Oeste|\n",
            "|    1|        43|       43|        1|     Churrasqueira|e0a3d370-66dd-4f5...|      2|  null|       Usado| Apartamento|Residencial|   1|[{280, null, Vend...|              Cosmos|Zona Oeste|\n",
            "|    3|      null|       55|        1|          Academia|09c8ba2d-dbf1-487...|      2|     1|       Usado| Apartamento|Residencial|   1|[{0, 0, Venda, 26...|     Todos os Santos|Zona Norte|\n",
            "+-----+----------+---------+---------+------------------+--------------------+-------+------+------------+------------+-----------+----+--------------------+--------------------+----------+\n",
            "only showing top 20 rows\n",
            "\n"
          ]
        }
      ]
    },
    {
      "cell_type": "markdown",
      "source": [
        "## Transformando os dados da coluna valores em novas colunas separadas"
      ],
      "metadata": {
        "id": "CQVFbHRdhVSC"
      }
    },
    {
      "cell_type": "code",
      "source": [
        "# Conferindo o esquema dos dados \n",
        "dados.printSchema()"
      ],
      "metadata": {
        "colab": {
          "base_uri": "https://localhost:8080/"
        },
        "id": "xF4d8E0MiEea",
        "outputId": "4cce5f73-4969-4a5d-ccae-bccc8e1088a9"
      },
      "execution_count": 23,
      "outputs": [
        {
          "output_type": "stream",
          "name": "stdout",
          "text": [
            "root\n",
            " |-- andar: long (nullable = true)\n",
            " |-- area_total: integer (nullable = true)\n",
            " |-- area_util: integer (nullable = true)\n",
            " |-- banheiros: integer (nullable = true)\n",
            " |-- caracteristicas: string (nullable = true)\n",
            " |-- id: string (nullable = true)\n",
            " |-- quartos: integer (nullable = true)\n",
            " |-- suites: integer (nullable = true)\n",
            " |-- tipo_anuncio: string (nullable = true)\n",
            " |-- tipo_unidade: string (nullable = true)\n",
            " |-- tipo_uso: string (nullable = true)\n",
            " |-- vaga: integer (nullable = true)\n",
            " |-- valores: array (nullable = true)\n",
            " |    |-- element: struct (containsNull = true)\n",
            " |    |    |-- condominio: string (nullable = true)\n",
            " |    |    |-- iptu: string (nullable = true)\n",
            " |    |    |-- tipo: string (nullable = true)\n",
            " |    |    |-- valor: string (nullable = true)\n",
            " |-- bairro: string (nullable = true)\n",
            " |-- zona: string (nullable = true)\n",
            "\n"
          ]
        }
      ]
    },
    {
      "cell_type": "code",
      "source": [
        "# Retirando Struct dos arrays\n",
        "dados = dados\\\n",
        "    .withColumn('valores', f.explode('valores'))"
      ],
      "metadata": {
        "id": "SdH3sB9BjuGS"
      },
      "execution_count": 24,
      "outputs": []
    },
    {
      "cell_type": "code",
      "source": [
        "# Selecionando colunas de valores\n",
        "colunas_valores = dados.select('valores.*').columns"
      ],
      "metadata": {
        "id": "f_2YeXH3tCUJ"
      },
      "execution_count": 25,
      "outputs": []
    },
    {
      "cell_type": "code",
      "source": [
        "# Adicioando as subcolunas de valores no DataFrame dados\n",
        "for col in colunas_valores:\n",
        "    dados = dados.withColumn(col, dados[f'valores.{col}'])"
      ],
      "metadata": {
        "id": "SaXI2ct7tNL5"
      },
      "execution_count": 26,
      "outputs": []
    },
    {
      "cell_type": "code",
      "source": [
        "# Excluindo valores\n",
        "dados = dados.drop('valores')"
      ],
      "metadata": {
        "id": "aiu3f10St4-P"
      },
      "execution_count": 27,
      "outputs": []
    },
    {
      "cell_type": "code",
      "source": [
        "dados.show()"
      ],
      "metadata": {
        "colab": {
          "base_uri": "https://localhost:8080/"
        },
        "id": "yZyhHq3huR54",
        "outputId": "f5532856-71fa-4a2f-a00f-4712ef8e6c23"
      },
      "execution_count": 28,
      "outputs": [
        {
          "output_type": "stream",
          "name": "stdout",
          "text": [
            "+-----+----------+---------+---------+------------------+--------------------+-------+------+------------+------------+-----------+----+--------------------+----------+----------+----+-----+-----+\n",
            "|andar|area_total|area_util|banheiros|   caracteristicas|                  id|quartos|suites|tipo_anuncio|tipo_unidade|   tipo_uso|vaga|              bairro|      zona|condominio|iptu| tipo|valor|\n",
            "+-----+----------+---------+---------+------------------+--------------------+-------+------+------------+------------+-----------+----+--------------------+----------+----------+----+-----+-----+\n",
            "|    3|        43|       43|        1|          Academia|d2e3a3aa-09b5-45a...|      2|  null|       Usado| Apartamento|Residencial|   1|           Paciência|Zona Oeste|       245|null|Venda|15000|\n",
            "|    2|        42|       42|        1|     Churrasqueira|085bab2c-87ad-452...|      2|  null|       Usado| Apartamento|Residencial|   1|           Paciência|Zona Oeste|         0|   0|Venda|15000|\n",
            "|    1|        41|       41|        1|      Portaria 24h|18d22cbe-1b86-476...|      2|  null|       Usado| Apartamento|Residencial|   1|           Guaratiba|Zona Oeste|         0|   0|Venda|20000|\n",
            "|    3|        43|       43|        1|     Churrasqueira|bed8a354-9317-442...|      2|  null|       Usado| Apartamento|Residencial|   0|              Cosmos|Zona Oeste|       285|null|Venda|20000|\n",
            "|    2|        43|       43|        1|          Academia|12a13315-d67f-48f...|      2|  null|       Usado| Apartamento|Residencial|   1|           Guaratiba|Zona Oeste|       245|null|Venda|15000|\n",
            "|    3|        43|       43|        1|     Churrasqueira|a2e6d7a5-0ff0-484...|      2|     0|       Usado| Apartamento|Residencial|   0|              Cosmos|Zona Oeste|       285|null|Venda|20000|\n",
            "|    3|        43|       43|        1|     Churrasqueira|a6e3173b-c950-4db...|      2|  null|       Usado| Apartamento|Residencial|   1|           Paciência|Zona Oeste|       250|null|Venda|15000|\n",
            "|    3|        43|       43|        1|     Churrasqueira|2e6e5dfb-206c-496...|      2|     0|       Usado| Apartamento|Residencial|   1|           Guaratiba|Zona Oeste|       245|null|Venda|15000|\n",
            "|    3|        43|       43|        1|     Churrasqueira|99f8d0f9-95a4-461...|      2|     0|       Usado| Apartamento|Residencial|   1|           Paciência|Zona Oeste|       245|null|Venda|15000|\n",
            "|    4|        43|       43|        1|     Churrasqueira|b3f44c1a-2d50-4d5...|      2|  null|       Usado| Apartamento|Residencial|   1|           Guaratiba|Zona Oeste|       240|null|Venda|17999|\n",
            "|    0|        60|       60|        1|Condomínio fechado|dc99d9e1-4c63-41f...|      2|  null|       Usado| Apartamento|Residencial|   1|  Pedra de Guaratiba|Zona Oeste|         0|   0|Venda|15000|\n",
            "|    1|        43|       43|        1|     Churrasqueira|aa3606d8-8bcd-45e...|      2|  null|       Usado| Apartamento|Residencial|   1|              Cosmos|Zona Oeste|       240|   0|Venda|19999|\n",
            "|    0|        43|       43|        1|     Churrasqueira|df80b0d5-677c-4be...|      2|     0|       Usado| Apartamento|Residencial|   0|        Campo Grande|Zona Oeste|       245|null|Venda|19999|\n",
            "|    2|        43|       43|        1|          Academia|3d6c0218-9b7d-474...|      2|  null|       Usado| Apartamento|Residencial|   2|          Santa Cruz|Zona Oeste|       290|null|Venda|25000|\n",
            "|    3|        43|       43|        1|   Salão de festas|304266cc-62d1-4ce...|      2|  null|       Usado| Apartamento|Residencial|null|           Guaratiba|Zona Oeste|       285|null|Venda|29999|\n",
            "|    4|        55|       55|        2|          Academia|111472a2-afa1-4a7...|      2|     1|       Usado| Apartamento|Residencial|   1|Recreio dos Bande...|Zona Oeste|         0|   0|Venda|30000|\n",
            "|    0|        45|       45|        1|        Playground|275c1589-6537-4bf...|      2|     0|       Usado| Apartamento|Residencial|   1|              Cosmos|Zona Oeste|      null|null|Venda|30000|\n",
            "|    5|        42|       42|        1|Condomínio fechado|ab8f367f-7509-45c...|      2|     0|       Usado| Apartamento|Residencial|   0|            Realengo|Zona Oeste|       280|   0|Venda|25000|\n",
            "|    1|        43|       43|        1|     Churrasqueira|e0a3d370-66dd-4f5...|      2|  null|       Usado| Apartamento|Residencial|   1|              Cosmos|Zona Oeste|       280|null|Venda|27999|\n",
            "|    3|      null|       55|        1|          Academia|09c8ba2d-dbf1-487...|      2|     1|       Usado| Apartamento|Residencial|   1|     Todos os Santos|Zona Norte|         0|   0|Venda|26000|\n",
            "+-----+----------+---------+---------+------------------+--------------------+-------+------+------------+------------+-----------+----+--------------------+----------+----------+----+-----+-----+\n",
            "only showing top 20 rows\n",
            "\n"
          ]
        }
      ]
    },
    {
      "cell_type": "markdown",
      "source": [
        "## Selecionando apenas amostras cujo \"tipo\" seja Venda"
      ],
      "metadata": {
        "id": "v7WUh_Fuu-4g"
      }
    },
    {
      "cell_type": "code",
      "source": [
        "dados = dados\\\n",
        "    .where('tipo = \"Venda\"')"
      ],
      "metadata": {
        "id": "SU7olEJquVEq"
      },
      "execution_count": 29,
      "outputs": []
    },
    {
      "cell_type": "markdown",
      "source": [
        "# Salvando os dados"
      ],
      "metadata": {
        "id": "vG79oFwu4vqI"
      }
    },
    {
      "cell_type": "markdown",
      "source": [
        "Salvando dados em formato parquet"
      ],
      "metadata": {
        "id": "XDHXwDAkvRZL"
      }
    },
    {
      "cell_type": "code",
      "source": [
        "dados.write\\\n",
        "        .parquet(\n",
        "            'resultados/dados_processados_parquet',\n",
        "            mode='overwrite'\n",
        "            )"
      ],
      "metadata": {
        "id": "eHH6oCAYvTxo",
        "colab": {
          "base_uri": "https://localhost:8080/",
          "height": 235
        },
        "outputId": "db5228a9-c410-4f1d-c19a-09f788560ec1"
      },
      "execution_count": 1,
      "outputs": [
        {
          "output_type": "error",
          "ename": "NameError",
          "evalue": "ignored",
          "traceback": [
            "\u001b[0;31m---------------------------------------------------------------------------\u001b[0m",
            "\u001b[0;31mNameError\u001b[0m                                 Traceback (most recent call last)",
            "\u001b[0;32m<ipython-input-1-2018cdb2e3bf>\u001b[0m in \u001b[0;36m<module>\u001b[0;34m\u001b[0m\n\u001b[0;32m----> 1\u001b[0;31m \u001b[0mdados\u001b[0m\u001b[0;34m.\u001b[0m\u001b[0mwrite\u001b[0m\u001b[0;31m\\\u001b[0m\u001b[0;34m\u001b[0m\u001b[0;34m\u001b[0m\u001b[0m\n\u001b[0m\u001b[1;32m      2\u001b[0m         .parquet(\n\u001b[1;32m      3\u001b[0m             \u001b[0;34m'resultados/dados_processados_parquet'\u001b[0m\u001b[0;34m,\u001b[0m\u001b[0;34m\u001b[0m\u001b[0;34m\u001b[0m\u001b[0m\n\u001b[1;32m      4\u001b[0m             \u001b[0mmode\u001b[0m\u001b[0;34m=\u001b[0m\u001b[0;34m'overwrite'\u001b[0m\u001b[0;34m\u001b[0m\u001b[0;34m\u001b[0m\u001b[0m\n\u001b[1;32m      5\u001b[0m             )\n",
            "\u001b[0;31mNameError\u001b[0m: name 'dados' is not defined"
          ]
        }
      ]
    },
    {
      "cell_type": "markdown",
      "source": [
        "Salvando dados em formato csv"
      ],
      "metadata": {
        "id": "BGfz4XZpwMnU"
      }
    },
    {
      "cell_type": "code",
      "source": [
        "dados.write\\\n",
        "        .csv(\n",
        "            'resultados/dados_processados_csv',\n",
        "            mode='overwrite',\n",
        "            header=True\n",
        "            )"
      ],
      "metadata": {
        "id": "eF7dXnj5vsg4"
      },
      "execution_count": null,
      "outputs": []
    },
    {
      "cell_type": "markdown",
      "source": [
        "Salvando dados em formato ORC"
      ],
      "metadata": {
        "id": "4KyWVkXw9pMy"
      }
    },
    {
      "cell_type": "code",
      "source": [
        "dados.write.orc(\n",
        "    'resultados/dados_processados_orc',\n",
        "    mode='overwrite',    \n",
        ")"
      ],
      "metadata": {
        "id": "BpddbxjaxcWP"
      },
      "execution_count": null,
      "outputs": []
    },
    {
      "cell_type": "markdown",
      "source": [
        "### Comparando desempenho de leitura"
      ],
      "metadata": {
        "id": "fSOHfo3LwOY9"
      }
    },
    {
      "cell_type": "code",
      "source": [
        "%%time\n",
        "spark.read.parquet(\n",
        "    '/content/drive/Othercomputers/Fino do Fino 2.0/Python Notebook/Challange_Data_Science/Semana01/dados_processados_parquet'\n",
        ")"
      ],
      "metadata": {
        "id": "EnbvZe0awHOY"
      },
      "execution_count": null,
      "outputs": []
    },
    {
      "cell_type": "code",
      "source": [
        "%%time\n",
        "spark.read.csv(\n",
        "    '/content/drive/Othercomputers/Fino do Fino 2.0/Python Notebook/Challange_Data_Science/Semana01/dados_processados_csv',\n",
        "    inferSchema=True,\n",
        "    header=True\n",
        ")"
      ],
      "metadata": {
        "id": "OyalJQybwWS4"
      },
      "execution_count": null,
      "outputs": []
    },
    {
      "cell_type": "code",
      "source": [
        "%%time\n",
        "spark.read.orc(\n",
        "    '/content/drive/Othercomputers/Fino do Fino 2.0/Python Notebook/Challange_Data_Science/Semana01/dados_processados_orc'\n",
        ")"
      ],
      "metadata": {
        "id": "PMyC_1-LxrMH"
      },
      "execution_count": null,
      "outputs": []
    },
    {
      "cell_type": "markdown",
      "source": [
        "O desempenho de leitura de formatos parquet se mostrou mais rápido que a leitura de csv e de ORC"
      ],
      "metadata": {
        "id": "ZX3pB8g8w2Af"
      }
    }
  ]
}
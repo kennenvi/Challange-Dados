{
  "nbformat": 4,
  "nbformat_minor": 0,
  "metadata": {
    "colab": {
      "provenance": [],
      "toc_visible": true,
      "authorship_tag": "ABX9TyOhdlGrLg2/Nr2I+H2ZJgbh",
      "include_colab_link": true
    },
    "kernelspec": {
      "name": "python3",
      "display_name": "Python 3"
    },
    "language_info": {
      "name": "python"
    }
  },
  "cells": [
    {
      "cell_type": "markdown",
      "metadata": {
        "id": "view-in-github",
        "colab_type": "text"
      },
      "source": [
        "<a href=\"https://colab.research.google.com/github/kennenvi/Challange-Dados/blob/main/Sistema_de_recomendacao_com_PySpark.ipynb\" target=\"_parent\"><img src=\"https://colab.research.google.com/assets/colab-badge.svg\" alt=\"Open In Colab\"/></a>"
      ]
    },
    {
      "cell_type": "markdown",
      "source": [
        "# Criando um sistema recomendador de imóveis para a Insight Places\n",
        "----\n",
        "\n",
        "Nessa etapa será construido um recomendador de imóves utilizando o PySpark e seu módelo de aprendizado de máquina. \n",
        "Esse recomendador terá como base um clusterizador para agrupar os dados e apartir desses clusters indicar novos imóveis"
      ],
      "metadata": {
        "id": "yUccJ3vo9Pv_"
      }
    },
    {
      "cell_type": "markdown",
      "metadata": {
        "id": "xIZNca7Pjgqf"
      },
      "source": [
        "# Iniciando ambiente"
      ]
    },
    {
      "cell_type": "markdown",
      "metadata": {
        "id": "A_pds0odi1Rj"
      },
      "source": [
        "## Instalando o PySpark no Google Colab"
      ]
    },
    {
      "cell_type": "code",
      "source": [
        "!pip install pyspark==3.3.1"
      ],
      "metadata": {
        "colab": {
          "base_uri": "https://localhost:8080/"
        },
        "id": "TtSLyCVGuXFb",
        "outputId": "50d78229-f83e-4e16-d23d-2bdf2d02f97b"
      },
      "execution_count": 160,
      "outputs": [
        {
          "output_type": "stream",
          "name": "stdout",
          "text": [
            "Looking in indexes: https://pypi.org/simple, https://us-python.pkg.dev/colab-wheels/public/simple/\n",
            "Requirement already satisfied: pyspark==3.3.1 in /usr/local/lib/python3.8/dist-packages (3.3.1)\n",
            "Requirement already satisfied: py4j==0.10.9.5 in /usr/local/lib/python3.8/dist-packages (from pyspark==3.3.1) (0.10.9.5)\n"
          ]
        }
      ]
    },
    {
      "cell_type": "markdown",
      "metadata": {
        "id": "YGNS075GGlH0"
      },
      "source": [
        "## SparkSession\n",
        "\n",
        "O ponto de entrada para programar o Spark com a API Dataset e DataFrame."
      ]
    },
    {
      "cell_type": "code",
      "source": [
        "from pyspark.sql import SparkSession\n",
        "\n",
        "spark = SparkSession.builder \\\n",
        "    .master('local[*]') \\\n",
        "    .appName(\"Iniciando com Spark\") \\\n",
        "    .config('spark.ui.port', '4050') \\\n",
        "    .getOrCreate()"
      ],
      "metadata": {
        "id": "IcVyRdrwdFKE"
      },
      "execution_count": 161,
      "outputs": []
    },
    {
      "cell_type": "code",
      "execution_count": 162,
      "metadata": {
        "id": "PizPNqbmCuSM",
        "colab": {
          "base_uri": "https://localhost:8080/",
          "height": 219
        },
        "outputId": "c0d2ddfc-7e75-4104-da94-e80fc8380297"
      },
      "outputs": [
        {
          "output_type": "execute_result",
          "data": {
            "text/plain": [
              "<pyspark.sql.session.SparkSession at 0x7f338aa556d0>"
            ],
            "text/html": [
              "\n",
              "            <div>\n",
              "                <p><b>SparkSession - in-memory</b></p>\n",
              "                \n",
              "        <div>\n",
              "            <p><b>SparkContext</b></p>\n",
              "\n",
              "            <p><a href=\"http://76b28b1e6481:4050\">Spark UI</a></p>\n",
              "\n",
              "            <dl>\n",
              "              <dt>Version</dt>\n",
              "                <dd><code>v3.3.1</code></dd>\n",
              "              <dt>Master</dt>\n",
              "                <dd><code>local[*]</code></dd>\n",
              "              <dt>AppName</dt>\n",
              "                <dd><code>Iniciando com Spark</code></dd>\n",
              "            </dl>\n",
              "        </div>\n",
              "        \n",
              "            </div>\n",
              "        "
            ]
          },
          "metadata": {},
          "execution_count": 162
        }
      ],
      "source": [
        "spark"
      ]
    },
    {
      "cell_type": "markdown",
      "source": [
        "## Baixando conjunto de dados"
      ],
      "metadata": {
        "id": "HDEfKGcCGhh0"
      }
    },
    {
      "cell_type": "code",
      "source": [
        "!wget 'https://caelum-online-public.s3.amazonaws.com/challenge-spark/semanas-3-e-4.zip' && unzip semanas-3-e-4.zip -d dados/"
      ],
      "metadata": {
        "id": "yip_n_BAGkjz",
        "colab": {
          "base_uri": "https://localhost:8080/"
        },
        "outputId": "108f2a51-f64d-43b7-cba1-dd5b25871ba5"
      },
      "execution_count": 163,
      "outputs": [
        {
          "output_type": "stream",
          "name": "stdout",
          "text": [
            "--2022-12-15 00:58:11--  https://caelum-online-public.s3.amazonaws.com/challenge-spark/semanas-3-e-4.zip\n",
            "Resolving caelum-online-public.s3.amazonaws.com (caelum-online-public.s3.amazonaws.com)... 52.216.77.4, 54.231.128.185, 52.216.212.225, ...\n",
            "Connecting to caelum-online-public.s3.amazonaws.com (caelum-online-public.s3.amazonaws.com)|52.216.77.4|:443... connected.\n",
            "HTTP request sent, awaiting response... 200 OK\n",
            "Length: 2588308 (2.5M) [application/zip]\n",
            "Saving to: ‘semanas-3-e-4.zip.2’\n",
            "\n",
            "semanas-3-e-4.zip.2 100%[===================>]   2.47M  1.92MB/s    in 1.3s    \n",
            "\n",
            "2022-12-15 00:58:13 (1.92 MB/s) - ‘semanas-3-e-4.zip.2’ saved [2588308/2588308]\n",
            "\n",
            "Archive:  semanas-3-e-4.zip\n",
            "replace dados/dataset_ml_parquet/_SUCCESS? [y]es, [n]o, [A]ll, [N]one, [r]ename: A\n",
            "  inflating: dados/dataset_ml_parquet/_SUCCESS  \n",
            "  inflating: dados/dataset_ml_parquet/._SUCCESS.crc  \n",
            "  inflating: dados/dataset_ml_parquet/part-00003-a14b227c-f87e-4893-b5f9-4163ed07cb37-c000.snappy.parquet  \n",
            "  inflating: dados/dataset_ml_parquet/part-00001-a14b227c-f87e-4893-b5f9-4163ed07cb37-c000.snappy.parquet  \n",
            "  inflating: dados/dataset_ml_parquet/part-00000-a14b227c-f87e-4893-b5f9-4163ed07cb37-c000.snappy.parquet  \n",
            "  inflating: dados/dataset_ml_parquet/.part-00003-a14b227c-f87e-4893-b5f9-4163ed07cb37-c000.snappy.parquet.crc  \n",
            "  inflating: dados/dataset_ml_parquet/part-00002-a14b227c-f87e-4893-b5f9-4163ed07cb37-c000.snappy.parquet  \n",
            "  inflating: dados/dataset_ml_parquet/.part-00001-a14b227c-f87e-4893-b5f9-4163ed07cb37-c000.snappy.parquet.crc  \n",
            "  inflating: dados/dataset_ml_parquet/.part-00002-a14b227c-f87e-4893-b5f9-4163ed07cb37-c000.snappy.parquet.crc  \n",
            "  inflating: dados/dataset_ml_parquet/.part-00000-a14b227c-f87e-4893-b5f9-4163ed07cb37-c000.snappy.parquet.crc  \n"
          ]
        }
      ]
    },
    {
      "cell_type": "markdown",
      "source": [
        "# Criando modelo de recomendação"
      ],
      "metadata": {
        "id": "fpJtJI3sOLrx"
      }
    },
    {
      "cell_type": "code",
      "source": [
        "#Carregando dados\n",
        "dados = spark.read.parquet(\n",
        "  '/content/dados/dataset_ml_parquet'  \n",
        ")"
      ],
      "metadata": {
        "id": "DNNm-HIW4twT"
      },
      "execution_count": 164,
      "outputs": []
    },
    {
      "cell_type": "code",
      "source": [
        "dados.show()"
      ],
      "metadata": {
        "colab": {
          "base_uri": "https://localhost:8080/"
        },
        "id": "VBYqeaS05Gcb",
        "outputId": "4533c8f2-71be-41fb-89c0-252ac999413d"
      },
      "execution_count": 165,
      "outputs": [
        {
          "output_type": "stream",
          "name": "stdout",
          "text": [
            "+--------------------+-----+---------+---------+-------+------+----+--------------------+----------+------+---------+------------+----------+----------+--------+--------+------------------+-------------+------------------+--------+-------+----------+------------+-----------------+---------------+\n",
            "|                  id|andar|area_util|banheiros|quartos|suites|vaga|              bairro|condominio|  iptu|    valor|Zona Central|Zona Norte|Zona Oeste|Zona Sul|Academia|Animais permitidos|Churrasqueira|Condomínio fechado|Elevador|Piscina|Playground|Portaria 24h|Portão eletrônico|Salão de festas|\n",
            "+--------------------+-----+---------+---------+-------+------+----+--------------------+----------+------+---------+------------+----------+----------+--------+--------+------------------+-------------+------------------+--------+-------+----------+------------+-----------------+---------------+\n",
            "|00002dd9-cc74-480...|    2|       35|        1|      1|   0.0| 0.0|        Santo Cristo|     100.0| 100.0| 245000.0|           1|         0|         0|       0|       1|                 1|            1|                 1|       1|      1|         1|           1|                1|              1|\n",
            "|0009ca94-2b37-438...|    1|       84|        2|      2|   0.0| 1.0|              Tijuca|     770.0| 105.0| 474980.0|           0|         1|         0|       0|       0|                 0|            1|                 0|       1|      0|         1|           1|                0|              1|\n",
            "|000e3d28-e3e5-411...|    0|       85|        2|      2|   0.0| 0.0|        Santa Teresa|     460.0| 661.0| 290000.0|           0|         0|         0|       1|       0|                 1|            0|                 0|       1|      0|         0|           0|                0|              0|\n",
            "|000fb707-6cad-496...|    0|       58|        1|      2|   0.0| 1.0|           Pechincha|     550.0| 550.0| 249000.0|           0|         0|         1|       0|       0|                 0|            0|                 0|       0|      1|         1|           0|                0|              0|\n",
            "|001b6db0-e88d-4eb...|    0|       64|        2|      2|   1.0| 1.0|              Tijuca|     850.0|   0.0| 530000.0|           0|         1|         0|       0|       0|                 0|            0|                 0|       0|      0|         0|           0|                0|              0|\n",
            "|002db67e-52cc-480...|    0|      200|        6|      4|   4.0| 2.0|     Barra da Tijuca|    2500.0| 420.0|2900000.0|           0|         0|         1|       0|       1|                 1|            1|                 1|       1|      1|         1|           0|                0|              1|\n",
            "|002dc4e0-f1a5-4ad...|    0|       70|        2|      2|   0.0| 0.0|         Vila Isabel|     570.0|   0.0| 389000.0|           0|         1|         0|       0|       0|                 0|            0|                 0|       1|      0|         0|           0|                0|              0|\n",
            "|0030dd84-f657-41f...|    3|       70|        2|      2|   1.0| 1.0|        Pitangueiras|     670.0| 107.0| 470000.0|           0|         1|         0|       0|       0|                 0|            0|                 0|       1|      0|         0|           0|                1|              0|\n",
            "|003213bb-ec21-4ad...|    0|      302|        7|      4|   4.0| 2.0|     Barra da Tijuca|       0.0|   0.0|4400000.0|           0|         0|         1|       0|       1|                 0|            1|                 1|       0|      1|         1|           0|                0|              1|\n",
            "|0032884c-aa5f-455...|    0|       41|        1|      1|   1.0| 1.0|            Cachambi|     450.0|  40.0| 269900.0|           0|         1|         0|       0|       1|                 1|            1|                 1|       1|      1|         1|           1|                1|              1|\n",
            "|00348cd1-923a-4db...|    5|       78|        1|      2|   1.0| 1.0|     Barra da Tijuca|       1.0|   1.0|1050300.0|           0|         0|         1|       0|       1|                 1|            1|                 1|       1|      1|         1|           1|                1|              1|\n",
            "|0034df72-124a-438...|    0|      170|        3|      3|   2.0| 2.0|Recreio dos Bande...|    1300.0|4100.0| 950000.0|           0|         0|         1|       0|       1|                 0|            1|                 1|       0|      1|         0|           0|                0|              1|\n",
            "|0036114a-4a0f-492...|    0|      173|        3|      3|   1.0| 2.0|         Jacarepaguá|    1750.0|4600.0|1300000.0|           0|         0|         1|       0|       1|                 0|            1|                 0|       0|      1|         1|           0|                0|              1|\n",
            "|00370d62-f774-405...|    0|       82|        1|      3|   1.0| 1.0|Recreio dos Bande...|     650.0| 200.0| 650000.0|           0|         0|         1|       0|       0|                 0|            0|                 0|       0|      0|         0|           0|                0|              0|\n",
            "|00396d9d-2d0e-4b5...|    9|      120|        2|      2|   1.0| 2.0|          Copacabana|     950.0| 200.0| 970000.0|           0|         0|         0|       1|       0|                 1|            0|                 1|       1|      0|         0|           1|                1|              0|\n",
            "|003cb63c-a666-458...|   20|      341|        2|      3|   1.0| 2.0|          Copacabana|      20.0|  20.0|4800000.0|           0|         0|         0|       1|       0|                 1|            0|                 1|       1|      0|         0|           1|                1|              0|\n",
            "|0040f5a7-6c6a-40e...|    0|      194|        5|      4|   4.0| 3.0|     Barra da Tijuca|       0.0|   0.0|2750000.0|           0|         0|         1|       0|       1|                 0|            1|                 1|       1|      1|         1|           1|                1|              1|\n",
            "|00529a9d-d876-4dc...|    0|       32|        1|      1|   0.0| 0.0|             Piedade|       0.0|   0.0| 194687.0|           0|         1|         0|       0|       0|                 0|            0|                 0|       0|      0|         0|           0|                0|              1|\n",
            "|00584813-33b4-477...|    1|       70|        1|      2|   0.0| 0.0|          Bonsucesso|       0.0|   0.0| 220000.0|           0|         1|         0|       0|       0|                 0|            0|                 0|       0|      0|         0|           0|                0|              0|\n",
            "|005b5441-16b2-483...|   10|       72|        1|      2|   0.0| 1.0|            Botafogo|    1086.0|1498.0|1000000.0|           0|         0|         0|       1|       0|                 1|            0|                 1|       1|      0|         0|           1|                1|              0|\n",
            "+--------------------+-----+---------+---------+-------+------+----+--------------------+----------+------+---------+------------+----------+----------+--------+--------+------------------+-------------+------------------+--------+-------+----------+------------+-----------------+---------------+\n",
            "only showing top 20 rows\n",
            "\n"
          ]
        }
      ]
    },
    {
      "cell_type": "code",
      "source": [
        "# Verificando estrutura dos dados\n",
        "dados.printSchema()"
      ],
      "metadata": {
        "colab": {
          "base_uri": "https://localhost:8080/"
        },
        "id": "-yUHlv9T5YbR",
        "outputId": "41ddde3d-350b-492f-aeb7-77f22f5192f3"
      },
      "execution_count": 166,
      "outputs": [
        {
          "output_type": "stream",
          "name": "stdout",
          "text": [
            "root\n",
            " |-- id: string (nullable = true)\n",
            " |-- andar: integer (nullable = true)\n",
            " |-- area_util: integer (nullable = true)\n",
            " |-- banheiros: integer (nullable = true)\n",
            " |-- quartos: integer (nullable = true)\n",
            " |-- suites: double (nullable = true)\n",
            " |-- vaga: double (nullable = true)\n",
            " |-- bairro: string (nullable = true)\n",
            " |-- condominio: double (nullable = true)\n",
            " |-- iptu: double (nullable = true)\n",
            " |-- valor: double (nullable = true)\n",
            " |-- Zona Central: integer (nullable = true)\n",
            " |-- Zona Norte: integer (nullable = true)\n",
            " |-- Zona Oeste: integer (nullable = true)\n",
            " |-- Zona Sul: integer (nullable = true)\n",
            " |-- Academia: integer (nullable = true)\n",
            " |-- Animais permitidos: integer (nullable = true)\n",
            " |-- Churrasqueira: integer (nullable = true)\n",
            " |-- Condomínio fechado: integer (nullable = true)\n",
            " |-- Elevador: integer (nullable = true)\n",
            " |-- Piscina: integer (nullable = true)\n",
            " |-- Playground: integer (nullable = true)\n",
            " |-- Portaria 24h: integer (nullable = true)\n",
            " |-- Portão eletrônico: integer (nullable = true)\n",
            " |-- Salão de festas: integer (nullable = true)\n",
            "\n"
          ]
        }
      ]
    },
    {
      "cell_type": "markdown",
      "source": [
        "A coluna `bairro` é categória e a primeira vista parece conter muitos valores únicos, por isso será explorada para confirmar se vale a pena utiliza-la no modelo"
      ],
      "metadata": {
        "id": "VNY3FNv8-BXc"
      }
    },
    {
      "cell_type": "code",
      "source": [
        "# Coletando valores únicos da coluna \"bairro\"\n",
        "dados\\\n",
        "    .select('bairro')\\\n",
        "    .distinct()\\\n",
        "    .count()"
      ],
      "metadata": {
        "colab": {
          "base_uri": "https://localhost:8080/"
        },
        "id": "00Dljykq5-Ui",
        "outputId": "88bc1523-5fc1-4c64-eeb9-70377785676a"
      },
      "execution_count": 167,
      "outputs": [
        {
          "output_type": "execute_result",
          "data": {
            "text/plain": [
              "150"
            ]
          },
          "metadata": {},
          "execution_count": 167
        }
      ]
    },
    {
      "cell_type": "code",
      "source": [
        "# Mostrando a quantidade de amostras em cada categoria de \"bairro\"\n",
        "dados\\\n",
        "    .groupby('bairro')\\\n",
        "    .count()\\\n",
        "    .sort('count')\\\n",
        "    .show()"
      ],
      "metadata": {
        "colab": {
          "base_uri": "https://localhost:8080/"
        },
        "id": "IuZsj1FC9lkS",
        "outputId": "06b7cabd-ce71-4a10-c20c-66d090e6b864"
      },
      "execution_count": 168,
      "outputs": [
        {
          "output_type": "stream",
          "name": "stdout",
          "text": [
            "+--------------------+-----+\n",
            "|              bairro|count|\n",
            "+--------------------+-----+\n",
            "|       Vasco da Gama|    1|\n",
            "|          Manguinhos|    1|\n",
            "|             Deodoro|    1|\n",
            "|                Caju|    1|\n",
            "|        Barros Filho|    1|\n",
            "|              Galeão|    1|\n",
            "|   Campo dos Afonsos|    2|\n",
            "|Ricardo de Albuqu...|    2|\n",
            "|     Engenheiro Leal|    2|\n",
            "|     Parque Anchieta|    2|\n",
            "|              Jacaré|    3|\n",
            "|    Magalhães Bastos|    3|\n",
            "|     Parque Colúmbia|    3|\n",
            "|  Barra de Guaratiba|    4|\n",
            "|           Mangueira|    4|\n",
            "|                 Joá|    6|\n",
            "|       Gardênia Azul|    7|\n",
            "|            Sepetiba|    7|\n",
            "|             Paquetá|    7|\n",
            "|          Cavalcanti|    7|\n",
            "+--------------------+-----+\n",
            "only showing top 20 rows\n",
            "\n"
          ]
        }
      ]
    },
    {
      "cell_type": "markdown",
      "source": [
        "De acordo com a análise acima a coluna `bairro` será retirada, porque esta possui uma quantidade muito grande de valores únicos com poucas amostras para serem transformados de variáveis categóricas para numéricas, além de possuir categorias com poucas amostras, o que traria poucas informações para o modelo ao custo de adicionar 150 novas dimenções (utilizando a técnica de variáveis dummy)"
      ],
      "metadata": {
        "id": "JK_VARm_51Jx"
      }
    },
    {
      "cell_type": "code",
      "source": [
        "# Retirando coluna \"dados\"\n",
        "dados = dados.drop('bairro')"
      ],
      "metadata": {
        "id": "OUO57vMD6ZXC"
      },
      "execution_count": 169,
      "outputs": []
    },
    {
      "cell_type": "markdown",
      "source": [
        "### Preparando os dados"
      ],
      "metadata": {
        "id": "8pHO-yuq6fEJ"
      }
    },
    {
      "cell_type": "code",
      "source": [
        "from pyspark.ml.feature import VectorAssembler"
      ],
      "metadata": {
        "id": "ieVnki666dMY"
      },
      "execution_count": 170,
      "outputs": []
    },
    {
      "cell_type": "code",
      "source": [
        "# Selecionando colunas que serão utilizadas como features\n",
        "X = dados.drop('id').columns\n",
        "X"
      ],
      "metadata": {
        "colab": {
          "base_uri": "https://localhost:8080/"
        },
        "id": "Mc_TW55q6mKB",
        "outputId": "bb779e8f-eaa1-4d15-a83a-7a92e60d2701"
      },
      "execution_count": 171,
      "outputs": [
        {
          "output_type": "execute_result",
          "data": {
            "text/plain": [
              "['andar',\n",
              " 'area_util',\n",
              " 'banheiros',\n",
              " 'quartos',\n",
              " 'suites',\n",
              " 'vaga',\n",
              " 'condominio',\n",
              " 'iptu',\n",
              " 'valor',\n",
              " 'Zona Central',\n",
              " 'Zona Norte',\n",
              " 'Zona Oeste',\n",
              " 'Zona Sul',\n",
              " 'Academia',\n",
              " 'Animais permitidos',\n",
              " 'Churrasqueira',\n",
              " 'Condomínio fechado',\n",
              " 'Elevador',\n",
              " 'Piscina',\n",
              " 'Playground',\n",
              " 'Portaria 24h',\n",
              " 'Portão eletrônico',\n",
              " 'Salão de festas']"
            ]
          },
          "metadata": {},
          "execution_count": 171
        }
      ]
    },
    {
      "cell_type": "code",
      "source": [
        "# Vetorizando os dados\n",
        "dados_prep = VectorAssembler(inputCols=X, outputCol='features').transform(dados)"
      ],
      "metadata": {
        "id": "jmDgVCLE6v5T"
      },
      "execution_count": 172,
      "outputs": []
    },
    {
      "cell_type": "code",
      "source": [
        "# Visualizando a coluna features\n",
        "dados_prep.select('features').show(truncate=False)"
      ],
      "metadata": {
        "colab": {
          "base_uri": "https://localhost:8080/"
        },
        "id": "4jZxXPXx6_da",
        "outputId": "27c26d76-4065-4b10-8841-c3a15fb35823"
      },
      "execution_count": 173,
      "outputs": [
        {
          "output_type": "stream",
          "name": "stdout",
          "text": [
            "+----------------------------------------------------------------------------------------------------------------+\n",
            "|features                                                                                                        |\n",
            "+----------------------------------------------------------------------------------------------------------------+\n",
            "|[2.0,35.0,1.0,1.0,0.0,0.0,100.0,100.0,245000.0,1.0,0.0,0.0,0.0,1.0,1.0,1.0,1.0,1.0,1.0,1.0,1.0,1.0,1.0]         |\n",
            "|(23,[0,1,2,3,5,6,7,8,10,15,17,19,20,22],[1.0,84.0,2.0,2.0,1.0,770.0,105.0,474980.0,1.0,1.0,1.0,1.0,1.0,1.0])    |\n",
            "|(23,[1,2,3,6,7,8,12,14,17],[85.0,2.0,2.0,460.0,661.0,290000.0,1.0,1.0,1.0])                                     |\n",
            "|(23,[1,2,3,5,6,7,8,11,18,19],[58.0,1.0,2.0,1.0,550.0,550.0,249000.0,1.0,1.0,1.0])                               |\n",
            "|(23,[1,2,3,4,5,6,8,10],[64.0,2.0,2.0,1.0,1.0,850.0,530000.0,1.0])                                               |\n",
            "|[0.0,200.0,6.0,4.0,4.0,2.0,2500.0,420.0,2900000.0,0.0,0.0,1.0,0.0,1.0,1.0,1.0,1.0,1.0,1.0,1.0,0.0,0.0,1.0]      |\n",
            "|(23,[1,2,3,6,8,10,17],[70.0,2.0,2.0,570.0,389000.0,1.0,1.0])                                                    |\n",
            "|(23,[0,1,2,3,4,5,6,7,8,10,17,21],[3.0,70.0,2.0,2.0,1.0,1.0,670.0,107.0,470000.0,1.0,1.0,1.0])                   |\n",
            "|(23,[1,2,3,4,5,8,11,13,15,16,18,19,22],[302.0,7.0,4.0,4.0,2.0,4400000.0,1.0,1.0,1.0,1.0,1.0,1.0,1.0])           |\n",
            "|[0.0,41.0,1.0,1.0,1.0,1.0,450.0,40.0,269900.0,0.0,1.0,0.0,0.0,1.0,1.0,1.0,1.0,1.0,1.0,1.0,1.0,1.0,1.0]          |\n",
            "|[5.0,78.0,1.0,2.0,1.0,1.0,1.0,1.0,1050300.0,0.0,0.0,1.0,0.0,1.0,1.0,1.0,1.0,1.0,1.0,1.0,1.0,1.0,1.0]            |\n",
            "|(23,[1,2,3,4,5,6,7,8,11,13,15,16,18,22],[170.0,3.0,3.0,2.0,2.0,1300.0,4100.0,950000.0,1.0,1.0,1.0,1.0,1.0,1.0]) |\n",
            "|(23,[1,2,3,4,5,6,7,8,11,13,15,18,19,22],[173.0,3.0,3.0,1.0,2.0,1750.0,4600.0,1300000.0,1.0,1.0,1.0,1.0,1.0,1.0])|\n",
            "|(23,[1,2,3,4,5,6,7,8,11],[82.0,1.0,3.0,1.0,1.0,650.0,200.0,650000.0,1.0])                                       |\n",
            "|[9.0,120.0,2.0,2.0,1.0,2.0,950.0,200.0,970000.0,0.0,0.0,0.0,1.0,0.0,1.0,0.0,1.0,1.0,0.0,0.0,1.0,1.0,0.0]        |\n",
            "|[20.0,341.0,2.0,3.0,1.0,2.0,20.0,20.0,4800000.0,0.0,0.0,0.0,1.0,0.0,1.0,0.0,1.0,1.0,0.0,0.0,1.0,1.0,0.0]        |\n",
            "|[0.0,194.0,5.0,4.0,4.0,3.0,0.0,0.0,2750000.0,0.0,0.0,1.0,0.0,1.0,0.0,1.0,1.0,1.0,1.0,1.0,1.0,1.0,1.0]           |\n",
            "|(23,[1,2,3,8,10,22],[32.0,1.0,1.0,194687.0,1.0,1.0])                                                            |\n",
            "|(23,[0,1,2,3,8,10],[1.0,70.0,1.0,2.0,220000.0,1.0])                                                             |\n",
            "|(23,[0,1,2,3,5,6,7,8,12,14,16,17,20,21],[10.0,72.0,1.0,2.0,1.0,1086.0,1498.0,1000000.0,1.0,1.0,1.0,1.0,1.0,1.0])|\n",
            "+----------------------------------------------------------------------------------------------------------------+\n",
            "only showing top 20 rows\n",
            "\n"
          ]
        }
      ]
    },
    {
      "cell_type": "markdown",
      "source": [
        "### Normalizando os dados\n",
        "\n",
        "No decorrer do projeto será utilizado a técnica do PCA que necessita que todas as variáveis sejam normalizadas para funcionar, por isso será utilizado o StandardScaler do PySpark para normalizar as features"
      ],
      "metadata": {
        "id": "I0BlyF-u_v4b"
      }
    },
    {
      "cell_type": "code",
      "source": [
        "from pyspark.ml.feature import StandardScaler"
      ],
      "metadata": {
        "id": "bCfe-slM7Izz"
      },
      "execution_count": 174,
      "outputs": []
    },
    {
      "cell_type": "code",
      "source": [
        "scaler = StandardScaler(inputCol='features', outputCol='scaled_features')\n",
        "model_scaler = scaler.fit(dados_prep)\n",
        "dados_prep = model_scaler.transform(dados_prep)"
      ],
      "metadata": {
        "id": "noi8qybR7QZa"
      },
      "execution_count": 175,
      "outputs": []
    },
    {
      "cell_type": "code",
      "source": [
        "dados_prep.select('features', 'scaled_features').show()"
      ],
      "metadata": {
        "colab": {
          "base_uri": "https://localhost:8080/"
        },
        "id": "J_0G6MlD7nfj",
        "outputId": "80be03d1-4ccd-4b1e-c370-9982ae284294"
      },
      "execution_count": 176,
      "outputs": [
        {
          "output_type": "stream",
          "name": "stdout",
          "text": [
            "+--------------------+--------------------+\n",
            "|            features|     scaled_features|\n",
            "+--------------------+--------------------+\n",
            "|[2.0,35.0,1.0,1.0...|[0.13607726247524...|\n",
            "|(23,[0,1,2,3,5,6,...|(23,[0,1,2,3,5,6,...|\n",
            "|(23,[1,2,3,6,7,8,...|(23,[1,2,3,6,7,8,...|\n",
            "|(23,[1,2,3,5,6,7,...|(23,[1,2,3,5,6,7,...|\n",
            "|(23,[1,2,3,4,5,6,...|(23,[1,2,3,4,5,6,...|\n",
            "|[0.0,200.0,6.0,4....|[0.0,2.2447697820...|\n",
            "|(23,[1,2,3,6,8,10...|(23,[1,2,3,6,8,10...|\n",
            "|(23,[0,1,2,3,4,5,...|(23,[0,1,2,3,4,5,...|\n",
            "|(23,[1,2,3,4,5,8,...|(23,[1,2,3,4,5,8,...|\n",
            "|[0.0,41.0,1.0,1.0...|[0.0,0.4601778053...|\n",
            "|[5.0,78.0,1.0,2.0...|[0.34019315618810...|\n",
            "|(23,[1,2,3,4,5,6,...|(23,[1,2,3,4,5,6,...|\n",
            "|(23,[1,2,3,4,5,6,...|(23,[1,2,3,4,5,6,...|\n",
            "|(23,[1,2,3,4,5,6,...|(23,[1,2,3,4,5,6,...|\n",
            "|[9.0,120.0,2.0,2....|[0.61234768113858...|\n",
            "|[20.0,341.0,2.0,3...|[1.36077262475241...|\n",
            "|[0.0,194.0,5.0,4....|[0.0,2.1774266885...|\n",
            "|(23,[1,2,3,8,10,2...|(23,[1,2,3,8,10,2...|\n",
            "|(23,[0,1,2,3,8,10...|(23,[0,1,2,3,8,10...|\n",
            "|(23,[0,1,2,3,5,6,...|(23,[0,1,2,3,5,6,...|\n",
            "+--------------------+--------------------+\n",
            "only showing top 20 rows\n",
            "\n"
          ]
        }
      ]
    },
    {
      "cell_type": "markdown",
      "source": [
        "### Redução de dimensionalidade"
      ],
      "metadata": {
        "id": "4OfYRmTq74D0"
      }
    },
    {
      "cell_type": "code",
      "source": [
        "from pyspark.ml.feature import PCA"
      ],
      "metadata": {
        "id": "X_fjFQzo75yT"
      },
      "execution_count": 177,
      "outputs": []
    },
    {
      "cell_type": "code",
      "source": [
        "# Selecionando a quantidade de features presentes nos dados, este número será utilizado para a quantidade de componentes no PCA\n",
        "pca_k = len(X)\n",
        "pca_k"
      ],
      "metadata": {
        "colab": {
          "base_uri": "https://localhost:8080/"
        },
        "id": "lEjN5dSW8CAm",
        "outputId": "56050d20-e7b7-4625-f596-5e88421c7d9d"
      },
      "execution_count": 178,
      "outputs": [
        {
          "output_type": "execute_result",
          "data": {
            "text/plain": [
              "23"
            ]
          },
          "metadata": {},
          "execution_count": 178
        }
      ]
    },
    {
      "cell_type": "code",
      "source": [
        "# Instanciando e treinando o PCA\n",
        "pca = PCA(k=pca_k, inputCol='scaled_features', outputCol='pca_features')\n",
        "model_pca = pca.fit(dados_prep)"
      ],
      "metadata": {
        "id": "oAXa73AX7-9q"
      },
      "execution_count": 179,
      "outputs": []
    },
    {
      "cell_type": "markdown",
      "source": [
        "Verificando a explicabilidade da variancia de cada feature"
      ],
      "metadata": {
        "id": "iKMESU6H8X3E"
      }
    },
    {
      "cell_type": "code",
      "source": [
        "import numpy as np"
      ],
      "metadata": {
        "id": "0RIeDlGK83Rd"
      },
      "execution_count": 180,
      "outputs": []
    },
    {
      "cell_type": "code",
      "source": [
        "# Retorna um vetor denso contendo quanto da variabilidade é explicada por cada componente\n",
        "model_pca.explainedVariance"
      ],
      "metadata": {
        "colab": {
          "base_uri": "https://localhost:8080/"
        },
        "id": "JLINUeLJ8MKS",
        "outputId": "ef5428d5-eec6-4c76-bf65-394158293c6b"
      },
      "execution_count": 181,
      "outputs": [
        {
          "output_type": "execute_result",
          "data": {
            "text/plain": [
              "DenseVector([0.2655, 0.1721, 0.0913, 0.0544, 0.0522, 0.0466, 0.0443, 0.0416, 0.0347, 0.0272, 0.0244, 0.0201, 0.0192, 0.0176, 0.0155, 0.0139, 0.012, 0.0113, 0.0101, 0.0092, 0.0089, 0.0079, 0.0])"
            ]
          },
          "metadata": {},
          "execution_count": 181
        }
      ]
    },
    {
      "cell_type": "code",
      "source": [
        "# Transformando esse vetor denso em um numpy array\n",
        "exp_var = np.array(model_pca.explainedVariance)"
      ],
      "metadata": {
        "id": "yhiAirPI845J"
      },
      "execution_count": 182,
      "outputs": []
    },
    {
      "cell_type": "markdown",
      "source": [
        "Selecionado a quantidade de componente que gerará 80% de explicação da variabilidade"
      ],
      "metadata": {
        "id": "NV-yWE259E8h"
      }
    },
    {
      "cell_type": "code",
      "source": [
        "# Selecionando novo número de componentes\n",
        "pca_k = sum(exp_var.cumsum() <= .8)\n",
        "pca_k"
      ],
      "metadata": {
        "id": "12ARqUCH87JK",
        "colab": {
          "base_uri": "https://localhost:8080/"
        },
        "outputId": "1196df0f-f57f-4d47-d29c-14feef9f4dfa"
      },
      "execution_count": 183,
      "outputs": [
        {
          "output_type": "execute_result",
          "data": {
            "text/plain": [
              "8"
            ]
          },
          "metadata": {},
          "execution_count": 183
        }
      ]
    },
    {
      "cell_type": "code",
      "source": [
        "# criando outro modelo_pca com o novo \"k\"\n",
        "model_pca = pca.setK(pca_k).fit(dados_prep)\n",
        "dados_prep = model_pca.transform(dados_prep)"
      ],
      "metadata": {
        "id": "GZkqzbsw9W25"
      },
      "execution_count": 184,
      "outputs": []
    },
    {
      "cell_type": "code",
      "source": [
        "componentes_pca = len(dados_prep.select('pca_features').take(1)[0][0])\n",
        "print('Quantidades de componentes provenientes do PCA:', componentes_pca)"
      ],
      "metadata": {
        "colab": {
          "base_uri": "https://localhost:8080/"
        },
        "id": "DVQMIu3h9rX8",
        "outputId": "0a3e8c35-2006-4799-da47-aa4c669830dc"
      },
      "execution_count": 185,
      "outputs": [
        {
          "output_type": "stream",
          "name": "stdout",
          "text": [
            "Quantidades de componentes provenientes do PCA: 8\n"
          ]
        }
      ]
    },
    {
      "cell_type": "markdown",
      "source": [
        "### Realizando agrupamento (Clusterização)"
      ],
      "metadata": {
        "id": "9v8htsHR-hf5"
      }
    },
    {
      "cell_type": "code",
      "source": [
        "from pyspark.ml.clustering import KMeans"
      ],
      "metadata": {
        "id": "2zu2f2Gn-lVS"
      },
      "execution_count": 186,
      "outputs": []
    },
    {
      "cell_type": "code",
      "source": [
        "# Criando variável para armazenar um valor para que o resultado seja reproduzível\n",
        "SEED = 42"
      ],
      "metadata": {
        "id": "Djkfk9ZvAO_F"
      },
      "execution_count": 187,
      "outputs": []
    },
    {
      "cell_type": "code",
      "source": [
        "# Instanciando KMeans com 10 cluster, treinando-o e gerando os clasters das amostras\n",
        "kmeans = KMeans(k=10, featuresCol='pca_features', predictionCol='cluster', seed=SEED)\n",
        "model_kmeans = kmeans.fit(dados_prep)\n",
        "dados_cluster = model_kmeans.transform(dados_prep)"
      ],
      "metadata": {
        "id": "VYyosb3p-ss6"
      },
      "execution_count": 188,
      "outputs": []
    },
    {
      "cell_type": "code",
      "source": [
        "# Visualizando o resultado da clusterização\n",
        "dados_cluster.show()"
      ],
      "metadata": {
        "colab": {
          "base_uri": "https://localhost:8080/"
        },
        "id": "tS3OPBuMA8PN",
        "outputId": "837b7a50-2c3c-4db5-aebe-736f245b9fc1"
      },
      "execution_count": 189,
      "outputs": [
        {
          "output_type": "stream",
          "name": "stdout",
          "text": [
            "+--------------------+-----+---------+---------+-------+------+----+----------+------+---------+------------+----------+----------+--------+--------+------------------+-------------+------------------+--------+-------+----------+------------+-----------------+---------------+--------------------+--------------------+--------------------+-------+\n",
            "|                  id|andar|area_util|banheiros|quartos|suites|vaga|condominio|  iptu|    valor|Zona Central|Zona Norte|Zona Oeste|Zona Sul|Academia|Animais permitidos|Churrasqueira|Condomínio fechado|Elevador|Piscina|Playground|Portaria 24h|Portão eletrônico|Salão de festas|            features|     scaled_features|        pca_features|cluster|\n",
            "+--------------------+-----+---------+---------+-------+------+----+----------+------+---------+------------+----------+----------+--------+--------+------------------+-------------+------------------+--------+-------+----------+------------+-----------------+---------------+--------------------+--------------------+--------------------+-------+\n",
            "|00002dd9-cc74-480...|    2|       35|        1|      1|   0.0| 0.0|     100.0| 100.0| 245000.0|           1|         0|         0|       0|       1|                 1|            1|                 1|       1|      1|         1|           1|                1|              1|[2.0,35.0,1.0,1.0...|[0.13607726247524...|[-6.1651250495338...|      3|\n",
            "|0009ca94-2b37-438...|    1|       84|        2|      2|   0.0| 1.0|     770.0| 105.0| 474980.0|           0|         1|         0|       0|       0|                 0|            1|                 0|       1|      0|         1|           1|                0|              1|(23,[0,1,2,3,5,6,...|(23,[0,1,2,3,5,6,...|[-3.2529111812184...|      9|\n",
            "|000e3d28-e3e5-411...|    0|       85|        2|      2|   0.0| 0.0|     460.0| 661.0| 290000.0|           0|         0|         0|       1|       0|                 1|            0|                 0|       1|      0|         0|           0|                0|              0|(23,[1,2,3,6,7,8,...|(23,[1,2,3,6,7,8,...|[-1.0611769329629...|      4|\n",
            "|000fb707-6cad-496...|    0|       58|        1|      2|   0.0| 1.0|     550.0| 550.0| 249000.0|           0|         0|         1|       0|       0|                 0|            0|                 0|       0|      1|         1|           0|                0|              0|(23,[1,2,3,5,6,7,...|(23,[1,2,3,5,6,7,...|[-1.9958119007838...|      7|\n",
            "|001b6db0-e88d-4eb...|    0|       64|        2|      2|   1.0| 1.0|     850.0|   0.0| 530000.0|           0|         1|         0|       0|       0|                 0|            0|                 0|       0|      0|         0|           0|                0|              0|(23,[1,2,3,4,5,6,...|(23,[1,2,3,4,5,6,...|[-0.4181406070145...|      9|\n",
            "|002db67e-52cc-480...|    0|      200|        6|      4|   4.0| 2.0|    2500.0| 420.0|2900000.0|           0|         0|         1|       0|       1|                 1|            1|                 1|       1|      1|         1|           0|                0|              1|[0.0,200.0,6.0,4....|[0.0,2.2447697820...|[-6.9015238649802...|      1|\n",
            "|002dc4e0-f1a5-4ad...|    0|       70|        2|      2|   0.0| 0.0|     570.0|   0.0| 389000.0|           0|         1|         0|       0|       0|                 0|            0|                 0|       1|      0|         0|           0|                0|              0|(23,[1,2,3,6,8,10...|(23,[1,2,3,6,8,10...|[-0.7164221492881...|      9|\n",
            "|0030dd84-f657-41f...|    3|       70|        2|      2|   1.0| 1.0|     670.0| 107.0| 470000.0|           0|         1|         0|       0|       0|                 0|            0|                 0|       1|      0|         0|           0|                1|              0|(23,[0,1,2,3,4,5,...|(23,[0,1,2,3,4,5,...|[-1.4856960209870...|      9|\n",
            "|003213bb-ec21-4ad...|    0|      302|        7|      4|   4.0| 2.0|       0.0|   0.0|4400000.0|           0|         0|         1|       0|       1|                 0|            1|                 1|       0|      1|         1|           0|                0|              1|(23,[1,2,3,4,5,8,...|(23,[1,2,3,4,5,8,...|[-6.0456283208921...|      1|\n",
            "|0032884c-aa5f-455...|    0|       41|        1|      1|   1.0| 1.0|     450.0|  40.0| 269900.0|           0|         1|         0|       0|       1|                 1|            1|                 1|       1|      1|         1|           1|                1|              1|[0.0,41.0,1.0,1.0...|[0.0,0.4601778053...|[-6.1992405713781...|      3|\n",
            "|00348cd1-923a-4db...|    5|       78|        1|      2|   1.0| 1.0|       1.0|   1.0|1050300.0|           0|         0|         1|       0|       1|                 1|            1|                 1|       1|      1|         1|           1|                1|              1|[5.0,78.0,1.0,2.0...|[0.34019315618810...|[-6.8846811115738...|      3|\n",
            "|0034df72-124a-438...|    0|      170|        3|      3|   2.0| 2.0|    1300.0|4100.0| 950000.0|           0|         0|         1|       0|       1|                 0|            1|                 1|       0|      1|         0|           0|                0|              1|(23,[1,2,3,4,5,6,...|(23,[1,2,3,4,5,6,...|[-4.6134703872770...|      5|\n",
            "|0036114a-4a0f-492...|    0|      173|        3|      3|   1.0| 2.0|    1750.0|4600.0|1300000.0|           0|         0|         1|       0|       1|                 0|            1|                 0|       0|      1|         1|           0|                0|              1|(23,[1,2,3,4,5,6,...|(23,[1,2,3,4,5,6,...|[-4.4763270618055...|      5|\n",
            "|00370d62-f774-405...|    0|       82|        1|      3|   1.0| 1.0|     650.0| 200.0| 650000.0|           0|         0|         1|       0|       0|                 0|            0|                 0|       0|      0|         0|           0|                0|              0|(23,[1,2,3,4,5,6,...|(23,[1,2,3,4,5,6,...|[-0.9935595784851...|      7|\n",
            "|00396d9d-2d0e-4b5...|    9|      120|        2|      2|   1.0| 2.0|     950.0| 200.0| 970000.0|           0|         0|         0|       1|       0|                 1|            0|                 1|       1|      0|         0|           1|                1|              0|[9.0,120.0,2.0,2....|[0.61234768113858...|[-3.1645192533431...|      0|\n",
            "|003cb63c-a666-458...|   20|      341|        2|      3|   1.0| 2.0|      20.0|  20.0|4800000.0|           0|         0|         0|       1|       0|                 1|            0|                 1|       1|      0|         0|           1|                1|              0|[20.0,341.0,2.0,3...|[1.36077262475241...|[-3.5460599405485...|      0|\n",
            "|0040f5a7-6c6a-40e...|    0|      194|        5|      4|   4.0| 3.0|       0.0|   0.0|2750000.0|           0|         0|         1|       0|       1|                 0|            1|                 1|       1|      1|         1|           1|                1|              1|[0.0,194.0,5.0,4....|[0.0,2.1774266885...|[-7.5070643480675...|      1|\n",
            "|00529a9d-d876-4dc...|    0|       32|        1|      1|   0.0| 0.0|       0.0|   0.0| 194687.0|           0|         1|         0|       0|       0|                 0|            0|                 0|       0|      0|         0|           0|                0|              1|(23,[1,2,3,8,10,2...|(23,[1,2,3,8,10,2...|[-0.6502007974669...|      9|\n",
            "|00584813-33b4-477...|    1|       70|        1|      2|   0.0| 0.0|       0.0|   0.0| 220000.0|           0|         1|         0|       0|       0|                 0|            0|                 0|       0|      0|         0|           0|                0|              0|(23,[0,1,2,3,8,10...|(23,[0,1,2,3,8,10...|[-0.1271532177362...|      9|\n",
            "|005b5441-16b2-483...|   10|       72|        1|      2|   0.0| 1.0|    1086.0|1498.0|1000000.0|           0|         0|         0|       1|       0|                 1|            0|                 1|       1|      0|         0|           1|                1|              0|(23,[0,1,2,3,5,6,...|(23,[0,1,2,3,5,6,...|[-2.8493633914844...|      0|\n",
            "+--------------------+-----+---------+---------+-------+------+----+----------+------+---------+------------+----------+----------+--------+--------+------------------+-------------+------------------+--------+-------+----------+------------+-----------------+---------------+--------------------+--------------------+--------------------+-------+\n",
            "only showing top 20 rows\n",
            "\n"
          ]
        }
      ]
    },
    {
      "cell_type": "markdown",
      "source": [
        "## Otimizando Clusterização"
      ],
      "metadata": {
        "id": "hvm_t1QpC7p0"
      }
    },
    {
      "cell_type": "markdown",
      "source": [
        "### Verificando performance do cluster\n",
        "\n",
        "Utilizando o ClusteringEvaluator é possível extrair métricas de quão bem está a separação dos clusters"
      ],
      "metadata": {
        "id": "D9XQ2sdwPzf6"
      }
    },
    {
      "cell_type": "code",
      "source": [
        "from pyspark.ml.evaluation import ClusteringEvaluator\n",
        "\n",
        "avaliador = ClusteringEvaluator(featuresCol='pca_features', predictionCol='cluster')\n",
        "avaliador.evaluate(dados_cluster)"
      ],
      "metadata": {
        "colab": {
          "base_uri": "https://localhost:8080/"
        },
        "id": "dWQZHehxP2RI",
        "outputId": "1642cfc6-44af-4b89-dd55-452001977bb3"
      },
      "execution_count": 190,
      "outputs": [
        {
          "output_type": "execute_result",
          "data": {
            "text/plain": [
              "0.4089818254215943"
            ]
          },
          "metadata": {},
          "execution_count": 190
        }
      ]
    },
    {
      "cell_type": "markdown",
      "source": [
        "### Pipeline\n",
        "\n",
        "Para a otimização será feita uma pipeline para facilitar a manipulação dos dados e o teste de diferentes hiperparâmetros"
      ],
      "metadata": {
        "id": "SUovrp_2SoHF"
      }
    },
    {
      "cell_type": "code",
      "source": [
        "from pyspark.ml import Pipeline"
      ],
      "metadata": {
        "id": "UfDYvQBQMElA"
      },
      "execution_count": null,
      "outputs": []
    },
    {
      "cell_type": "code",
      "source": [
        "# Instanciando os algortimos que serão utilizados na pipeline\n",
        "va = VectorAssembler(inputCols=X, outputCol='features')\n",
        "scaler = StandardScaler(inputCol='features', outputCol='scaled_features')\n",
        "pca = PCA(k=pca_k, inputCol='scaled_features', outputCol='pca_features')\n",
        "kmeans = KMeans(k=10, featuresCol='pca_features', predictionCol='cluster', seed=SEED)\n",
        "\n",
        "# Instanciando a pipeline, treinando-a e transformando os dados\n",
        "pipe = Pipeline(stages=[va, scaler, pca, kmeans])\n",
        "model_pipe = pipe.fit(dados)\n",
        "dados_prep_pipe = model_pipe.transform(dados)"
      ],
      "metadata": {
        "id": "PCEdoyBxMLYC"
      },
      "execution_count": null,
      "outputs": []
    },
    {
      "cell_type": "code",
      "source": [
        "# Visualizando os dados após as etapas da pipeline\n",
        "dados_prep_pipe.show()"
      ],
      "metadata": {
        "colab": {
          "base_uri": "https://localhost:8080/"
        },
        "id": "_5qaPFo6NE9K",
        "outputId": "26cff1e8-7f71-4890-d53c-1b56c3e0e571"
      },
      "execution_count": null,
      "outputs": [
        {
          "output_type": "stream",
          "name": "stdout",
          "text": [
            "+--------------------+-----+---------+---------+-------+------+----+----------+------+---------+------------+----------+----------+--------+--------+------------------+-------------+------------------+--------+-------+----------+------------+-----------------+---------------+--------------------+--------------------+--------------------+-------+\n",
            "|                  id|andar|area_util|banheiros|quartos|suites|vaga|condominio|  iptu|    valor|Zona Central|Zona Norte|Zona Oeste|Zona Sul|Academia|Animais permitidos|Churrasqueira|Condomínio fechado|Elevador|Piscina|Playground|Portaria 24h|Portão eletrônico|Salão de festas|            features|     scaled_features|        pca_features|cluster|\n",
            "+--------------------+-----+---------+---------+-------+------+----+----------+------+---------+------------+----------+----------+--------+--------+------------------+-------------+------------------+--------+-------+----------+------------+-----------------+---------------+--------------------+--------------------+--------------------+-------+\n",
            "|00002dd9-cc74-480...|    2|       35|        1|      1|   0.0| 0.0|     100.0| 100.0| 245000.0|           1|         0|         0|       0|       1|                 1|            1|                 1|       1|      1|         1|           1|                1|              1|[2.0,35.0,1.0,1.0...|[0.13607726247524...|[-6.1651250495338...|      3|\n",
            "|0009ca94-2b37-438...|    1|       84|        2|      2|   0.0| 1.0|     770.0| 105.0| 474980.0|           0|         1|         0|       0|       0|                 0|            1|                 0|       1|      0|         1|           1|                0|              1|(23,[0,1,2,3,5,6,...|(23,[0,1,2,3,5,6,...|[-3.2529111812184...|      9|\n",
            "|000e3d28-e3e5-411...|    0|       85|        2|      2|   0.0| 0.0|     460.0| 661.0| 290000.0|           0|         0|         0|       1|       0|                 1|            0|                 0|       1|      0|         0|           0|                0|              0|(23,[1,2,3,6,7,8,...|(23,[1,2,3,6,7,8,...|[-1.0611769329629...|      4|\n",
            "|000fb707-6cad-496...|    0|       58|        1|      2|   0.0| 1.0|     550.0| 550.0| 249000.0|           0|         0|         1|       0|       0|                 0|            0|                 0|       0|      1|         1|           0|                0|              0|(23,[1,2,3,5,6,7,...|(23,[1,2,3,5,6,7,...|[-1.9958119007838...|      7|\n",
            "|001b6db0-e88d-4eb...|    0|       64|        2|      2|   1.0| 1.0|     850.0|   0.0| 530000.0|           0|         1|         0|       0|       0|                 0|            0|                 0|       0|      0|         0|           0|                0|              0|(23,[1,2,3,4,5,6,...|(23,[1,2,3,4,5,6,...|[-0.4181406070145...|      9|\n",
            "|002db67e-52cc-480...|    0|      200|        6|      4|   4.0| 2.0|    2500.0| 420.0|2900000.0|           0|         0|         1|       0|       1|                 1|            1|                 1|       1|      1|         1|           0|                0|              1|[0.0,200.0,6.0,4....|[0.0,2.2447697820...|[-6.9015238649802...|      1|\n",
            "|002dc4e0-f1a5-4ad...|    0|       70|        2|      2|   0.0| 0.0|     570.0|   0.0| 389000.0|           0|         1|         0|       0|       0|                 0|            0|                 0|       1|      0|         0|           0|                0|              0|(23,[1,2,3,6,8,10...|(23,[1,2,3,6,8,10...|[-0.7164221492881...|      9|\n",
            "|0030dd84-f657-41f...|    3|       70|        2|      2|   1.0| 1.0|     670.0| 107.0| 470000.0|           0|         1|         0|       0|       0|                 0|            0|                 0|       1|      0|         0|           0|                1|              0|(23,[0,1,2,3,4,5,...|(23,[0,1,2,3,4,5,...|[-1.4856960209870...|      9|\n",
            "|003213bb-ec21-4ad...|    0|      302|        7|      4|   4.0| 2.0|       0.0|   0.0|4400000.0|           0|         0|         1|       0|       1|                 0|            1|                 1|       0|      1|         1|           0|                0|              1|(23,[1,2,3,4,5,8,...|(23,[1,2,3,4,5,8,...|[-6.0456283208921...|      1|\n",
            "|0032884c-aa5f-455...|    0|       41|        1|      1|   1.0| 1.0|     450.0|  40.0| 269900.0|           0|         1|         0|       0|       1|                 1|            1|                 1|       1|      1|         1|           1|                1|              1|[0.0,41.0,1.0,1.0...|[0.0,0.4601778053...|[-6.1992405713781...|      3|\n",
            "|00348cd1-923a-4db...|    5|       78|        1|      2|   1.0| 1.0|       1.0|   1.0|1050300.0|           0|         0|         1|       0|       1|                 1|            1|                 1|       1|      1|         1|           1|                1|              1|[5.0,78.0,1.0,2.0...|[0.34019315618810...|[-6.8846811115738...|      3|\n",
            "|0034df72-124a-438...|    0|      170|        3|      3|   2.0| 2.0|    1300.0|4100.0| 950000.0|           0|         0|         1|       0|       1|                 0|            1|                 1|       0|      1|         0|           0|                0|              1|(23,[1,2,3,4,5,6,...|(23,[1,2,3,4,5,6,...|[-4.6134703872770...|      5|\n",
            "|0036114a-4a0f-492...|    0|      173|        3|      3|   1.0| 2.0|    1750.0|4600.0|1300000.0|           0|         0|         1|       0|       1|                 0|            1|                 0|       0|      1|         1|           0|                0|              1|(23,[1,2,3,4,5,6,...|(23,[1,2,3,4,5,6,...|[-4.4763270618055...|      5|\n",
            "|00370d62-f774-405...|    0|       82|        1|      3|   1.0| 1.0|     650.0| 200.0| 650000.0|           0|         0|         1|       0|       0|                 0|            0|                 0|       0|      0|         0|           0|                0|              0|(23,[1,2,3,4,5,6,...|(23,[1,2,3,4,5,6,...|[-0.9935595784851...|      7|\n",
            "|00396d9d-2d0e-4b5...|    9|      120|        2|      2|   1.0| 2.0|     950.0| 200.0| 970000.0|           0|         0|         0|       1|       0|                 1|            0|                 1|       1|      0|         0|           1|                1|              0|[9.0,120.0,2.0,2....|[0.61234768113858...|[-3.1645192533431...|      0|\n",
            "|003cb63c-a666-458...|   20|      341|        2|      3|   1.0| 2.0|      20.0|  20.0|4800000.0|           0|         0|         0|       1|       0|                 1|            0|                 1|       1|      0|         0|           1|                1|              0|[20.0,341.0,2.0,3...|[1.36077262475241...|[-3.5460599405485...|      0|\n",
            "|0040f5a7-6c6a-40e...|    0|      194|        5|      4|   4.0| 3.0|       0.0|   0.0|2750000.0|           0|         0|         1|       0|       1|                 0|            1|                 1|       1|      1|         1|           1|                1|              1|[0.0,194.0,5.0,4....|[0.0,2.1774266885...|[-7.5070643480675...|      1|\n",
            "|00529a9d-d876-4dc...|    0|       32|        1|      1|   0.0| 0.0|       0.0|   0.0| 194687.0|           0|         1|         0|       0|       0|                 0|            0|                 0|       0|      0|         0|           0|                0|              1|(23,[1,2,3,8,10,2...|(23,[1,2,3,8,10,2...|[-0.6502007974669...|      9|\n",
            "|00584813-33b4-477...|    1|       70|        1|      2|   0.0| 0.0|       0.0|   0.0| 220000.0|           0|         1|         0|       0|       0|                 0|            0|                 0|       0|      0|         0|           0|                0|              0|(23,[0,1,2,3,8,10...|(23,[0,1,2,3,8,10...|[-0.1271532177362...|      9|\n",
            "|005b5441-16b2-483...|   10|       72|        1|      2|   0.0| 1.0|    1086.0|1498.0|1000000.0|           0|         0|         0|       1|       0|                 1|            0|                 1|       1|      0|         0|           1|                1|              0|(23,[0,1,2,3,5,6,...|(23,[0,1,2,3,5,6,...|[-2.8493633914844...|      0|\n",
            "+--------------------+-----+---------+---------+-------+------+----+----------+------+---------+------------+----------+----------+--------+--------+------------------+-------------+------------------+--------+-------+----------+------------+-----------------+---------------+--------------------+--------------------+--------------------+-------+\n",
            "only showing top 20 rows\n",
            "\n"
          ]
        }
      ]
    },
    {
      "cell_type": "markdown",
      "source": [
        "### Testando diferentes valores de k\n",
        "\n",
        "Testando vários valores de `k` para o KMeans, através do ParamGridBuilder"
      ],
      "metadata": {
        "id": "VooaeKEgqp9H"
      }
    },
    {
      "cell_type": "code",
      "source": [
        "from pyspark.ml.tuning import TrainValidationSplit, ParamGridBuilder"
      ],
      "metadata": {
        "id": "A7uD8zr2QxRP"
      },
      "execution_count": null,
      "outputs": []
    },
    {
      "cell_type": "code",
      "source": [
        "# Criando um grid com os valores a serem testados e a qual atributo eles pertencem\n",
        "grid = ParamGridBuilder()\\\n",
        "    .addGrid(model_pipe.stages[-1].k, range(10, 100, 10))\\\n",
        "    .build()"
      ],
      "metadata": {
        "id": "qL9T7eLpSGIJ"
      },
      "execution_count": null,
      "outputs": []
    },
    {
      "cell_type": "code",
      "source": [
        "# Criando um TrainValidationSplit para testar os valores que estão no grid\n",
        "tvs_pipe = TrainValidationSplit(\n",
        "    estimator=pipe,\n",
        "    estimatorParamMaps=grid,\n",
        "    evaluator=avaliador,\n",
        "    seed=SEED\n",
        ")"
      ],
      "metadata": {
        "id": "jUV7U08NTU2I"
      },
      "execution_count": null,
      "outputs": []
    },
    {
      "cell_type": "code",
      "source": [
        "# Treinando o modelo e gerando previsões\n",
        "model_tvs_pipe = tvs_pipe.fit(dados)\n",
        "previsoes_tvs_pipe = model_tvs_pipe.transform(dados)"
      ],
      "metadata": {
        "colab": {
          "base_uri": "https://localhost:8080/"
        },
        "id": "HRuma97OUIp4",
        "outputId": "b902e92f-4f7b-4171-8e07-18e8c44907a9"
      },
      "execution_count": null,
      "outputs": [
        {
          "output_type": "stream",
          "name": "stdout",
          "text": [
            "+--------------------+-----+---------+---------+-------+------+----+----------+------+---------+------------+----------+----------+--------+--------+------------------+-------------+------------------+--------+-------+----------+------------+-----------------+---------------+--------------------+--------------------+--------------------+-------+\n",
            "|                  id|andar|area_util|banheiros|quartos|suites|vaga|condominio|  iptu|    valor|Zona Central|Zona Norte|Zona Oeste|Zona Sul|Academia|Animais permitidos|Churrasqueira|Condomínio fechado|Elevador|Piscina|Playground|Portaria 24h|Portão eletrônico|Salão de festas|            features|     scaled_features|        pca_features|cluster|\n",
            "+--------------------+-----+---------+---------+-------+------+----+----------+------+---------+------------+----------+----------+--------+--------+------------------+-------------+------------------+--------+-------+----------+------------+-----------------+---------------+--------------------+--------------------+--------------------+-------+\n",
            "|00002dd9-cc74-480...|    2|       35|        1|      1|   0.0| 0.0|     100.0| 100.0| 245000.0|           1|         0|         0|       0|       1|                 1|            1|                 1|       1|      1|         1|           1|                1|              1|[2.0,35.0,1.0,1.0...|[0.13607726247524...|[-6.1651250495338...|     19|\n",
            "|0009ca94-2b37-438...|    1|       84|        2|      2|   0.0| 1.0|     770.0| 105.0| 474980.0|           0|         1|         0|       0|       0|                 0|            1|                 0|       1|      0|         1|           1|                0|              1|(23,[0,1,2,3,5,6,...|(23,[0,1,2,3,5,6,...|[-3.2529111812184...|     21|\n",
            "|000e3d28-e3e5-411...|    0|       85|        2|      2|   0.0| 0.0|     460.0| 661.0| 290000.0|           0|         0|         0|       1|       0|                 1|            0|                 0|       1|      0|         0|           0|                0|              0|(23,[1,2,3,6,7,8,...|(23,[1,2,3,6,7,8,...|[-1.0611769329629...|      0|\n",
            "|000fb707-6cad-496...|    0|       58|        1|      2|   0.0| 1.0|     550.0| 550.0| 249000.0|           0|         0|         1|       0|       0|                 0|            0|                 0|       0|      1|         1|           0|                0|              0|(23,[1,2,3,5,6,7,...|(23,[1,2,3,5,6,7,...|[-1.9958119007838...|     11|\n",
            "|001b6db0-e88d-4eb...|    0|       64|        2|      2|   1.0| 1.0|     850.0|   0.0| 530000.0|           0|         1|         0|       0|       0|                 0|            0|                 0|       0|      0|         0|           0|                0|              0|(23,[1,2,3,4,5,6,...|(23,[1,2,3,4,5,6,...|[-0.4181406070145...|     24|\n",
            "|002db67e-52cc-480...|    0|      200|        6|      4|   4.0| 2.0|    2500.0| 420.0|2900000.0|           0|         0|         1|       0|       1|                 1|            1|                 1|       1|      1|         1|           0|                0|              1|[0.0,200.0,6.0,4....|[0.0,2.2447697820...|[-6.9015238649802...|     26|\n",
            "|002dc4e0-f1a5-4ad...|    0|       70|        2|      2|   0.0| 0.0|     570.0|   0.0| 389000.0|           0|         1|         0|       0|       0|                 0|            0|                 0|       1|      0|         0|           0|                0|              0|(23,[1,2,3,6,8,10...|(23,[1,2,3,6,8,10...|[-0.7164221492881...|     24|\n",
            "|0030dd84-f657-41f...|    3|       70|        2|      2|   1.0| 1.0|     670.0| 107.0| 470000.0|           0|         1|         0|       0|       0|                 0|            0|                 0|       1|      0|         0|           0|                1|              0|(23,[0,1,2,3,4,5,...|(23,[0,1,2,3,4,5,...|[-1.4856960209870...|     24|\n",
            "|003213bb-ec21-4ad...|    0|      302|        7|      4|   4.0| 2.0|       0.0|   0.0|4400000.0|           0|         0|         1|       0|       1|                 0|            1|                 1|       0|      1|         1|           0|                0|              1|(23,[1,2,3,4,5,8,...|(23,[1,2,3,4,5,8,...|[-6.0456283208921...|     26|\n",
            "|0032884c-aa5f-455...|    0|       41|        1|      1|   1.0| 1.0|     450.0|  40.0| 269900.0|           0|         1|         0|       0|       1|                 1|            1|                 1|       1|      1|         1|           1|                1|              1|[0.0,41.0,1.0,1.0...|[0.0,0.4601778053...|[-6.1992405713781...|      7|\n",
            "|00348cd1-923a-4db...|    5|       78|        1|      2|   1.0| 1.0|       1.0|   1.0|1050300.0|           0|         0|         1|       0|       1|                 1|            1|                 1|       1|      1|         1|           1|                1|              1|[5.0,78.0,1.0,2.0...|[0.34019315618810...|[-6.8846811115738...|      1|\n",
            "|0034df72-124a-438...|    0|      170|        3|      3|   2.0| 2.0|    1300.0|4100.0| 950000.0|           0|         0|         1|       0|       1|                 0|            1|                 1|       0|      1|         0|           0|                0|              1|(23,[1,2,3,4,5,6,...|(23,[1,2,3,4,5,6,...|[-4.6134703872770...|      5|\n",
            "|0036114a-4a0f-492...|    0|      173|        3|      3|   1.0| 2.0|    1750.0|4600.0|1300000.0|           0|         0|         1|       0|       1|                 0|            1|                 0|       0|      1|         1|           0|                0|              1|(23,[1,2,3,4,5,6,...|(23,[1,2,3,4,5,6,...|[-4.4763270618055...|      5|\n",
            "|00370d62-f774-405...|    0|       82|        1|      3|   1.0| 1.0|     650.0| 200.0| 650000.0|           0|         0|         1|       0|       0|                 0|            0|                 0|       0|      0|         0|           0|                0|              0|(23,[1,2,3,4,5,6,...|(23,[1,2,3,4,5,6,...|[-0.9935595784851...|     11|\n",
            "|00396d9d-2d0e-4b5...|    9|      120|        2|      2|   1.0| 2.0|     950.0| 200.0| 970000.0|           0|         0|         0|       1|       0|                 1|            0|                 1|       1|      0|         0|           1|                1|              0|[9.0,120.0,2.0,2....|[0.61234768113858...|[-3.1645192533431...|     16|\n",
            "|003cb63c-a666-458...|   20|      341|        2|      3|   1.0| 2.0|      20.0|  20.0|4800000.0|           0|         0|         0|       1|       0|                 1|            0|                 1|       1|      0|         0|           1|                1|              0|[20.0,341.0,2.0,3...|[1.36077262475241...|[-3.5460599405485...|     12|\n",
            "|0040f5a7-6c6a-40e...|    0|      194|        5|      4|   4.0| 3.0|       0.0|   0.0|2750000.0|           0|         0|         1|       0|       1|                 0|            1|                 1|       1|      1|         1|           1|                1|              1|[0.0,194.0,5.0,4....|[0.0,2.1774266885...|[-7.5070643480675...|     15|\n",
            "|00529a9d-d876-4dc...|    0|       32|        1|      1|   0.0| 0.0|       0.0|   0.0| 194687.0|           0|         1|         0|       0|       0|                 0|            0|                 0|       0|      0|         0|           0|                0|              1|(23,[1,2,3,8,10,2...|(23,[1,2,3,8,10,2...|[-0.6502007974669...|     24|\n",
            "|00584813-33b4-477...|    1|       70|        1|      2|   0.0| 0.0|       0.0|   0.0| 220000.0|           0|         1|         0|       0|       0|                 0|            0|                 0|       0|      0|         0|           0|                0|              0|(23,[0,1,2,3,8,10...|(23,[0,1,2,3,8,10...|[-0.1271532177362...|     24|\n",
            "|005b5441-16b2-483...|   10|       72|        1|      2|   0.0| 1.0|    1086.0|1498.0|1000000.0|           0|         0|         0|       1|       0|                 1|            0|                 1|       1|      0|         0|           1|                1|              0|(23,[0,1,2,3,5,6,...|(23,[0,1,2,3,5,6,...|[-2.8493633914844...|     16|\n",
            "+--------------------+-----+---------+---------+-------+------+----+----------+------+---------+------------+----------+----------+--------+--------+------------------+-------------+------------------+--------+-------+----------+------------+-----------------+---------------+--------------------+--------------------+--------------------+-------+\n",
            "only showing top 20 rows\n",
            "\n"
          ]
        }
      ]
    },
    {
      "cell_type": "code",
      "source": [
        "previsoes_tvs_pipe.show()"
      ],
      "metadata": {
        "id": "u2npmjJ7Up52"
      },
      "execution_count": null,
      "outputs": []
    },
    {
      "cell_type": "code",
      "source": [
        "# Extraindo informações das previsões\n",
        "print('Quantidade de clusters utilizados:', previsoes_tvs_pipe.select(f.max('cluster')).collect()[0][0] + 1)\n",
        "\n",
        "# Performance do modelo\n",
        "score = avaliador.evaluate(previsoes_tvs_pipe)\n",
        "print(f'O modelo obteve {score:.2f} na métrica Silhouette')"
      ],
      "metadata": {
        "colab": {
          "base_uri": "https://localhost:8080/"
        },
        "id": "D7MWk7XNWmHH",
        "outputId": "2da5b887-2b2b-4ad2-e602-cd324159e94d"
      },
      "execution_count": 191,
      "outputs": [
        {
          "output_type": "stream",
          "name": "stdout",
          "text": [
            "Quantidade de clusters utilizados: 30\n",
            "O modelo obteve 0.53 na métrica Silhouette\n"
          ]
        }
      ]
    },
    {
      "cell_type": "markdown",
      "source": [
        "# Criando recomendador\n",
        "\n",
        "A partir do modelo elaborado, será feito um recomendador, cuja função consistirá em utilizar o id de um móvel para encontrar os 10 outros móveis mais parecidos, incluindo ele mesmo.\n",
        "\n",
        "Para isso será utilizado o cluster onde está o imóvel base, além da distância euclidiana que será calculada entre o móvel base e os membros de seu cluster."
      ],
      "metadata": {
        "id": "Tm2lGwuhAn4K"
      }
    },
    {
      "cell_type": "code",
      "source": [
        "# Selecionando apenas as colunas necessárias para a recomendação\n",
        "dados_recomendacao = dados_cluster\\\n",
        "    .select('id', 'pca_features', 'cluster')"
      ],
      "metadata": {
        "id": "zeQ4bFQsAdfi"
      },
      "execution_count": 30,
      "outputs": []
    },
    {
      "cell_type": "code",
      "source": [
        "# Extraindo o id de um móvel que será utilizado como a base da recomendação\n",
        "id_movel_base = dados_recomendacao.take(1)[0][0]"
      ],
      "metadata": {
        "id": "92mQLHhmBEts"
      },
      "execution_count": 31,
      "outputs": []
    },
    {
      "cell_type": "code",
      "source": [
        "from pyspark.sql import functions as f\n",
        "from pyspark.sql.functions import udf\n",
        "from pyspark.sql.types import FloatType\n",
        "from scipy.spatial.distance import euclidean"
      ],
      "metadata": {
        "id": "Yr0GyILcB5E2"
      },
      "execution_count": 32,
      "outputs": []
    },
    {
      "cell_type": "code",
      "source": [
        "def recomendador(id_movel):\n",
        "    # Extraindo o cluster e os componentes do móvel base\n",
        "    cluster, componentes_movel = dados_cluster\\\n",
        "        .where(f.col('id') == id_movel_base)\\\n",
        "        .select('cluster', 'pca_features')\\\n",
        "        .collect()[0]\n",
        "    \n",
        "    # Extraindo os móveis do cluster\n",
        "    moveis_recomendados = dados_cluster\\\n",
        "        .where(f.col('cluster') == cluster)\n",
        "    \n",
        "    # Função utilizada para calcular a distância euclidiana\n",
        "    @udf(returnType=FloatType()) # Decorator para modificar a função de forma que o pyspark consiga utiliza-la\n",
        "    def calcula_distancia(valor):\n",
        "        return euclidean(componentes_movel, valor)\n",
        "    \n",
        "    # Calculando as distâncias e selecioando os 10 mais próximos\n",
        "    moveis_recomendados_dist = moveis_recomendados\\\n",
        "        .withColumn('dist', calcula_distancia('pca_features'))\\\n",
        "        .sort('dist')\\\n",
        "        .limit(10)\n",
        "\n",
        "    # Mostrando a recomendação\n",
        "    moveis_recomendados_dist.show()"
      ],
      "metadata": {
        "id": "lVsRf38NBTOa"
      },
      "execution_count": 34,
      "outputs": []
    },
    {
      "cell_type": "code",
      "source": [
        "recomendador(id_movel_base)"
      ],
      "metadata": {
        "colab": {
          "base_uri": "https://localhost:8080/"
        },
        "id": "3eyJva0ECV8C",
        "outputId": "8177f226-fe39-4096-e935-567a48d5ca12"
      },
      "execution_count": 35,
      "outputs": [
        {
          "output_type": "stream",
          "name": "stdout",
          "text": [
            "+--------------------+-----+---------+---------+-------+------+----+----------+-----+--------+------------+----------+----------+--------+--------+------------------+-------------+------------------+--------+-------+----------+------------+-----------------+---------------+--------------------+--------------------+--------------------+-------+------------+\n",
            "|                  id|andar|area_util|banheiros|quartos|suites|vaga|condominio| iptu|   valor|Zona Central|Zona Norte|Zona Oeste|Zona Sul|Academia|Animais permitidos|Churrasqueira|Condomínio fechado|Elevador|Piscina|Playground|Portaria 24h|Portão eletrônico|Salão de festas|            features|     scaled_features|        pca_features|cluster|        dist|\n",
            "+--------------------+-----+---------+---------+-------+------+----+----------+-----+--------+------------+----------+----------+--------+--------+------------------+-------------+------------------+--------+-------+----------+------------+-----------------+---------------+--------------------+--------------------+--------------------+-------+------------+\n",
            "|00002dd9-cc74-480...|    2|       35|        1|      1|   0.0| 0.0|     100.0|100.0|245000.0|           1|         0|         0|       0|       1|                 1|            1|                 1|       1|      1|         1|           1|                1|              1|[2.0,35.0,1.0,1.0...|[0.13607726247524...|[-6.1651250495338...|      3|         0.0|\n",
            "|5dac977a-6cfb-428...|    2|       32|        1|      1|   0.0| 0.0|     100.0|100.0|276500.0|           1|         0|         0|       0|       1|                 1|            1|                 1|       1|      1|         1|           1|                1|              1|[2.0,32.0,1.0,1.0...|[0.13607726247524...|[-6.1641739647499...|      3|0.0086173285|\n",
            "|a1c430e5-fe77-4b0...|    2|       31|        1|      1|   0.0| 0.0|       1.0|  1.0|315926.0|           1|         0|         0|       0|       1|                 1|            1|                 1|       1|      1|         1|           1|                1|              1|[2.0,31.0,1.0,1.0...|[0.13607726247524...|[-6.1647580890551...|      3|  0.01221622|\n",
            "|33aeb3e6-f85d-49b...|    2|       33|        1|      1|   0.0| 0.0|       1.0|  1.0|331787.0|           1|         0|         0|       0|       1|                 1|            1|                 1|       1|      1|         1|           1|                1|              1|[2.0,33.0,1.0,1.0...|[0.13607726247524...|[-6.1665528527761...|      3| 0.020492014|\n",
            "|842a87a0-7602-4b8...|    2|       38|        1|      1|   0.0| 0.0|       1.0|  1.0|402454.0|           1|         0|         0|       0|       1|                 1|            1|                 1|       1|      1|         1|           1|                1|              1|[2.0,38.0,1.0,1.0...|[0.13607726247524...|[-6.1720163702389...|      3|  0.06581165|\n",
            "|a99baaa1-00ef-490...|    3|       29|        1|      1|   0.0| 0.0|     300.0|100.0|269900.0|           1|         0|         0|       0|       1|                 1|            1|                 1|       1|      1|         1|           1|                1|              1|[3.0,29.0,1.0,1.0...|[0.20411589371286...|[-6.1649689763738...|      3|   0.0719654|\n",
            "|b3d1d649-f026-48a...|    3|       40|        1|      1|   0.0| 0.0|     200.0|100.0|269900.0|           1|         0|         0|       0|       1|                 1|            1|                 1|       1|      1|         1|           1|                1|              1|[3.0,40.0,1.0,1.0...|[0.20411589371286...|[-6.1720842449127...|      3|  0.07595893|\n",
            "|d4a64276-c147-4b3...|    3|       37|        1|      1|   0.0| 0.0|       1.0|  1.0|378087.0|           1|         0|         0|       0|       1|                 1|            1|                 1|       1|      1|         1|           1|                1|              1|[3.0,37.0,1.0,1.0...|[0.20411589371286...|[-6.1735292532169...|      3|  0.08621534|\n",
            "|5bdbf3b3-fc45-438...|    3|       43|        1|      1|   0.0| 0.0|       1.0|  1.0|430251.0|           1|         0|         0|       0|       1|                 1|            1|                 1|       1|      1|         1|           1|                1|              1|[3.0,43.0,1.0,1.0...|[0.20411589371286...|[-6.1790577943913...|      3|   0.1202876|\n",
            "|562af84b-6b6d-422...|    0|       35|        1|      1|   0.0| 0.0|       0.0|  0.0|255900.0|           1|         0|         0|       0|       1|                 1|            1|                 1|       1|      1|         1|           1|                1|              1|[0.0,35.0,1.0,1.0...|[0.0,0.3928347118...|[-6.1596028281139...|      3|   0.1360754|\n",
            "+--------------------+-----+---------+---------+-------+------+----+----------+-----+--------+------------+----------+----------+--------+--------+------------------+-------------+------------------+--------+-------+----------+------------+-----------------+---------------+--------------------+--------------------+--------------------+-------+------------+\n",
            "\n"
          ]
        }
      ]
    },
    {
      "cell_type": "markdown",
      "source": [
        "# Extraindo informações dos clusters"
      ],
      "metadata": {
        "id": "3TrbJbXyOVW8"
      }
    },
    {
      "cell_type": "code",
      "source": [
        "import plotly.express as px"
      ],
      "metadata": {
        "id": "zPHQwstXPeDG"
      },
      "execution_count": 40,
      "outputs": []
    },
    {
      "cell_type": "code",
      "source": [
        "# Visualizando a média de quartos por cluster\n",
        "previsoes_tvs_pipe\\\n",
        "    .select('quartos', 'cluster')\\\n",
        "    .groupby('cluster')\\\n",
        "    .agg(\n",
        "        f.mean('quartos').alias('quartos')\n",
        "    )\\\n",
        "    .sort('quartos')\\\n",
        "    .show()"
      ],
      "metadata": {
        "colab": {
          "base_uri": "https://localhost:8080/"
        },
        "id": "UmKnQP3qOYcE",
        "outputId": "06dbf2f0-7828-47ab-8d7a-f600a2af980c"
      },
      "execution_count": 110,
      "outputs": [
        {
          "output_type": "stream",
          "name": "stdout",
          "text": [
            "+-------+------------------+\n",
            "|cluster|           quartos|\n",
            "+-------+------------------+\n",
            "|      3|1.3562753036437247|\n",
            "|     19|1.5978428351309708|\n",
            "|     16| 1.741620962827544|\n",
            "|      0|2.0494957041464326|\n",
            "|     29| 2.057787561915245|\n",
            "|     11|2.0830156713257093|\n",
            "|     24|  2.08778840742825|\n",
            "|      1| 2.278717720391808|\n",
            "|     23|2.2802101576182134|\n",
            "|      7|2.2894656488549616|\n",
            "|      5|2.3771803816950543|\n",
            "|     21|2.4242788461538463|\n",
            "|     27|2.5222570532915363|\n",
            "|      8| 2.591715976331361|\n",
            "|     22|2.7752808988764044|\n",
            "|     25|3.1321783766442093|\n",
            "|     12|3.1599788806758182|\n",
            "|      4| 3.165309956167815|\n",
            "|     20| 3.189664502164502|\n",
            "|     18| 3.291213389121339|\n",
            "+-------+------------------+\n",
            "only showing top 20 rows\n",
            "\n"
          ]
        }
      ]
    },
    {
      "cell_type": "code",
      "source": [
        "# Transformando o código acima em um DataFrame pandas e atribuindo-o a uma variável\n",
        "quartos_cluster = previsoes_tvs_pipe\\\n",
        "    .select('quartos', 'cluster')\\\n",
        "    .groupby('cluster')\\\n",
        "    .agg(\n",
        "        f.mean('quartos').alias('quartos')\n",
        "    )\\\n",
        "    .sort('quartos')\\\n",
        "    .toPandas()"
      ],
      "metadata": {
        "id": "sc-UyTi-PZO0"
      },
      "execution_count": 121,
      "outputs": []
    },
    {
      "cell_type": "code",
      "source": [
        "# Visualizando a quantidade de quartos por cluster\n",
        "fig = px.bar(quartos_cluster, y='quartos', color='quartos', hover_data=['quartos', 'cluster'], text='cluster')\n",
        "fig.show()"
      ],
      "metadata": {
        "colab": {
          "base_uri": "https://localhost:8080/",
          "height": 542
        },
        "id": "gBbevBp9PcTK",
        "outputId": "cbb52bd5-0865-47da-b5df-99efea774a91"
      },
      "execution_count": 122,
      "outputs": [
        {
          "output_type": "display_data",
          "data": {
            "text/html": [
              "<html>\n",
              "<head><meta charset=\"utf-8\" /></head>\n",
              "<body>\n",
              "    <div>            <script src=\"https://cdnjs.cloudflare.com/ajax/libs/mathjax/2.7.5/MathJax.js?config=TeX-AMS-MML_SVG\"></script><script type=\"text/javascript\">if (window.MathJax) {MathJax.Hub.Config({SVG: {font: \"STIX-Web\"}});}</script>                <script type=\"text/javascript\">window.PlotlyConfig = {MathJaxConfig: 'local'};</script>\n",
              "        <script src=\"https://cdn.plot.ly/plotly-2.8.3.min.js\"></script>                <div id=\"a4af3e01-860d-4e19-8d8b-bfebf50f1605\" class=\"plotly-graph-div\" style=\"height:525px; width:100%;\"></div>            <script type=\"text/javascript\">                                    window.PLOTLYENV=window.PLOTLYENV || {};                                    if (document.getElementById(\"a4af3e01-860d-4e19-8d8b-bfebf50f1605\")) {                    Plotly.newPlot(                        \"a4af3e01-860d-4e19-8d8b-bfebf50f1605\",                        [{\"alignmentgroup\":\"True\",\"customdata\":[[3],[19],[16],[0],[29],[11],[24],[1],[23],[7],[5],[21],[27],[8],[22],[25],[12],[4],[20],[18],[28],[17],[14],[26],[2],[6],[13],[15],[9],[10]],\"hovertemplate\":\"index=%{x}<br>quartos=%{marker.color}<br>cluster=%{customdata[0]}<extra></extra>\",\"legendgroup\":\"\",\"marker\":{\"color\":[1.3562753036437247,1.5978428351309708,1.741620962827544,2.0494957041464326,2.057787561915245,2.0830156713257093,2.08778840742825,2.278717720391808,2.2802101576182134,2.2894656488549616,2.3771803816950543,2.4242788461538463,2.5222570532915363,2.591715976331361,2.7752808988764044,3.1321783766442093,3.1599788806758182,3.165309956167815,3.189664502164502,3.291213389121339,3.3280749885688157,3.375,3.4444444444444446,3.769533814839133,3.7893203883495143,3.9462517680339464,4.0,4.033067274800456,4.089928057553957,4.726457399103139],\"coloraxis\":\"coloraxis\",\"pattern\":{\"shape\":\"\"}},\"name\":\"\",\"offsetgroup\":\"\",\"orientation\":\"v\",\"showlegend\":false,\"text\":[3.0,19.0,16.0,0.0,29.0,11.0,24.0,1.0,23.0,7.0,5.0,21.0,27.0,8.0,22.0,25.0,12.0,4.0,20.0,18.0,28.0,17.0,14.0,26.0,2.0,6.0,13.0,15.0,9.0,10.0],\"textposition\":\"auto\",\"x\":[0,1,2,3,4,5,6,7,8,9,10,11,12,13,14,15,16,17,18,19,20,21,22,23,24,25,26,27,28,29],\"xaxis\":\"x\",\"y\":[1.3562753036437247,1.5978428351309708,1.741620962827544,2.0494957041464326,2.057787561915245,2.0830156713257093,2.08778840742825,2.278717720391808,2.2802101576182134,2.2894656488549616,2.3771803816950543,2.4242788461538463,2.5222570532915363,2.591715976331361,2.7752808988764044,3.1321783766442093,3.1599788806758182,3.165309956167815,3.189664502164502,3.291213389121339,3.3280749885688157,3.375,3.4444444444444446,3.769533814839133,3.7893203883495143,3.9462517680339464,4.0,4.033067274800456,4.089928057553957,4.726457399103139],\"yaxis\":\"y\",\"type\":\"bar\"}],                        {\"template\":{\"data\":{\"bar\":[{\"error_x\":{\"color\":\"#2a3f5f\"},\"error_y\":{\"color\":\"#2a3f5f\"},\"marker\":{\"line\":{\"color\":\"#E5ECF6\",\"width\":0.5},\"pattern\":{\"fillmode\":\"overlay\",\"size\":10,\"solidity\":0.2}},\"type\":\"bar\"}],\"barpolar\":[{\"marker\":{\"line\":{\"color\":\"#E5ECF6\",\"width\":0.5},\"pattern\":{\"fillmode\":\"overlay\",\"size\":10,\"solidity\":0.2}},\"type\":\"barpolar\"}],\"carpet\":[{\"aaxis\":{\"endlinecolor\":\"#2a3f5f\",\"gridcolor\":\"white\",\"linecolor\":\"white\",\"minorgridcolor\":\"white\",\"startlinecolor\":\"#2a3f5f\"},\"baxis\":{\"endlinecolor\":\"#2a3f5f\",\"gridcolor\":\"white\",\"linecolor\":\"white\",\"minorgridcolor\":\"white\",\"startlinecolor\":\"#2a3f5f\"},\"type\":\"carpet\"}],\"choropleth\":[{\"colorbar\":{\"outlinewidth\":0,\"ticks\":\"\"},\"type\":\"choropleth\"}],\"contour\":[{\"colorbar\":{\"outlinewidth\":0,\"ticks\":\"\"},\"colorscale\":[[0.0,\"#0d0887\"],[0.1111111111111111,\"#46039f\"],[0.2222222222222222,\"#7201a8\"],[0.3333333333333333,\"#9c179e\"],[0.4444444444444444,\"#bd3786\"],[0.5555555555555556,\"#d8576b\"],[0.6666666666666666,\"#ed7953\"],[0.7777777777777778,\"#fb9f3a\"],[0.8888888888888888,\"#fdca26\"],[1.0,\"#f0f921\"]],\"type\":\"contour\"}],\"contourcarpet\":[{\"colorbar\":{\"outlinewidth\":0,\"ticks\":\"\"},\"type\":\"contourcarpet\"}],\"heatmap\":[{\"colorbar\":{\"outlinewidth\":0,\"ticks\":\"\"},\"colorscale\":[[0.0,\"#0d0887\"],[0.1111111111111111,\"#46039f\"],[0.2222222222222222,\"#7201a8\"],[0.3333333333333333,\"#9c179e\"],[0.4444444444444444,\"#bd3786\"],[0.5555555555555556,\"#d8576b\"],[0.6666666666666666,\"#ed7953\"],[0.7777777777777778,\"#fb9f3a\"],[0.8888888888888888,\"#fdca26\"],[1.0,\"#f0f921\"]],\"type\":\"heatmap\"}],\"heatmapgl\":[{\"colorbar\":{\"outlinewidth\":0,\"ticks\":\"\"},\"colorscale\":[[0.0,\"#0d0887\"],[0.1111111111111111,\"#46039f\"],[0.2222222222222222,\"#7201a8\"],[0.3333333333333333,\"#9c179e\"],[0.4444444444444444,\"#bd3786\"],[0.5555555555555556,\"#d8576b\"],[0.6666666666666666,\"#ed7953\"],[0.7777777777777778,\"#fb9f3a\"],[0.8888888888888888,\"#fdca26\"],[1.0,\"#f0f921\"]],\"type\":\"heatmapgl\"}],\"histogram\":[{\"marker\":{\"pattern\":{\"fillmode\":\"overlay\",\"size\":10,\"solidity\":0.2}},\"type\":\"histogram\"}],\"histogram2d\":[{\"colorbar\":{\"outlinewidth\":0,\"ticks\":\"\"},\"colorscale\":[[0.0,\"#0d0887\"],[0.1111111111111111,\"#46039f\"],[0.2222222222222222,\"#7201a8\"],[0.3333333333333333,\"#9c179e\"],[0.4444444444444444,\"#bd3786\"],[0.5555555555555556,\"#d8576b\"],[0.6666666666666666,\"#ed7953\"],[0.7777777777777778,\"#fb9f3a\"],[0.8888888888888888,\"#fdca26\"],[1.0,\"#f0f921\"]],\"type\":\"histogram2d\"}],\"histogram2dcontour\":[{\"colorbar\":{\"outlinewidth\":0,\"ticks\":\"\"},\"colorscale\":[[0.0,\"#0d0887\"],[0.1111111111111111,\"#46039f\"],[0.2222222222222222,\"#7201a8\"],[0.3333333333333333,\"#9c179e\"],[0.4444444444444444,\"#bd3786\"],[0.5555555555555556,\"#d8576b\"],[0.6666666666666666,\"#ed7953\"],[0.7777777777777778,\"#fb9f3a\"],[0.8888888888888888,\"#fdca26\"],[1.0,\"#f0f921\"]],\"type\":\"histogram2dcontour\"}],\"mesh3d\":[{\"colorbar\":{\"outlinewidth\":0,\"ticks\":\"\"},\"type\":\"mesh3d\"}],\"parcoords\":[{\"line\":{\"colorbar\":{\"outlinewidth\":0,\"ticks\":\"\"}},\"type\":\"parcoords\"}],\"pie\":[{\"automargin\":true,\"type\":\"pie\"}],\"scatter\":[{\"marker\":{\"colorbar\":{\"outlinewidth\":0,\"ticks\":\"\"}},\"type\":\"scatter\"}],\"scatter3d\":[{\"line\":{\"colorbar\":{\"outlinewidth\":0,\"ticks\":\"\"}},\"marker\":{\"colorbar\":{\"outlinewidth\":0,\"ticks\":\"\"}},\"type\":\"scatter3d\"}],\"scattercarpet\":[{\"marker\":{\"colorbar\":{\"outlinewidth\":0,\"ticks\":\"\"}},\"type\":\"scattercarpet\"}],\"scattergeo\":[{\"marker\":{\"colorbar\":{\"outlinewidth\":0,\"ticks\":\"\"}},\"type\":\"scattergeo\"}],\"scattergl\":[{\"marker\":{\"colorbar\":{\"outlinewidth\":0,\"ticks\":\"\"}},\"type\":\"scattergl\"}],\"scattermapbox\":[{\"marker\":{\"colorbar\":{\"outlinewidth\":0,\"ticks\":\"\"}},\"type\":\"scattermapbox\"}],\"scatterpolar\":[{\"marker\":{\"colorbar\":{\"outlinewidth\":0,\"ticks\":\"\"}},\"type\":\"scatterpolar\"}],\"scatterpolargl\":[{\"marker\":{\"colorbar\":{\"outlinewidth\":0,\"ticks\":\"\"}},\"type\":\"scatterpolargl\"}],\"scatterternary\":[{\"marker\":{\"colorbar\":{\"outlinewidth\":0,\"ticks\":\"\"}},\"type\":\"scatterternary\"}],\"surface\":[{\"colorbar\":{\"outlinewidth\":0,\"ticks\":\"\"},\"colorscale\":[[0.0,\"#0d0887\"],[0.1111111111111111,\"#46039f\"],[0.2222222222222222,\"#7201a8\"],[0.3333333333333333,\"#9c179e\"],[0.4444444444444444,\"#bd3786\"],[0.5555555555555556,\"#d8576b\"],[0.6666666666666666,\"#ed7953\"],[0.7777777777777778,\"#fb9f3a\"],[0.8888888888888888,\"#fdca26\"],[1.0,\"#f0f921\"]],\"type\":\"surface\"}],\"table\":[{\"cells\":{\"fill\":{\"color\":\"#EBF0F8\"},\"line\":{\"color\":\"white\"}},\"header\":{\"fill\":{\"color\":\"#C8D4E3\"},\"line\":{\"color\":\"white\"}},\"type\":\"table\"}]},\"layout\":{\"annotationdefaults\":{\"arrowcolor\":\"#2a3f5f\",\"arrowhead\":0,\"arrowwidth\":1},\"autotypenumbers\":\"strict\",\"coloraxis\":{\"colorbar\":{\"outlinewidth\":0,\"ticks\":\"\"}},\"colorscale\":{\"diverging\":[[0,\"#8e0152\"],[0.1,\"#c51b7d\"],[0.2,\"#de77ae\"],[0.3,\"#f1b6da\"],[0.4,\"#fde0ef\"],[0.5,\"#f7f7f7\"],[0.6,\"#e6f5d0\"],[0.7,\"#b8e186\"],[0.8,\"#7fbc41\"],[0.9,\"#4d9221\"],[1,\"#276419\"]],\"sequential\":[[0.0,\"#0d0887\"],[0.1111111111111111,\"#46039f\"],[0.2222222222222222,\"#7201a8\"],[0.3333333333333333,\"#9c179e\"],[0.4444444444444444,\"#bd3786\"],[0.5555555555555556,\"#d8576b\"],[0.6666666666666666,\"#ed7953\"],[0.7777777777777778,\"#fb9f3a\"],[0.8888888888888888,\"#fdca26\"],[1.0,\"#f0f921\"]],\"sequentialminus\":[[0.0,\"#0d0887\"],[0.1111111111111111,\"#46039f\"],[0.2222222222222222,\"#7201a8\"],[0.3333333333333333,\"#9c179e\"],[0.4444444444444444,\"#bd3786\"],[0.5555555555555556,\"#d8576b\"],[0.6666666666666666,\"#ed7953\"],[0.7777777777777778,\"#fb9f3a\"],[0.8888888888888888,\"#fdca26\"],[1.0,\"#f0f921\"]]},\"colorway\":[\"#636efa\",\"#EF553B\",\"#00cc96\",\"#ab63fa\",\"#FFA15A\",\"#19d3f3\",\"#FF6692\",\"#B6E880\",\"#FF97FF\",\"#FECB52\"],\"font\":{\"color\":\"#2a3f5f\"},\"geo\":{\"bgcolor\":\"white\",\"lakecolor\":\"white\",\"landcolor\":\"#E5ECF6\",\"showlakes\":true,\"showland\":true,\"subunitcolor\":\"white\"},\"hoverlabel\":{\"align\":\"left\"},\"hovermode\":\"closest\",\"mapbox\":{\"style\":\"light\"},\"paper_bgcolor\":\"white\",\"plot_bgcolor\":\"#E5ECF6\",\"polar\":{\"angularaxis\":{\"gridcolor\":\"white\",\"linecolor\":\"white\",\"ticks\":\"\"},\"bgcolor\":\"#E5ECF6\",\"radialaxis\":{\"gridcolor\":\"white\",\"linecolor\":\"white\",\"ticks\":\"\"}},\"scene\":{\"xaxis\":{\"backgroundcolor\":\"#E5ECF6\",\"gridcolor\":\"white\",\"gridwidth\":2,\"linecolor\":\"white\",\"showbackground\":true,\"ticks\":\"\",\"zerolinecolor\":\"white\"},\"yaxis\":{\"backgroundcolor\":\"#E5ECF6\",\"gridcolor\":\"white\",\"gridwidth\":2,\"linecolor\":\"white\",\"showbackground\":true,\"ticks\":\"\",\"zerolinecolor\":\"white\"},\"zaxis\":{\"backgroundcolor\":\"#E5ECF6\",\"gridcolor\":\"white\",\"gridwidth\":2,\"linecolor\":\"white\",\"showbackground\":true,\"ticks\":\"\",\"zerolinecolor\":\"white\"}},\"shapedefaults\":{\"line\":{\"color\":\"#2a3f5f\"}},\"ternary\":{\"aaxis\":{\"gridcolor\":\"white\",\"linecolor\":\"white\",\"ticks\":\"\"},\"baxis\":{\"gridcolor\":\"white\",\"linecolor\":\"white\",\"ticks\":\"\"},\"bgcolor\":\"#E5ECF6\",\"caxis\":{\"gridcolor\":\"white\",\"linecolor\":\"white\",\"ticks\":\"\"}},\"title\":{\"x\":0.05},\"xaxis\":{\"automargin\":true,\"gridcolor\":\"white\",\"linecolor\":\"white\",\"ticks\":\"\",\"title\":{\"standoff\":15},\"zerolinecolor\":\"white\",\"zerolinewidth\":2},\"yaxis\":{\"automargin\":true,\"gridcolor\":\"white\",\"linecolor\":\"white\",\"ticks\":\"\",\"title\":{\"standoff\":15},\"zerolinecolor\":\"white\",\"zerolinewidth\":2}}},\"xaxis\":{\"anchor\":\"y\",\"domain\":[0.0,1.0],\"title\":{\"text\":\"index\"}},\"yaxis\":{\"anchor\":\"x\",\"domain\":[0.0,1.0],\"title\":{\"text\":\"quartos\"}},\"coloraxis\":{\"colorbar\":{\"title\":{\"text\":\"quartos\"}},\"colorscale\":[[0.0,\"#0d0887\"],[0.1111111111111111,\"#46039f\"],[0.2222222222222222,\"#7201a8\"],[0.3333333333333333,\"#9c179e\"],[0.4444444444444444,\"#bd3786\"],[0.5555555555555556,\"#d8576b\"],[0.6666666666666666,\"#ed7953\"],[0.7777777777777778,\"#fb9f3a\"],[0.8888888888888888,\"#fdca26\"],[1.0,\"#f0f921\"]]},\"legend\":{\"tracegroupgap\":0},\"margin\":{\"t\":60},\"barmode\":\"relative\"},                        {\"responsive\": true}                    ).then(function(){\n",
              "                            \n",
              "var gd = document.getElementById('a4af3e01-860d-4e19-8d8b-bfebf50f1605');\n",
              "var x = new MutationObserver(function (mutations, observer) {{\n",
              "        var display = window.getComputedStyle(gd).display;\n",
              "        if (!display || display === 'none') {{\n",
              "            console.log([gd, 'removed!']);\n",
              "            Plotly.purge(gd);\n",
              "            observer.disconnect();\n",
              "        }}\n",
              "}});\n",
              "\n",
              "// Listen for the removal of the full notebook cells\n",
              "var notebookContainer = gd.closest('#notebook-container');\n",
              "if (notebookContainer) {{\n",
              "    x.observe(notebookContainer, {childList: true});\n",
              "}}\n",
              "\n",
              "// Listen for the clearing of the current output cell\n",
              "var outputEl = gd.closest('.output');\n",
              "if (outputEl) {{\n",
              "    x.observe(outputEl, {childList: true});\n",
              "}}\n",
              "\n",
              "                        })                };                            </script>        </div>\n",
              "</body>\n",
              "</html>"
            ]
          },
          "metadata": {}
        }
      ]
    },
    {
      "cell_type": "markdown",
      "source": [
        "Na imagem acima é vísivel que há uma relação entre a quantidade de quartos e o cluster escolhido"
      ],
      "metadata": {
        "id": "zwzypSoU30jD"
      }
    },
    {
      "cell_type": "code",
      "source": [
        "import plotly.graph_objects as go"
      ],
      "metadata": {
        "id": "LbHBy0U_VmWg"
      },
      "execution_count": 44,
      "outputs": []
    },
    {
      "cell_type": "code",
      "source": [
        "# Função para pegar dados agrupador por cluster com base na coluna\n",
        "def get_dados_agrupados_cluster(coluna):\n",
        "    dados_coluna = previsoes_tvs_pipe\\\n",
        "        .select(coluna, 'cluster')\\\n",
        "        .groupby('cluster')\\\n",
        "        .agg(\n",
        "            f.mean(coluna).alias(coluna)\n",
        "        )\\\n",
        "        .sort(coluna)\n",
        "    \n",
        "    return dados_coluna.toPandas()"
      ],
      "metadata": {
        "id": "sCvfEYcMVq60"
      },
      "execution_count": 140,
      "outputs": []
    },
    {
      "cell_type": "code",
      "source": [
        "# Criando figura\n",
        "fig = go.Figure()\n",
        "\n",
        "lista_colunas = ['banheiros', 'quartos']\n",
        "\n",
        "# Criando a visualização\n",
        "for coluna in lista_colunas:\n",
        "    temp = get_dados_agrupados_cluster(coluna)\n",
        "    fig.add_trace(go.Bar(x=temp['cluster'].apply(lambda x: str(x)), y=temp[coluna], name=coluna))\n",
        "\n",
        "fig.show()"
      ],
      "metadata": {
        "colab": {
          "base_uri": "https://localhost:8080/",
          "height": 542
        },
        "id": "RhO_BFXqVN2j",
        "outputId": "d73f2c7c-143b-412d-e130-37f6f4eeff09"
      },
      "execution_count": 145,
      "outputs": [
        {
          "output_type": "display_data",
          "data": {
            "text/html": [
              "<html>\n",
              "<head><meta charset=\"utf-8\" /></head>\n",
              "<body>\n",
              "    <div>            <script src=\"https://cdnjs.cloudflare.com/ajax/libs/mathjax/2.7.5/MathJax.js?config=TeX-AMS-MML_SVG\"></script><script type=\"text/javascript\">if (window.MathJax) {MathJax.Hub.Config({SVG: {font: \"STIX-Web\"}});}</script>                <script type=\"text/javascript\">window.PlotlyConfig = {MathJaxConfig: 'local'};</script>\n",
              "        <script src=\"https://cdn.plot.ly/plotly-2.8.3.min.js\"></script>                <div id=\"2b0332fe-b9e5-4a39-8f24-f66aad419ffa\" class=\"plotly-graph-div\" style=\"height:525px; width:100%;\"></div>            <script type=\"text/javascript\">                                    window.PLOTLYENV=window.PLOTLYENV || {};                                    if (document.getElementById(\"2b0332fe-b9e5-4a39-8f24-f66aad419ffa\")) {                    Plotly.newPlot(                        \"2b0332fe-b9e5-4a39-8f24-f66aad419ffa\",                        [{\"name\":\"banheiros\",\"x\":[\"19\",\"3\",\"16\",\"24\",\"11\",\"0\",\"7\",\"23\",\"29\",\"1\",\"5\",\"21\",\"8\",\"27\",\"22\",\"12\",\"20\",\"4\",\"25\",\"28\",\"18\",\"17\",\"14\",\"13\",\"2\",\"26\",\"9\",\"15\",\"6\",\"10\"],\"y\":[1.152542372881356,1.1821862348178138,1.4759293113954906,1.5453010692177829,1.6397712833545108,1.652035861038476,1.7804580152671756,1.8569760653823701,1.8629609246009906,1.891807658058771,2.105889595731582,2.1736778846153846,2.3534158149542765,2.3981191222570533,2.6853932584269664,2.9118268215417107,2.9204545454545454,3.1102066374452098,3.1684311838306063,3.2855509830818472,3.4677824267782427,3.8125,3.888888888888889,4.166666666666667,4.288349514563107,4.453053184504268,4.879496402877698,5.15963511972634,5.410891089108911,6.70627802690583],\"type\":\"bar\"},{\"name\":\"quartos\",\"x\":[\"3\",\"19\",\"16\",\"0\",\"29\",\"11\",\"24\",\"1\",\"23\",\"7\",\"5\",\"21\",\"27\",\"8\",\"22\",\"25\",\"12\",\"4\",\"20\",\"18\",\"28\",\"17\",\"14\",\"26\",\"2\",\"6\",\"13\",\"15\",\"9\",\"10\"],\"y\":[1.3562753036437247,1.5978428351309708,1.741620962827544,2.0494957041464326,2.057787561915245,2.0830156713257093,2.08778840742825,2.278717720391808,2.2802101576182134,2.2894656488549616,2.3771803816950543,2.4242788461538463,2.5222570532915363,2.591715976331361,2.7752808988764044,3.1321783766442093,3.1599788806758182,3.165309956167815,3.189664502164502,3.291213389121339,3.3280749885688157,3.375,3.4444444444444446,3.769533814839133,3.7893203883495143,3.9462517680339464,4.0,4.033067274800456,4.089928057553957,4.726457399103139],\"type\":\"bar\"}],                        {\"template\":{\"data\":{\"bar\":[{\"error_x\":{\"color\":\"#2a3f5f\"},\"error_y\":{\"color\":\"#2a3f5f\"},\"marker\":{\"line\":{\"color\":\"#E5ECF6\",\"width\":0.5},\"pattern\":{\"fillmode\":\"overlay\",\"size\":10,\"solidity\":0.2}},\"type\":\"bar\"}],\"barpolar\":[{\"marker\":{\"line\":{\"color\":\"#E5ECF6\",\"width\":0.5},\"pattern\":{\"fillmode\":\"overlay\",\"size\":10,\"solidity\":0.2}},\"type\":\"barpolar\"}],\"carpet\":[{\"aaxis\":{\"endlinecolor\":\"#2a3f5f\",\"gridcolor\":\"white\",\"linecolor\":\"white\",\"minorgridcolor\":\"white\",\"startlinecolor\":\"#2a3f5f\"},\"baxis\":{\"endlinecolor\":\"#2a3f5f\",\"gridcolor\":\"white\",\"linecolor\":\"white\",\"minorgridcolor\":\"white\",\"startlinecolor\":\"#2a3f5f\"},\"type\":\"carpet\"}],\"choropleth\":[{\"colorbar\":{\"outlinewidth\":0,\"ticks\":\"\"},\"type\":\"choropleth\"}],\"contour\":[{\"colorbar\":{\"outlinewidth\":0,\"ticks\":\"\"},\"colorscale\":[[0.0,\"#0d0887\"],[0.1111111111111111,\"#46039f\"],[0.2222222222222222,\"#7201a8\"],[0.3333333333333333,\"#9c179e\"],[0.4444444444444444,\"#bd3786\"],[0.5555555555555556,\"#d8576b\"],[0.6666666666666666,\"#ed7953\"],[0.7777777777777778,\"#fb9f3a\"],[0.8888888888888888,\"#fdca26\"],[1.0,\"#f0f921\"]],\"type\":\"contour\"}],\"contourcarpet\":[{\"colorbar\":{\"outlinewidth\":0,\"ticks\":\"\"},\"type\":\"contourcarpet\"}],\"heatmap\":[{\"colorbar\":{\"outlinewidth\":0,\"ticks\":\"\"},\"colorscale\":[[0.0,\"#0d0887\"],[0.1111111111111111,\"#46039f\"],[0.2222222222222222,\"#7201a8\"],[0.3333333333333333,\"#9c179e\"],[0.4444444444444444,\"#bd3786\"],[0.5555555555555556,\"#d8576b\"],[0.6666666666666666,\"#ed7953\"],[0.7777777777777778,\"#fb9f3a\"],[0.8888888888888888,\"#fdca26\"],[1.0,\"#f0f921\"]],\"type\":\"heatmap\"}],\"heatmapgl\":[{\"colorbar\":{\"outlinewidth\":0,\"ticks\":\"\"},\"colorscale\":[[0.0,\"#0d0887\"],[0.1111111111111111,\"#46039f\"],[0.2222222222222222,\"#7201a8\"],[0.3333333333333333,\"#9c179e\"],[0.4444444444444444,\"#bd3786\"],[0.5555555555555556,\"#d8576b\"],[0.6666666666666666,\"#ed7953\"],[0.7777777777777778,\"#fb9f3a\"],[0.8888888888888888,\"#fdca26\"],[1.0,\"#f0f921\"]],\"type\":\"heatmapgl\"}],\"histogram\":[{\"marker\":{\"pattern\":{\"fillmode\":\"overlay\",\"size\":10,\"solidity\":0.2}},\"type\":\"histogram\"}],\"histogram2d\":[{\"colorbar\":{\"outlinewidth\":0,\"ticks\":\"\"},\"colorscale\":[[0.0,\"#0d0887\"],[0.1111111111111111,\"#46039f\"],[0.2222222222222222,\"#7201a8\"],[0.3333333333333333,\"#9c179e\"],[0.4444444444444444,\"#bd3786\"],[0.5555555555555556,\"#d8576b\"],[0.6666666666666666,\"#ed7953\"],[0.7777777777777778,\"#fb9f3a\"],[0.8888888888888888,\"#fdca26\"],[1.0,\"#f0f921\"]],\"type\":\"histogram2d\"}],\"histogram2dcontour\":[{\"colorbar\":{\"outlinewidth\":0,\"ticks\":\"\"},\"colorscale\":[[0.0,\"#0d0887\"],[0.1111111111111111,\"#46039f\"],[0.2222222222222222,\"#7201a8\"],[0.3333333333333333,\"#9c179e\"],[0.4444444444444444,\"#bd3786\"],[0.5555555555555556,\"#d8576b\"],[0.6666666666666666,\"#ed7953\"],[0.7777777777777778,\"#fb9f3a\"],[0.8888888888888888,\"#fdca26\"],[1.0,\"#f0f921\"]],\"type\":\"histogram2dcontour\"}],\"mesh3d\":[{\"colorbar\":{\"outlinewidth\":0,\"ticks\":\"\"},\"type\":\"mesh3d\"}],\"parcoords\":[{\"line\":{\"colorbar\":{\"outlinewidth\":0,\"ticks\":\"\"}},\"type\":\"parcoords\"}],\"pie\":[{\"automargin\":true,\"type\":\"pie\"}],\"scatter\":[{\"marker\":{\"colorbar\":{\"outlinewidth\":0,\"ticks\":\"\"}},\"type\":\"scatter\"}],\"scatter3d\":[{\"line\":{\"colorbar\":{\"outlinewidth\":0,\"ticks\":\"\"}},\"marker\":{\"colorbar\":{\"outlinewidth\":0,\"ticks\":\"\"}},\"type\":\"scatter3d\"}],\"scattercarpet\":[{\"marker\":{\"colorbar\":{\"outlinewidth\":0,\"ticks\":\"\"}},\"type\":\"scattercarpet\"}],\"scattergeo\":[{\"marker\":{\"colorbar\":{\"outlinewidth\":0,\"ticks\":\"\"}},\"type\":\"scattergeo\"}],\"scattergl\":[{\"marker\":{\"colorbar\":{\"outlinewidth\":0,\"ticks\":\"\"}},\"type\":\"scattergl\"}],\"scattermapbox\":[{\"marker\":{\"colorbar\":{\"outlinewidth\":0,\"ticks\":\"\"}},\"type\":\"scattermapbox\"}],\"scatterpolar\":[{\"marker\":{\"colorbar\":{\"outlinewidth\":0,\"ticks\":\"\"}},\"type\":\"scatterpolar\"}],\"scatterpolargl\":[{\"marker\":{\"colorbar\":{\"outlinewidth\":0,\"ticks\":\"\"}},\"type\":\"scatterpolargl\"}],\"scatterternary\":[{\"marker\":{\"colorbar\":{\"outlinewidth\":0,\"ticks\":\"\"}},\"type\":\"scatterternary\"}],\"surface\":[{\"colorbar\":{\"outlinewidth\":0,\"ticks\":\"\"},\"colorscale\":[[0.0,\"#0d0887\"],[0.1111111111111111,\"#46039f\"],[0.2222222222222222,\"#7201a8\"],[0.3333333333333333,\"#9c179e\"],[0.4444444444444444,\"#bd3786\"],[0.5555555555555556,\"#d8576b\"],[0.6666666666666666,\"#ed7953\"],[0.7777777777777778,\"#fb9f3a\"],[0.8888888888888888,\"#fdca26\"],[1.0,\"#f0f921\"]],\"type\":\"surface\"}],\"table\":[{\"cells\":{\"fill\":{\"color\":\"#EBF0F8\"},\"line\":{\"color\":\"white\"}},\"header\":{\"fill\":{\"color\":\"#C8D4E3\"},\"line\":{\"color\":\"white\"}},\"type\":\"table\"}]},\"layout\":{\"annotationdefaults\":{\"arrowcolor\":\"#2a3f5f\",\"arrowhead\":0,\"arrowwidth\":1},\"autotypenumbers\":\"strict\",\"coloraxis\":{\"colorbar\":{\"outlinewidth\":0,\"ticks\":\"\"}},\"colorscale\":{\"diverging\":[[0,\"#8e0152\"],[0.1,\"#c51b7d\"],[0.2,\"#de77ae\"],[0.3,\"#f1b6da\"],[0.4,\"#fde0ef\"],[0.5,\"#f7f7f7\"],[0.6,\"#e6f5d0\"],[0.7,\"#b8e186\"],[0.8,\"#7fbc41\"],[0.9,\"#4d9221\"],[1,\"#276419\"]],\"sequential\":[[0.0,\"#0d0887\"],[0.1111111111111111,\"#46039f\"],[0.2222222222222222,\"#7201a8\"],[0.3333333333333333,\"#9c179e\"],[0.4444444444444444,\"#bd3786\"],[0.5555555555555556,\"#d8576b\"],[0.6666666666666666,\"#ed7953\"],[0.7777777777777778,\"#fb9f3a\"],[0.8888888888888888,\"#fdca26\"],[1.0,\"#f0f921\"]],\"sequentialminus\":[[0.0,\"#0d0887\"],[0.1111111111111111,\"#46039f\"],[0.2222222222222222,\"#7201a8\"],[0.3333333333333333,\"#9c179e\"],[0.4444444444444444,\"#bd3786\"],[0.5555555555555556,\"#d8576b\"],[0.6666666666666666,\"#ed7953\"],[0.7777777777777778,\"#fb9f3a\"],[0.8888888888888888,\"#fdca26\"],[1.0,\"#f0f921\"]]},\"colorway\":[\"#636efa\",\"#EF553B\",\"#00cc96\",\"#ab63fa\",\"#FFA15A\",\"#19d3f3\",\"#FF6692\",\"#B6E880\",\"#FF97FF\",\"#FECB52\"],\"font\":{\"color\":\"#2a3f5f\"},\"geo\":{\"bgcolor\":\"white\",\"lakecolor\":\"white\",\"landcolor\":\"#E5ECF6\",\"showlakes\":true,\"showland\":true,\"subunitcolor\":\"white\"},\"hoverlabel\":{\"align\":\"left\"},\"hovermode\":\"closest\",\"mapbox\":{\"style\":\"light\"},\"paper_bgcolor\":\"white\",\"plot_bgcolor\":\"#E5ECF6\",\"polar\":{\"angularaxis\":{\"gridcolor\":\"white\",\"linecolor\":\"white\",\"ticks\":\"\"},\"bgcolor\":\"#E5ECF6\",\"radialaxis\":{\"gridcolor\":\"white\",\"linecolor\":\"white\",\"ticks\":\"\"}},\"scene\":{\"xaxis\":{\"backgroundcolor\":\"#E5ECF6\",\"gridcolor\":\"white\",\"gridwidth\":2,\"linecolor\":\"white\",\"showbackground\":true,\"ticks\":\"\",\"zerolinecolor\":\"white\"},\"yaxis\":{\"backgroundcolor\":\"#E5ECF6\",\"gridcolor\":\"white\",\"gridwidth\":2,\"linecolor\":\"white\",\"showbackground\":true,\"ticks\":\"\",\"zerolinecolor\":\"white\"},\"zaxis\":{\"backgroundcolor\":\"#E5ECF6\",\"gridcolor\":\"white\",\"gridwidth\":2,\"linecolor\":\"white\",\"showbackground\":true,\"ticks\":\"\",\"zerolinecolor\":\"white\"}},\"shapedefaults\":{\"line\":{\"color\":\"#2a3f5f\"}},\"ternary\":{\"aaxis\":{\"gridcolor\":\"white\",\"linecolor\":\"white\",\"ticks\":\"\"},\"baxis\":{\"gridcolor\":\"white\",\"linecolor\":\"white\",\"ticks\":\"\"},\"bgcolor\":\"#E5ECF6\",\"caxis\":{\"gridcolor\":\"white\",\"linecolor\":\"white\",\"ticks\":\"\"}},\"title\":{\"x\":0.05},\"xaxis\":{\"automargin\":true,\"gridcolor\":\"white\",\"linecolor\":\"white\",\"ticks\":\"\",\"title\":{\"standoff\":15},\"zerolinecolor\":\"white\",\"zerolinewidth\":2},\"yaxis\":{\"automargin\":true,\"gridcolor\":\"white\",\"linecolor\":\"white\",\"ticks\":\"\",\"title\":{\"standoff\":15},\"zerolinecolor\":\"white\",\"zerolinewidth\":2}}}},                        {\"responsive\": true}                    ).then(function(){\n",
              "                            \n",
              "var gd = document.getElementById('2b0332fe-b9e5-4a39-8f24-f66aad419ffa');\n",
              "var x = new MutationObserver(function (mutations, observer) {{\n",
              "        var display = window.getComputedStyle(gd).display;\n",
              "        if (!display || display === 'none') {{\n",
              "            console.log([gd, 'removed!']);\n",
              "            Plotly.purge(gd);\n",
              "            observer.disconnect();\n",
              "        }}\n",
              "}});\n",
              "\n",
              "// Listen for the removal of the full notebook cells\n",
              "var notebookContainer = gd.closest('#notebook-container');\n",
              "if (notebookContainer) {{\n",
              "    x.observe(notebookContainer, {childList: true});\n",
              "}}\n",
              "\n",
              "// Listen for the clearing of the current output cell\n",
              "var outputEl = gd.closest('.output');\n",
              "if (outputEl) {{\n",
              "    x.observe(outputEl, {childList: true});\n",
              "}}\n",
              "\n",
              "                        })                };                            </script>        </div>\n",
              "</body>\n",
              "</html>"
            ]
          },
          "metadata": {}
        }
      ]
    },
    {
      "cell_type": "markdown",
      "source": [
        "Na figura acima é possível notar que há uma relação entre a quantidade de quartos e o cluster, onde foram colocados"
      ],
      "metadata": {
        "id": "WToX2f3f3cAW"
      }
    },
    {
      "cell_type": "markdown",
      "source": [
        "# Finalizando sessão PySpark"
      ],
      "metadata": {
        "id": "Qj-JXzuSAmZ1"
      }
    },
    {
      "cell_type": "code",
      "source": [
        "# spark.stop()"
      ],
      "metadata": {
        "id": "xEFwMdJfXxHh"
      },
      "execution_count": 46,
      "outputs": []
    }
  ]
}
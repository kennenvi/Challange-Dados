{
  "nbformat": 4,
  "nbformat_minor": 0,
  "metadata": {
    "colab": {
      "provenance": [],
      "toc_visible": true,
      "authorship_tag": "ABX9TyOEu22OVfIz6M4yVql7DEay",
      "include_colab_link": true
    },
    "kernelspec": {
      "name": "python3",
      "display_name": "Python 3"
    },
    "language_info": {
      "name": "python"
    }
  },
  "cells": [
    {
      "cell_type": "markdown",
      "metadata": {
        "id": "view-in-github",
        "colab_type": "text"
      },
      "source": [
        "<a href=\"https://colab.research.google.com/github/kennenvi/Challange-Dados/blob/main/Sistema_de_recomendacao_com_PySpark.ipynb\" target=\"_parent\"><img src=\"https://colab.research.google.com/assets/colab-badge.svg\" alt=\"Open In Colab\"/></a>"
      ]
    },
    {
      "cell_type": "markdown",
      "metadata": {
        "id": "xIZNca7Pjgqf"
      },
      "source": [
        "# Iniciando ambiente\n",
        "---"
      ]
    },
    {
      "cell_type": "markdown",
      "metadata": {
        "id": "A_pds0odi1Rj"
      },
      "source": [
        "## Instalando o PySpark no Google Colab"
      ]
    },
    {
      "cell_type": "code",
      "source": [
        "!pip install pyspark==3.3.1"
      ],
      "metadata": {
        "colab": {
          "base_uri": "https://localhost:8080/"
        },
        "id": "TtSLyCVGuXFb",
        "outputId": "a3a5c524-f5f0-4510-efe6-2bf0ea166e52"
      },
      "execution_count": 1,
      "outputs": [
        {
          "output_type": "stream",
          "name": "stdout",
          "text": [
            "Looking in indexes: https://pypi.org/simple, https://us-python.pkg.dev/colab-wheels/public/simple/\n",
            "Collecting pyspark==3.3.1\n",
            "  Downloading pyspark-3.3.1.tar.gz (281.4 MB)\n",
            "\u001b[K     |████████████████████████████████| 281.4 MB 35 kB/s \n",
            "\u001b[?25hCollecting py4j==0.10.9.5\n",
            "  Downloading py4j-0.10.9.5-py2.py3-none-any.whl (199 kB)\n",
            "\u001b[K     |████████████████████████████████| 199 kB 46.1 MB/s \n",
            "\u001b[?25hBuilding wheels for collected packages: pyspark\n",
            "  Building wheel for pyspark (setup.py) ... \u001b[?25l\u001b[?25hdone\n",
            "  Created wheel for pyspark: filename=pyspark-3.3.1-py2.py3-none-any.whl size=281845512 sha256=8a3e1751e4982a48e0a3eb67205c066c79bc960eadb52919220ac76420a3416c\n",
            "  Stored in directory: /root/.cache/pip/wheels/43/dc/11/ec201cd671da62fa9c5cc77078235e40722170ceba231d7598\n",
            "Successfully built pyspark\n",
            "Installing collected packages: py4j, pyspark\n",
            "Successfully installed py4j-0.10.9.5 pyspark-3.3.1\n"
          ]
        }
      ]
    },
    {
      "cell_type": "markdown",
      "metadata": {
        "id": "YGNS075GGlH0"
      },
      "source": [
        "## SparkSession\n",
        "\n",
        "O ponto de entrada para programar o Spark com a API Dataset e DataFrame."
      ]
    },
    {
      "cell_type": "code",
      "source": [
        "from pyspark.sql import SparkSession\n",
        "\n",
        "spark = SparkSession.builder \\\n",
        "    .master('local[*]') \\\n",
        "    .appName(\"Iniciando com Spark\") \\\n",
        "    .config('spark.ui.port', '4050') \\\n",
        "    .getOrCreate()"
      ],
      "metadata": {
        "id": "IcVyRdrwdFKE"
      },
      "execution_count": 2,
      "outputs": []
    },
    {
      "cell_type": "code",
      "execution_count": 3,
      "metadata": {
        "id": "PizPNqbmCuSM",
        "colab": {
          "base_uri": "https://localhost:8080/",
          "height": 219
        },
        "outputId": "a961e2ac-8c99-4108-c45e-adb8949563e3"
      },
      "outputs": [
        {
          "output_type": "execute_result",
          "data": {
            "text/plain": [
              "<pyspark.sql.session.SparkSession at 0x7f41dbd2b040>"
            ],
            "text/html": [
              "\n",
              "            <div>\n",
              "                <p><b>SparkSession - in-memory</b></p>\n",
              "                \n",
              "        <div>\n",
              "            <p><b>SparkContext</b></p>\n",
              "\n",
              "            <p><a href=\"http://be41be15a48b:4050\">Spark UI</a></p>\n",
              "\n",
              "            <dl>\n",
              "              <dt>Version</dt>\n",
              "                <dd><code>v3.3.1</code></dd>\n",
              "              <dt>Master</dt>\n",
              "                <dd><code>local[*]</code></dd>\n",
              "              <dt>AppName</dt>\n",
              "                <dd><code>Iniciando com Spark</code></dd>\n",
              "            </dl>\n",
              "        </div>\n",
              "        \n",
              "            </div>\n",
              "        "
            ]
          },
          "metadata": {},
          "execution_count": 3
        }
      ],
      "source": [
        "spark"
      ]
    },
    {
      "cell_type": "markdown",
      "source": [
        "## Baixando conjunto de dados"
      ],
      "metadata": {
        "id": "HDEfKGcCGhh0"
      }
    },
    {
      "cell_type": "code",
      "source": [
        "!wget 'https://caelum-online-public.s3.amazonaws.com/challenge-spark/semanas-3-e-4.zip' && unzip semanas-3-e-4.zip -d dados/"
      ],
      "metadata": {
        "id": "yip_n_BAGkjz",
        "colab": {
          "base_uri": "https://localhost:8080/"
        },
        "outputId": "c0da9d47-1f76-4013-c49e-160b79ce0c95"
      },
      "execution_count": 4,
      "outputs": [
        {
          "output_type": "stream",
          "name": "stdout",
          "text": [
            "--2022-12-14 18:54:58--  https://caelum-online-public.s3.amazonaws.com/challenge-spark/semanas-3-e-4.zip\n",
            "Resolving caelum-online-public.s3.amazonaws.com (caelum-online-public.s3.amazonaws.com)... 52.217.167.249, 52.217.204.89, 52.217.202.185, ...\n",
            "Connecting to caelum-online-public.s3.amazonaws.com (caelum-online-public.s3.amazonaws.com)|52.217.167.249|:443... connected.\n",
            "HTTP request sent, awaiting response... 200 OK\n",
            "Length: 2588308 (2.5M) [application/zip]\n",
            "Saving to: ‘semanas-3-e-4.zip’\n",
            "\n",
            "semanas-3-e-4.zip   100%[===================>]   2.47M  5.75MB/s    in 0.4s    \n",
            "\n",
            "2022-12-14 18:54:59 (5.75 MB/s) - ‘semanas-3-e-4.zip’ saved [2588308/2588308]\n",
            "\n",
            "Archive:  semanas-3-e-4.zip\n",
            "   creating: dados/dataset_ml_parquet/\n",
            "  inflating: dados/dataset_ml_parquet/_SUCCESS  \n",
            "  inflating: dados/dataset_ml_parquet/._SUCCESS.crc  \n",
            "  inflating: dados/dataset_ml_parquet/part-00003-a14b227c-f87e-4893-b5f9-4163ed07cb37-c000.snappy.parquet  \n",
            "  inflating: dados/dataset_ml_parquet/part-00001-a14b227c-f87e-4893-b5f9-4163ed07cb37-c000.snappy.parquet  \n",
            "  inflating: dados/dataset_ml_parquet/part-00000-a14b227c-f87e-4893-b5f9-4163ed07cb37-c000.snappy.parquet  \n",
            "  inflating: dados/dataset_ml_parquet/.part-00003-a14b227c-f87e-4893-b5f9-4163ed07cb37-c000.snappy.parquet.crc  \n",
            "  inflating: dados/dataset_ml_parquet/part-00002-a14b227c-f87e-4893-b5f9-4163ed07cb37-c000.snappy.parquet  \n",
            "  inflating: dados/dataset_ml_parquet/.part-00001-a14b227c-f87e-4893-b5f9-4163ed07cb37-c000.snappy.parquet.crc  \n",
            "  inflating: dados/dataset_ml_parquet/.part-00002-a14b227c-f87e-4893-b5f9-4163ed07cb37-c000.snappy.parquet.crc  \n",
            "  inflating: dados/dataset_ml_parquet/.part-00000-a14b227c-f87e-4893-b5f9-4163ed07cb37-c000.snappy.parquet.crc  \n"
          ]
        }
      ]
    },
    {
      "cell_type": "markdown",
      "source": [
        "# Sistema de recomendação"
      ],
      "metadata": {
        "id": "fpJtJI3sOLrx"
      }
    },
    {
      "cell_type": "code",
      "source": [
        "#Carregando dados\n",
        "dados = spark.read.parquet(\n",
        "  '/content/dados/dataset_ml_parquet'  \n",
        ")"
      ],
      "metadata": {
        "id": "DNNm-HIW4twT"
      },
      "execution_count": 5,
      "outputs": []
    },
    {
      "cell_type": "code",
      "source": [
        "dados.show()"
      ],
      "metadata": {
        "colab": {
          "base_uri": "https://localhost:8080/"
        },
        "id": "VBYqeaS05Gcb",
        "outputId": "1cd45d93-8d52-4b86-a585-17fc4ad9c9f5"
      },
      "execution_count": 6,
      "outputs": [
        {
          "output_type": "stream",
          "name": "stdout",
          "text": [
            "+--------------------+-----+---------+---------+-------+------+----+--------------------+----------+------+---------+------------+----------+----------+--------+--------+------------------+-------------+------------------+--------+-------+----------+------------+-----------------+---------------+\n",
            "|                  id|andar|area_util|banheiros|quartos|suites|vaga|              bairro|condominio|  iptu|    valor|Zona Central|Zona Norte|Zona Oeste|Zona Sul|Academia|Animais permitidos|Churrasqueira|Condomínio fechado|Elevador|Piscina|Playground|Portaria 24h|Portão eletrônico|Salão de festas|\n",
            "+--------------------+-----+---------+---------+-------+------+----+--------------------+----------+------+---------+------------+----------+----------+--------+--------+------------------+-------------+------------------+--------+-------+----------+------------+-----------------+---------------+\n",
            "|00002dd9-cc74-480...|    2|       35|        1|      1|   0.0| 0.0|        Santo Cristo|     100.0| 100.0| 245000.0|           1|         0|         0|       0|       1|                 1|            1|                 1|       1|      1|         1|           1|                1|              1|\n",
            "|0009ca94-2b37-438...|    1|       84|        2|      2|   0.0| 1.0|              Tijuca|     770.0| 105.0| 474980.0|           0|         1|         0|       0|       0|                 0|            1|                 0|       1|      0|         1|           1|                0|              1|\n",
            "|000e3d28-e3e5-411...|    0|       85|        2|      2|   0.0| 0.0|        Santa Teresa|     460.0| 661.0| 290000.0|           0|         0|         0|       1|       0|                 1|            0|                 0|       1|      0|         0|           0|                0|              0|\n",
            "|000fb707-6cad-496...|    0|       58|        1|      2|   0.0| 1.0|           Pechincha|     550.0| 550.0| 249000.0|           0|         0|         1|       0|       0|                 0|            0|                 0|       0|      1|         1|           0|                0|              0|\n",
            "|001b6db0-e88d-4eb...|    0|       64|        2|      2|   1.0| 1.0|              Tijuca|     850.0|   0.0| 530000.0|           0|         1|         0|       0|       0|                 0|            0|                 0|       0|      0|         0|           0|                0|              0|\n",
            "|002db67e-52cc-480...|    0|      200|        6|      4|   4.0| 2.0|     Barra da Tijuca|    2500.0| 420.0|2900000.0|           0|         0|         1|       0|       1|                 1|            1|                 1|       1|      1|         1|           0|                0|              1|\n",
            "|002dc4e0-f1a5-4ad...|    0|       70|        2|      2|   0.0| 0.0|         Vila Isabel|     570.0|   0.0| 389000.0|           0|         1|         0|       0|       0|                 0|            0|                 0|       1|      0|         0|           0|                0|              0|\n",
            "|0030dd84-f657-41f...|    3|       70|        2|      2|   1.0| 1.0|        Pitangueiras|     670.0| 107.0| 470000.0|           0|         1|         0|       0|       0|                 0|            0|                 0|       1|      0|         0|           0|                1|              0|\n",
            "|003213bb-ec21-4ad...|    0|      302|        7|      4|   4.0| 2.0|     Barra da Tijuca|       0.0|   0.0|4400000.0|           0|         0|         1|       0|       1|                 0|            1|                 1|       0|      1|         1|           0|                0|              1|\n",
            "|0032884c-aa5f-455...|    0|       41|        1|      1|   1.0| 1.0|            Cachambi|     450.0|  40.0| 269900.0|           0|         1|         0|       0|       1|                 1|            1|                 1|       1|      1|         1|           1|                1|              1|\n",
            "|00348cd1-923a-4db...|    5|       78|        1|      2|   1.0| 1.0|     Barra da Tijuca|       1.0|   1.0|1050300.0|           0|         0|         1|       0|       1|                 1|            1|                 1|       1|      1|         1|           1|                1|              1|\n",
            "|0034df72-124a-438...|    0|      170|        3|      3|   2.0| 2.0|Recreio dos Bande...|    1300.0|4100.0| 950000.0|           0|         0|         1|       0|       1|                 0|            1|                 1|       0|      1|         0|           0|                0|              1|\n",
            "|0036114a-4a0f-492...|    0|      173|        3|      3|   1.0| 2.0|         Jacarepaguá|    1750.0|4600.0|1300000.0|           0|         0|         1|       0|       1|                 0|            1|                 0|       0|      1|         1|           0|                0|              1|\n",
            "|00370d62-f774-405...|    0|       82|        1|      3|   1.0| 1.0|Recreio dos Bande...|     650.0| 200.0| 650000.0|           0|         0|         1|       0|       0|                 0|            0|                 0|       0|      0|         0|           0|                0|              0|\n",
            "|00396d9d-2d0e-4b5...|    9|      120|        2|      2|   1.0| 2.0|          Copacabana|     950.0| 200.0| 970000.0|           0|         0|         0|       1|       0|                 1|            0|                 1|       1|      0|         0|           1|                1|              0|\n",
            "|003cb63c-a666-458...|   20|      341|        2|      3|   1.0| 2.0|          Copacabana|      20.0|  20.0|4800000.0|           0|         0|         0|       1|       0|                 1|            0|                 1|       1|      0|         0|           1|                1|              0|\n",
            "|0040f5a7-6c6a-40e...|    0|      194|        5|      4|   4.0| 3.0|     Barra da Tijuca|       0.0|   0.0|2750000.0|           0|         0|         1|       0|       1|                 0|            1|                 1|       1|      1|         1|           1|                1|              1|\n",
            "|00529a9d-d876-4dc...|    0|       32|        1|      1|   0.0| 0.0|             Piedade|       0.0|   0.0| 194687.0|           0|         1|         0|       0|       0|                 0|            0|                 0|       0|      0|         0|           0|                0|              1|\n",
            "|00584813-33b4-477...|    1|       70|        1|      2|   0.0| 0.0|          Bonsucesso|       0.0|   0.0| 220000.0|           0|         1|         0|       0|       0|                 0|            0|                 0|       0|      0|         0|           0|                0|              0|\n",
            "|005b5441-16b2-483...|   10|       72|        1|      2|   0.0| 1.0|            Botafogo|    1086.0|1498.0|1000000.0|           0|         0|         0|       1|       0|                 1|            0|                 1|       1|      0|         0|           1|                1|              0|\n",
            "+--------------------+-----+---------+---------+-------+------+----+--------------------+----------+------+---------+------------+----------+----------+--------+--------+------------------+-------------+------------------+--------+-------+----------+------------+-----------------+---------------+\n",
            "only showing top 20 rows\n",
            "\n"
          ]
        }
      ]
    },
    {
      "cell_type": "code",
      "source": [
        "# Verificando estrutura dos dados\n",
        "dados.printSchema()"
      ],
      "metadata": {
        "colab": {
          "base_uri": "https://localhost:8080/"
        },
        "id": "-yUHlv9T5YbR",
        "outputId": "fd05360b-b3ce-413e-8cec-837fc037ad4b"
      },
      "execution_count": 7,
      "outputs": [
        {
          "output_type": "stream",
          "name": "stdout",
          "text": [
            "root\n",
            " |-- id: string (nullable = true)\n",
            " |-- andar: integer (nullable = true)\n",
            " |-- area_util: integer (nullable = true)\n",
            " |-- banheiros: integer (nullable = true)\n",
            " |-- quartos: integer (nullable = true)\n",
            " |-- suites: double (nullable = true)\n",
            " |-- vaga: double (nullable = true)\n",
            " |-- bairro: string (nullable = true)\n",
            " |-- condominio: double (nullable = true)\n",
            " |-- iptu: double (nullable = true)\n",
            " |-- valor: double (nullable = true)\n",
            " |-- Zona Central: integer (nullable = true)\n",
            " |-- Zona Norte: integer (nullable = true)\n",
            " |-- Zona Oeste: integer (nullable = true)\n",
            " |-- Zona Sul: integer (nullable = true)\n",
            " |-- Academia: integer (nullable = true)\n",
            " |-- Animais permitidos: integer (nullable = true)\n",
            " |-- Churrasqueira: integer (nullable = true)\n",
            " |-- Condomínio fechado: integer (nullable = true)\n",
            " |-- Elevador: integer (nullable = true)\n",
            " |-- Piscina: integer (nullable = true)\n",
            " |-- Playground: integer (nullable = true)\n",
            " |-- Portaria 24h: integer (nullable = true)\n",
            " |-- Portão eletrônico: integer (nullable = true)\n",
            " |-- Salão de festas: integer (nullable = true)\n",
            "\n"
          ]
        }
      ]
    },
    {
      "cell_type": "markdown",
      "source": [
        "Será retirado a coluna `bairro`, porque esta possui uma quantidade muito grande de valores únicos para serem transformados de variáveis categóricas para numéricas"
      ],
      "metadata": {
        "id": "JK_VARm_51Jx"
      }
    },
    {
      "cell_type": "code",
      "source": [
        "dados\\\n",
        "    .groupby('bairro')\\\n",
        "    .count()\\\n",
        "    .count()"
      ],
      "metadata": {
        "colab": {
          "base_uri": "https://localhost:8080/"
        },
        "id": "00Dljykq5-Ui",
        "outputId": "63261d35-931e-4503-c552-66355f7e08af"
      },
      "execution_count": 8,
      "outputs": [
        {
          "output_type": "execute_result",
          "data": {
            "text/plain": [
              "150"
            ]
          },
          "metadata": {},
          "execution_count": 8
        }
      ]
    },
    {
      "cell_type": "code",
      "source": [
        "# Retirando coluna \"dados\"\n",
        "dados = dados.drop('bairro')"
      ],
      "metadata": {
        "id": "OUO57vMD6ZXC"
      },
      "execution_count": 9,
      "outputs": []
    },
    {
      "cell_type": "markdown",
      "source": [
        "### Preparando os dados"
      ],
      "metadata": {
        "id": "8pHO-yuq6fEJ"
      }
    },
    {
      "cell_type": "code",
      "source": [
        "from pyspark.ml.feature import VectorAssembler"
      ],
      "metadata": {
        "id": "ieVnki666dMY"
      },
      "execution_count": 10,
      "outputs": []
    },
    {
      "cell_type": "code",
      "source": [
        "X = dados.drop('id').columns\n",
        "X"
      ],
      "metadata": {
        "colab": {
          "base_uri": "https://localhost:8080/"
        },
        "id": "Mc_TW55q6mKB",
        "outputId": "8e982723-9dab-4688-e1fd-dceef454a2f3"
      },
      "execution_count": 11,
      "outputs": [
        {
          "output_type": "execute_result",
          "data": {
            "text/plain": [
              "['andar',\n",
              " 'area_util',\n",
              " 'banheiros',\n",
              " 'quartos',\n",
              " 'suites',\n",
              " 'vaga',\n",
              " 'condominio',\n",
              " 'iptu',\n",
              " 'valor',\n",
              " 'Zona Central',\n",
              " 'Zona Norte',\n",
              " 'Zona Oeste',\n",
              " 'Zona Sul',\n",
              " 'Academia',\n",
              " 'Animais permitidos',\n",
              " 'Churrasqueira',\n",
              " 'Condomínio fechado',\n",
              " 'Elevador',\n",
              " 'Piscina',\n",
              " 'Playground',\n",
              " 'Portaria 24h',\n",
              " 'Portão eletrônico',\n",
              " 'Salão de festas']"
            ]
          },
          "metadata": {},
          "execution_count": 11
        }
      ]
    },
    {
      "cell_type": "code",
      "source": [
        "dados_prep = VectorAssembler(inputCols=X, outputCol='features').transform(dados)"
      ],
      "metadata": {
        "id": "jmDgVCLE6v5T"
      },
      "execution_count": 12,
      "outputs": []
    },
    {
      "cell_type": "code",
      "source": [
        "dados_prep.select('features').show(truncate=False)"
      ],
      "metadata": {
        "colab": {
          "base_uri": "https://localhost:8080/"
        },
        "id": "4jZxXPXx6_da",
        "outputId": "13a72337-28d9-46b4-9c6c-e2ed3c2eead9"
      },
      "execution_count": 13,
      "outputs": [
        {
          "output_type": "stream",
          "name": "stdout",
          "text": [
            "+----------------------------------------------------------------------------------------------------------------+\n",
            "|features                                                                                                        |\n",
            "+----------------------------------------------------------------------------------------------------------------+\n",
            "|[2.0,35.0,1.0,1.0,0.0,0.0,100.0,100.0,245000.0,1.0,0.0,0.0,0.0,1.0,1.0,1.0,1.0,1.0,1.0,1.0,1.0,1.0,1.0]         |\n",
            "|(23,[0,1,2,3,5,6,7,8,10,15,17,19,20,22],[1.0,84.0,2.0,2.0,1.0,770.0,105.0,474980.0,1.0,1.0,1.0,1.0,1.0,1.0])    |\n",
            "|(23,[1,2,3,6,7,8,12,14,17],[85.0,2.0,2.0,460.0,661.0,290000.0,1.0,1.0,1.0])                                     |\n",
            "|(23,[1,2,3,5,6,7,8,11,18,19],[58.0,1.0,2.0,1.0,550.0,550.0,249000.0,1.0,1.0,1.0])                               |\n",
            "|(23,[1,2,3,4,5,6,8,10],[64.0,2.0,2.0,1.0,1.0,850.0,530000.0,1.0])                                               |\n",
            "|[0.0,200.0,6.0,4.0,4.0,2.0,2500.0,420.0,2900000.0,0.0,0.0,1.0,0.0,1.0,1.0,1.0,1.0,1.0,1.0,1.0,0.0,0.0,1.0]      |\n",
            "|(23,[1,2,3,6,8,10,17],[70.0,2.0,2.0,570.0,389000.0,1.0,1.0])                                                    |\n",
            "|(23,[0,1,2,3,4,5,6,7,8,10,17,21],[3.0,70.0,2.0,2.0,1.0,1.0,670.0,107.0,470000.0,1.0,1.0,1.0])                   |\n",
            "|(23,[1,2,3,4,5,8,11,13,15,16,18,19,22],[302.0,7.0,4.0,4.0,2.0,4400000.0,1.0,1.0,1.0,1.0,1.0,1.0,1.0])           |\n",
            "|[0.0,41.0,1.0,1.0,1.0,1.0,450.0,40.0,269900.0,0.0,1.0,0.0,0.0,1.0,1.0,1.0,1.0,1.0,1.0,1.0,1.0,1.0,1.0]          |\n",
            "|[5.0,78.0,1.0,2.0,1.0,1.0,1.0,1.0,1050300.0,0.0,0.0,1.0,0.0,1.0,1.0,1.0,1.0,1.0,1.0,1.0,1.0,1.0,1.0]            |\n",
            "|(23,[1,2,3,4,5,6,7,8,11,13,15,16,18,22],[170.0,3.0,3.0,2.0,2.0,1300.0,4100.0,950000.0,1.0,1.0,1.0,1.0,1.0,1.0]) |\n",
            "|(23,[1,2,3,4,5,6,7,8,11,13,15,18,19,22],[173.0,3.0,3.0,1.0,2.0,1750.0,4600.0,1300000.0,1.0,1.0,1.0,1.0,1.0,1.0])|\n",
            "|(23,[1,2,3,4,5,6,7,8,11],[82.0,1.0,3.0,1.0,1.0,650.0,200.0,650000.0,1.0])                                       |\n",
            "|[9.0,120.0,2.0,2.0,1.0,2.0,950.0,200.0,970000.0,0.0,0.0,0.0,1.0,0.0,1.0,0.0,1.0,1.0,0.0,0.0,1.0,1.0,0.0]        |\n",
            "|[20.0,341.0,2.0,3.0,1.0,2.0,20.0,20.0,4800000.0,0.0,0.0,0.0,1.0,0.0,1.0,0.0,1.0,1.0,0.0,0.0,1.0,1.0,0.0]        |\n",
            "|[0.0,194.0,5.0,4.0,4.0,3.0,0.0,0.0,2750000.0,0.0,0.0,1.0,0.0,1.0,0.0,1.0,1.0,1.0,1.0,1.0,1.0,1.0,1.0]           |\n",
            "|(23,[1,2,3,8,10,22],[32.0,1.0,1.0,194687.0,1.0,1.0])                                                            |\n",
            "|(23,[0,1,2,3,8,10],[1.0,70.0,1.0,2.0,220000.0,1.0])                                                             |\n",
            "|(23,[0,1,2,3,5,6,7,8,12,14,16,17,20,21],[10.0,72.0,1.0,2.0,1.0,1086.0,1498.0,1000000.0,1.0,1.0,1.0,1.0,1.0,1.0])|\n",
            "+----------------------------------------------------------------------------------------------------------------+\n",
            "only showing top 20 rows\n",
            "\n"
          ]
        }
      ]
    },
    {
      "cell_type": "code",
      "source": [
        "from pyspark.ml.feature import StandardScaler"
      ],
      "metadata": {
        "id": "bCfe-slM7Izz"
      },
      "execution_count": 14,
      "outputs": []
    },
    {
      "cell_type": "code",
      "source": [
        "scaler = StandardScaler(inputCol='features', outputCol='scaled_features')\n",
        "model_scaler = scaler.fit(dados_prep)\n",
        "dados_prep = model_scaler.transform(dados_prep)"
      ],
      "metadata": {
        "id": "noi8qybR7QZa"
      },
      "execution_count": 15,
      "outputs": []
    },
    {
      "cell_type": "code",
      "source": [
        "dados_prep.select('features', 'scaled_features').show()"
      ],
      "metadata": {
        "colab": {
          "base_uri": "https://localhost:8080/"
        },
        "id": "J_0G6MlD7nfj",
        "outputId": "c1f03c60-2b51-40e7-fb33-46d9bf4cfa60"
      },
      "execution_count": 16,
      "outputs": [
        {
          "output_type": "stream",
          "name": "stdout",
          "text": [
            "+--------------------+--------------------+\n",
            "|            features|     scaled_features|\n",
            "+--------------------+--------------------+\n",
            "|[2.0,35.0,1.0,1.0...|[0.13607726247524...|\n",
            "|(23,[0,1,2,3,5,6,...|(23,[0,1,2,3,5,6,...|\n",
            "|(23,[1,2,3,6,7,8,...|(23,[1,2,3,6,7,8,...|\n",
            "|(23,[1,2,3,5,6,7,...|(23,[1,2,3,5,6,7,...|\n",
            "|(23,[1,2,3,4,5,6,...|(23,[1,2,3,4,5,6,...|\n",
            "|[0.0,200.0,6.0,4....|[0.0,2.2447697820...|\n",
            "|(23,[1,2,3,6,8,10...|(23,[1,2,3,6,8,10...|\n",
            "|(23,[0,1,2,3,4,5,...|(23,[0,1,2,3,4,5,...|\n",
            "|(23,[1,2,3,4,5,8,...|(23,[1,2,3,4,5,8,...|\n",
            "|[0.0,41.0,1.0,1.0...|[0.0,0.4601778053...|\n",
            "|[5.0,78.0,1.0,2.0...|[0.34019315618810...|\n",
            "|(23,[1,2,3,4,5,6,...|(23,[1,2,3,4,5,6,...|\n",
            "|(23,[1,2,3,4,5,6,...|(23,[1,2,3,4,5,6,...|\n",
            "|(23,[1,2,3,4,5,6,...|(23,[1,2,3,4,5,6,...|\n",
            "|[9.0,120.0,2.0,2....|[0.61234768113858...|\n",
            "|[20.0,341.0,2.0,3...|[1.36077262475241...|\n",
            "|[0.0,194.0,5.0,4....|[0.0,2.1774266885...|\n",
            "|(23,[1,2,3,8,10,2...|(23,[1,2,3,8,10,2...|\n",
            "|(23,[0,1,2,3,8,10...|(23,[0,1,2,3,8,10...|\n",
            "|(23,[0,1,2,3,5,6,...|(23,[0,1,2,3,5,6,...|\n",
            "+--------------------+--------------------+\n",
            "only showing top 20 rows\n",
            "\n"
          ]
        }
      ]
    },
    {
      "cell_type": "markdown",
      "source": [
        "### Redução de dimensionalidade"
      ],
      "metadata": {
        "id": "4OfYRmTq74D0"
      }
    },
    {
      "cell_type": "code",
      "source": [
        "from pyspark.ml.feature import PCA"
      ],
      "metadata": {
        "id": "X_fjFQzo75yT"
      },
      "execution_count": 17,
      "outputs": []
    },
    {
      "cell_type": "code",
      "source": [
        "pca_k = len(X)\n",
        "pca_k"
      ],
      "metadata": {
        "colab": {
          "base_uri": "https://localhost:8080/"
        },
        "id": "lEjN5dSW8CAm",
        "outputId": "55fe2180-db4c-4180-d7e7-0322473c47ce"
      },
      "execution_count": 18,
      "outputs": [
        {
          "output_type": "execute_result",
          "data": {
            "text/plain": [
              "23"
            ]
          },
          "metadata": {},
          "execution_count": 18
        }
      ]
    },
    {
      "cell_type": "code",
      "source": [
        "pca = PCA(k=pca_k, inputCol='scaled_features', outputCol='pca_features')\n",
        "model_pca = pca.fit(dados_prep)"
      ],
      "metadata": {
        "id": "oAXa73AX7-9q"
      },
      "execution_count": 19,
      "outputs": []
    },
    {
      "cell_type": "markdown",
      "source": [
        "Verificando a explicabilidade da variancia de cada feature"
      ],
      "metadata": {
        "id": "iKMESU6H8X3E"
      }
    },
    {
      "cell_type": "code",
      "source": [
        "import numpy as np"
      ],
      "metadata": {
        "id": "0RIeDlGK83Rd"
      },
      "execution_count": 20,
      "outputs": []
    },
    {
      "cell_type": "code",
      "source": [
        "model_pca.explainedVariance"
      ],
      "metadata": {
        "colab": {
          "base_uri": "https://localhost:8080/"
        },
        "id": "JLINUeLJ8MKS",
        "outputId": "723757e6-3bda-4d38-9268-7ad62a8e6c81"
      },
      "execution_count": 21,
      "outputs": [
        {
          "output_type": "execute_result",
          "data": {
            "text/plain": [
              "DenseVector([0.2655, 0.1721, 0.0913, 0.0544, 0.0522, 0.0466, 0.0443, 0.0416, 0.0347, 0.0272, 0.0244, 0.0201, 0.0192, 0.0176, 0.0155, 0.0139, 0.012, 0.0113, 0.0101, 0.0092, 0.0089, 0.0079, 0.0])"
            ]
          },
          "metadata": {},
          "execution_count": 21
        }
      ]
    },
    {
      "cell_type": "code",
      "source": [
        "exp_var = np.array(model_pca.explainedVariance)"
      ],
      "metadata": {
        "id": "yhiAirPI845J"
      },
      "execution_count": 22,
      "outputs": []
    },
    {
      "cell_type": "markdown",
      "source": [
        "Olhando para os dados serão escolhidas features até que 80% da variância seja explicada"
      ],
      "metadata": {
        "id": "NV-yWE259E8h"
      }
    },
    {
      "cell_type": "code",
      "source": [
        "pca_k = sum(exp_var.cumsum() <= .8)"
      ],
      "metadata": {
        "id": "12ARqUCH87JK"
      },
      "execution_count": 23,
      "outputs": []
    },
    {
      "cell_type": "code",
      "source": [
        "model_pca = pca.setK(pca_k).fit(dados_prep)\n",
        "dados_prep = model_pca.transform(dados_prep)"
      ],
      "metadata": {
        "id": "GZkqzbsw9W25"
      },
      "execution_count": 24,
      "outputs": []
    },
    {
      "cell_type": "code",
      "source": [
        "componentes_pca = len(dados_prep.select('pca_features').take(1)[0][0])\n",
        "print('Quantidades de componentes provenientes do PCA:', componentes_pca)"
      ],
      "metadata": {
        "colab": {
          "base_uri": "https://localhost:8080/"
        },
        "id": "DVQMIu3h9rX8",
        "outputId": "499b037f-8b96-4bff-be0c-e9cd029d2b9b"
      },
      "execution_count": 25,
      "outputs": [
        {
          "output_type": "stream",
          "name": "stdout",
          "text": [
            "Quantidades de componentes provenientes do PCA: 8\n"
          ]
        }
      ]
    },
    {
      "cell_type": "markdown",
      "source": [
        "### Realizando agrupamento (Clusterização)"
      ],
      "metadata": {
        "id": "9v8htsHR-hf5"
      }
    },
    {
      "cell_type": "code",
      "source": [
        "from pyspark.ml.clustering import KMeans"
      ],
      "metadata": {
        "id": "2zu2f2Gn-lVS"
      },
      "execution_count": 26,
      "outputs": []
    },
    {
      "cell_type": "code",
      "source": [
        "SEED = 42"
      ],
      "metadata": {
        "id": "Djkfk9ZvAO_F"
      },
      "execution_count": 27,
      "outputs": []
    },
    {
      "cell_type": "code",
      "source": [
        "kmeans = KMeans(k=10, featuresCol='pca_features', predictionCol='cluster', seed=SEED)\n",
        "model_kmeans = kmeans.fit(dados_prep)\n",
        "dados_cluster = model_kmeans.transform(dados_prep)"
      ],
      "metadata": {
        "id": "VYyosb3p-ss6"
      },
      "execution_count": 28,
      "outputs": []
    },
    {
      "cell_type": "code",
      "source": [
        "dados_cluster.show()"
      ],
      "metadata": {
        "colab": {
          "base_uri": "https://localhost:8080/"
        },
        "id": "tS3OPBuMA8PN",
        "outputId": "af890e29-9753-4d17-e7f7-2220dc46878f"
      },
      "execution_count": 29,
      "outputs": [
        {
          "output_type": "stream",
          "name": "stdout",
          "text": [
            "+--------------------+-----+---------+---------+-------+------+----+----------+------+---------+------------+----------+----------+--------+--------+------------------+-------------+------------------+--------+-------+----------+------------+-----------------+---------------+--------------------+--------------------+--------------------+-------+\n",
            "|                  id|andar|area_util|banheiros|quartos|suites|vaga|condominio|  iptu|    valor|Zona Central|Zona Norte|Zona Oeste|Zona Sul|Academia|Animais permitidos|Churrasqueira|Condomínio fechado|Elevador|Piscina|Playground|Portaria 24h|Portão eletrônico|Salão de festas|            features|     scaled_features|        pca_features|cluster|\n",
            "+--------------------+-----+---------+---------+-------+------+----+----------+------+---------+------------+----------+----------+--------+--------+------------------+-------------+------------------+--------+-------+----------+------------+-----------------+---------------+--------------------+--------------------+--------------------+-------+\n",
            "|00002dd9-cc74-480...|    2|       35|        1|      1|   0.0| 0.0|     100.0| 100.0| 245000.0|           1|         0|         0|       0|       1|                 1|            1|                 1|       1|      1|         1|           1|                1|              1|[2.0,35.0,1.0,1.0...|[0.13607726247524...|[-6.1651250495338...|      3|\n",
            "|0009ca94-2b37-438...|    1|       84|        2|      2|   0.0| 1.0|     770.0| 105.0| 474980.0|           0|         1|         0|       0|       0|                 0|            1|                 0|       1|      0|         1|           1|                0|              1|(23,[0,1,2,3,5,6,...|(23,[0,1,2,3,5,6,...|[-3.2529111812184...|      9|\n",
            "|000e3d28-e3e5-411...|    0|       85|        2|      2|   0.0| 0.0|     460.0| 661.0| 290000.0|           0|         0|         0|       1|       0|                 1|            0|                 0|       1|      0|         0|           0|                0|              0|(23,[1,2,3,6,7,8,...|(23,[1,2,3,6,7,8,...|[-1.0611769329629...|      4|\n",
            "|000fb707-6cad-496...|    0|       58|        1|      2|   0.0| 1.0|     550.0| 550.0| 249000.0|           0|         0|         1|       0|       0|                 0|            0|                 0|       0|      1|         1|           0|                0|              0|(23,[1,2,3,5,6,7,...|(23,[1,2,3,5,6,7,...|[-1.9958119007838...|      7|\n",
            "|001b6db0-e88d-4eb...|    0|       64|        2|      2|   1.0| 1.0|     850.0|   0.0| 530000.0|           0|         1|         0|       0|       0|                 0|            0|                 0|       0|      0|         0|           0|                0|              0|(23,[1,2,3,4,5,6,...|(23,[1,2,3,4,5,6,...|[-0.4181406070145...|      9|\n",
            "|002db67e-52cc-480...|    0|      200|        6|      4|   4.0| 2.0|    2500.0| 420.0|2900000.0|           0|         0|         1|       0|       1|                 1|            1|                 1|       1|      1|         1|           0|                0|              1|[0.0,200.0,6.0,4....|[0.0,2.2447697820...|[-6.9015238649802...|      1|\n",
            "|002dc4e0-f1a5-4ad...|    0|       70|        2|      2|   0.0| 0.0|     570.0|   0.0| 389000.0|           0|         1|         0|       0|       0|                 0|            0|                 0|       1|      0|         0|           0|                0|              0|(23,[1,2,3,6,8,10...|(23,[1,2,3,6,8,10...|[-0.7164221492881...|      9|\n",
            "|0030dd84-f657-41f...|    3|       70|        2|      2|   1.0| 1.0|     670.0| 107.0| 470000.0|           0|         1|         0|       0|       0|                 0|            0|                 0|       1|      0|         0|           0|                1|              0|(23,[0,1,2,3,4,5,...|(23,[0,1,2,3,4,5,...|[-1.4856960209870...|      9|\n",
            "|003213bb-ec21-4ad...|    0|      302|        7|      4|   4.0| 2.0|       0.0|   0.0|4400000.0|           0|         0|         1|       0|       1|                 0|            1|                 1|       0|      1|         1|           0|                0|              1|(23,[1,2,3,4,5,8,...|(23,[1,2,3,4,5,8,...|[-6.0456283208921...|      1|\n",
            "|0032884c-aa5f-455...|    0|       41|        1|      1|   1.0| 1.0|     450.0|  40.0| 269900.0|           0|         1|         0|       0|       1|                 1|            1|                 1|       1|      1|         1|           1|                1|              1|[0.0,41.0,1.0,1.0...|[0.0,0.4601778053...|[-6.1992405713781...|      3|\n",
            "|00348cd1-923a-4db...|    5|       78|        1|      2|   1.0| 1.0|       1.0|   1.0|1050300.0|           0|         0|         1|       0|       1|                 1|            1|                 1|       1|      1|         1|           1|                1|              1|[5.0,78.0,1.0,2.0...|[0.34019315618810...|[-6.8846811115738...|      3|\n",
            "|0034df72-124a-438...|    0|      170|        3|      3|   2.0| 2.0|    1300.0|4100.0| 950000.0|           0|         0|         1|       0|       1|                 0|            1|                 1|       0|      1|         0|           0|                0|              1|(23,[1,2,3,4,5,6,...|(23,[1,2,3,4,5,6,...|[-4.6134703872770...|      5|\n",
            "|0036114a-4a0f-492...|    0|      173|        3|      3|   1.0| 2.0|    1750.0|4600.0|1300000.0|           0|         0|         1|       0|       1|                 0|            1|                 0|       0|      1|         1|           0|                0|              1|(23,[1,2,3,4,5,6,...|(23,[1,2,3,4,5,6,...|[-4.4763270618055...|      5|\n",
            "|00370d62-f774-405...|    0|       82|        1|      3|   1.0| 1.0|     650.0| 200.0| 650000.0|           0|         0|         1|       0|       0|                 0|            0|                 0|       0|      0|         0|           0|                0|              0|(23,[1,2,3,4,5,6,...|(23,[1,2,3,4,5,6,...|[-0.9935595784851...|      7|\n",
            "|00396d9d-2d0e-4b5...|    9|      120|        2|      2|   1.0| 2.0|     950.0| 200.0| 970000.0|           0|         0|         0|       1|       0|                 1|            0|                 1|       1|      0|         0|           1|                1|              0|[9.0,120.0,2.0,2....|[0.61234768113858...|[-3.1645192533431...|      0|\n",
            "|003cb63c-a666-458...|   20|      341|        2|      3|   1.0| 2.0|      20.0|  20.0|4800000.0|           0|         0|         0|       1|       0|                 1|            0|                 1|       1|      0|         0|           1|                1|              0|[20.0,341.0,2.0,3...|[1.36077262475241...|[-3.5460599405485...|      0|\n",
            "|0040f5a7-6c6a-40e...|    0|      194|        5|      4|   4.0| 3.0|       0.0|   0.0|2750000.0|           0|         0|         1|       0|       1|                 0|            1|                 1|       1|      1|         1|           1|                1|              1|[0.0,194.0,5.0,4....|[0.0,2.1774266885...|[-7.5070643480675...|      1|\n",
            "|00529a9d-d876-4dc...|    0|       32|        1|      1|   0.0| 0.0|       0.0|   0.0| 194687.0|           0|         1|         0|       0|       0|                 0|            0|                 0|       0|      0|         0|           0|                0|              1|(23,[1,2,3,8,10,2...|(23,[1,2,3,8,10,2...|[-0.6502007974669...|      9|\n",
            "|00584813-33b4-477...|    1|       70|        1|      2|   0.0| 0.0|       0.0|   0.0| 220000.0|           0|         1|         0|       0|       0|                 0|            0|                 0|       0|      0|         0|           0|                0|              0|(23,[0,1,2,3,8,10...|(23,[0,1,2,3,8,10...|[-0.1271532177362...|      9|\n",
            "|005b5441-16b2-483...|   10|       72|        1|      2|   0.0| 1.0|    1086.0|1498.0|1000000.0|           0|         0|         0|       1|       0|                 1|            0|                 1|       1|      0|         0|           1|                1|              0|(23,[0,1,2,3,5,6,...|(23,[0,1,2,3,5,6,...|[-2.8493633914844...|      0|\n",
            "+--------------------+-----+---------+---------+-------+------+----+----------+------+---------+------------+----------+----------+--------+--------+------------------+-------------+------------------+--------+-------+----------+------------+-----------------+---------------+--------------------+--------------------+--------------------+-------+\n",
            "only showing top 20 rows\n",
            "\n"
          ]
        }
      ]
    },
    {
      "cell_type": "markdown",
      "source": [
        "## Criando recomendador"
      ],
      "metadata": {
        "id": "Tm2lGwuhAn4K"
      }
    },
    {
      "cell_type": "code",
      "source": [
        "dados_recomendacao = dados_cluster\\\n",
        "    .select('id', 'pca_features', 'cluster')"
      ],
      "metadata": {
        "id": "zeQ4bFQsAdfi"
      },
      "execution_count": 30,
      "outputs": []
    },
    {
      "cell_type": "code",
      "source": [
        "id_movel_base = dados_recomendacao.take(1)[0][0]"
      ],
      "metadata": {
        "id": "92mQLHhmBEts"
      },
      "execution_count": 31,
      "outputs": []
    },
    {
      "cell_type": "code",
      "source": [
        "from pyspark.sql import functions as f"
      ],
      "metadata": {
        "id": "Yr0GyILcB5E2"
      },
      "execution_count": 32,
      "outputs": []
    },
    {
      "cell_type": "code",
      "source": [
        "from pyspark.sql.functions import udf\n",
        "from pyspark.sql.types import FloatType\n",
        "from scipy.spatial.distance import euclidean"
      ],
      "metadata": {
        "id": "qDPVGpZLC8R9"
      },
      "execution_count": 33,
      "outputs": []
    },
    {
      "cell_type": "code",
      "source": [
        "def recomendador(id_movel):\n",
        "    cluster, componentes_movel = dados_cluster\\\n",
        "        .where(f.col('id') == id_movel_base)\\\n",
        "        .select('cluster', 'pca_features')\\\n",
        "        .collect()[0]\n",
        "    \n",
        "    moveis_recomendados = dados_cluster\\\n",
        "        .where(f.col('cluster') == cluster)\n",
        "    \n",
        "    @udf(returnType=FloatType())\n",
        "    def calcula_distancia(valor):\n",
        "        return euclidean(componentes_movel, valor)\n",
        "    \n",
        "    moveis_recomendados_dist = moveis_recomendados\\\n",
        "        .withColumn('dist', calcula_distancia('pca_features'))\\\n",
        "        .sort('dist')\\\n",
        "        .limit(10)\n",
        "\n",
        "    moveis_recomendados_dist.show()"
      ],
      "metadata": {
        "id": "lVsRf38NBTOa"
      },
      "execution_count": 34,
      "outputs": []
    },
    {
      "cell_type": "code",
      "source": [
        "recomendador(id_movel_base)"
      ],
      "metadata": {
        "colab": {
          "base_uri": "https://localhost:8080/"
        },
        "id": "3eyJva0ECV8C",
        "outputId": "ebe5e48e-f862-4e01-d9d8-adfcb72190fd"
      },
      "execution_count": 35,
      "outputs": [
        {
          "output_type": "stream",
          "name": "stdout",
          "text": [
            "+--------------------+-----+---------+---------+-------+------+----+----------+-----+--------+------------+----------+----------+--------+--------+------------------+-------------+------------------+--------+-------+----------+------------+-----------------+---------------+--------------------+--------------------+--------------------+-------+------------+\n",
            "|                  id|andar|area_util|banheiros|quartos|suites|vaga|condominio| iptu|   valor|Zona Central|Zona Norte|Zona Oeste|Zona Sul|Academia|Animais permitidos|Churrasqueira|Condomínio fechado|Elevador|Piscina|Playground|Portaria 24h|Portão eletrônico|Salão de festas|            features|     scaled_features|        pca_features|cluster|        dist|\n",
            "+--------------------+-----+---------+---------+-------+------+----+----------+-----+--------+------------+----------+----------+--------+--------+------------------+-------------+------------------+--------+-------+----------+------------+-----------------+---------------+--------------------+--------------------+--------------------+-------+------------+\n",
            "|00002dd9-cc74-480...|    2|       35|        1|      1|   0.0| 0.0|     100.0|100.0|245000.0|           1|         0|         0|       0|       1|                 1|            1|                 1|       1|      1|         1|           1|                1|              1|[2.0,35.0,1.0,1.0...|[0.13607726247524...|[-6.1651250495338...|      3|         0.0|\n",
            "|5dac977a-6cfb-428...|    2|       32|        1|      1|   0.0| 0.0|     100.0|100.0|276500.0|           1|         0|         0|       0|       1|                 1|            1|                 1|       1|      1|         1|           1|                1|              1|[2.0,32.0,1.0,1.0...|[0.13607726247524...|[-6.1641739647499...|      3|0.0086173285|\n",
            "|a1c430e5-fe77-4b0...|    2|       31|        1|      1|   0.0| 0.0|       1.0|  1.0|315926.0|           1|         0|         0|       0|       1|                 1|            1|                 1|       1|      1|         1|           1|                1|              1|[2.0,31.0,1.0,1.0...|[0.13607726247524...|[-6.1647580890551...|      3|  0.01221622|\n",
            "|33aeb3e6-f85d-49b...|    2|       33|        1|      1|   0.0| 0.0|       1.0|  1.0|331787.0|           1|         0|         0|       0|       1|                 1|            1|                 1|       1|      1|         1|           1|                1|              1|[2.0,33.0,1.0,1.0...|[0.13607726247524...|[-6.1665528527761...|      3| 0.020492014|\n",
            "|842a87a0-7602-4b8...|    2|       38|        1|      1|   0.0| 0.0|       1.0|  1.0|402454.0|           1|         0|         0|       0|       1|                 1|            1|                 1|       1|      1|         1|           1|                1|              1|[2.0,38.0,1.0,1.0...|[0.13607726247524...|[-6.1720163702389...|      3|  0.06581165|\n",
            "|a99baaa1-00ef-490...|    3|       29|        1|      1|   0.0| 0.0|     300.0|100.0|269900.0|           1|         0|         0|       0|       1|                 1|            1|                 1|       1|      1|         1|           1|                1|              1|[3.0,29.0,1.0,1.0...|[0.20411589371286...|[-6.1649689763738...|      3|   0.0719654|\n",
            "|b3d1d649-f026-48a...|    3|       40|        1|      1|   0.0| 0.0|     200.0|100.0|269900.0|           1|         0|         0|       0|       1|                 1|            1|                 1|       1|      1|         1|           1|                1|              1|[3.0,40.0,1.0,1.0...|[0.20411589371286...|[-6.1720842449127...|      3|  0.07595893|\n",
            "|d4a64276-c147-4b3...|    3|       37|        1|      1|   0.0| 0.0|       1.0|  1.0|378087.0|           1|         0|         0|       0|       1|                 1|            1|                 1|       1|      1|         1|           1|                1|              1|[3.0,37.0,1.0,1.0...|[0.20411589371286...|[-6.1735292532169...|      3|  0.08621534|\n",
            "|5bdbf3b3-fc45-438...|    3|       43|        1|      1|   0.0| 0.0|       1.0|  1.0|430251.0|           1|         0|         0|       0|       1|                 1|            1|                 1|       1|      1|         1|           1|                1|              1|[3.0,43.0,1.0,1.0...|[0.20411589371286...|[-6.1790577943913...|      3|   0.1202876|\n",
            "|562af84b-6b6d-422...|    0|       35|        1|      1|   0.0| 0.0|       0.0|  0.0|255900.0|           1|         0|         0|       0|       1|                 1|            1|                 1|       1|      1|         1|           1|                1|              1|[0.0,35.0,1.0,1.0...|[0.0,0.3928347118...|[-6.1596028281139...|      3|   0.1360754|\n",
            "+--------------------+-----+---------+---------+-------+------+----+----------+-----+--------+------------+----------+----------+--------+--------+------------------+-------------+------------------+--------+-------+----------+------------+-----------------+---------------+--------------------+--------------------+--------------------+-------+------------+\n",
            "\n"
          ]
        }
      ]
    },
    {
      "cell_type": "markdown",
      "source": [
        "## Criando uma Pipeline"
      ],
      "metadata": {
        "id": "aKgspLTdMB4S"
      }
    },
    {
      "cell_type": "code",
      "source": [
        "from pyspark.ml import Pipeline"
      ],
      "metadata": {
        "id": "UfDYvQBQMElA"
      },
      "execution_count": 36,
      "outputs": []
    },
    {
      "cell_type": "code",
      "source": [
        "dados.show()"
      ],
      "metadata": {
        "colab": {
          "base_uri": "https://localhost:8080/"
        },
        "id": "dQDy9A_PNmAb",
        "outputId": "1414d512-342a-42bb-c3a5-08b100dccfec"
      },
      "execution_count": 37,
      "outputs": [
        {
          "output_type": "stream",
          "name": "stdout",
          "text": [
            "+--------------------+-----+---------+---------+-------+------+----+----------+------+---------+------------+----------+----------+--------+--------+------------------+-------------+------------------+--------+-------+----------+------------+-----------------+---------------+\n",
            "|                  id|andar|area_util|banheiros|quartos|suites|vaga|condominio|  iptu|    valor|Zona Central|Zona Norte|Zona Oeste|Zona Sul|Academia|Animais permitidos|Churrasqueira|Condomínio fechado|Elevador|Piscina|Playground|Portaria 24h|Portão eletrônico|Salão de festas|\n",
            "+--------------------+-----+---------+---------+-------+------+----+----------+------+---------+------------+----------+----------+--------+--------+------------------+-------------+------------------+--------+-------+----------+------------+-----------------+---------------+\n",
            "|00002dd9-cc74-480...|    2|       35|        1|      1|   0.0| 0.0|     100.0| 100.0| 245000.0|           1|         0|         0|       0|       1|                 1|            1|                 1|       1|      1|         1|           1|                1|              1|\n",
            "|0009ca94-2b37-438...|    1|       84|        2|      2|   0.0| 1.0|     770.0| 105.0| 474980.0|           0|         1|         0|       0|       0|                 0|            1|                 0|       1|      0|         1|           1|                0|              1|\n",
            "|000e3d28-e3e5-411...|    0|       85|        2|      2|   0.0| 0.0|     460.0| 661.0| 290000.0|           0|         0|         0|       1|       0|                 1|            0|                 0|       1|      0|         0|           0|                0|              0|\n",
            "|000fb707-6cad-496...|    0|       58|        1|      2|   0.0| 1.0|     550.0| 550.0| 249000.0|           0|         0|         1|       0|       0|                 0|            0|                 0|       0|      1|         1|           0|                0|              0|\n",
            "|001b6db0-e88d-4eb...|    0|       64|        2|      2|   1.0| 1.0|     850.0|   0.0| 530000.0|           0|         1|         0|       0|       0|                 0|            0|                 0|       0|      0|         0|           0|                0|              0|\n",
            "|002db67e-52cc-480...|    0|      200|        6|      4|   4.0| 2.0|    2500.0| 420.0|2900000.0|           0|         0|         1|       0|       1|                 1|            1|                 1|       1|      1|         1|           0|                0|              1|\n",
            "|002dc4e0-f1a5-4ad...|    0|       70|        2|      2|   0.0| 0.0|     570.0|   0.0| 389000.0|           0|         1|         0|       0|       0|                 0|            0|                 0|       1|      0|         0|           0|                0|              0|\n",
            "|0030dd84-f657-41f...|    3|       70|        2|      2|   1.0| 1.0|     670.0| 107.0| 470000.0|           0|         1|         0|       0|       0|                 0|            0|                 0|       1|      0|         0|           0|                1|              0|\n",
            "|003213bb-ec21-4ad...|    0|      302|        7|      4|   4.0| 2.0|       0.0|   0.0|4400000.0|           0|         0|         1|       0|       1|                 0|            1|                 1|       0|      1|         1|           0|                0|              1|\n",
            "|0032884c-aa5f-455...|    0|       41|        1|      1|   1.0| 1.0|     450.0|  40.0| 269900.0|           0|         1|         0|       0|       1|                 1|            1|                 1|       1|      1|         1|           1|                1|              1|\n",
            "|00348cd1-923a-4db...|    5|       78|        1|      2|   1.0| 1.0|       1.0|   1.0|1050300.0|           0|         0|         1|       0|       1|                 1|            1|                 1|       1|      1|         1|           1|                1|              1|\n",
            "|0034df72-124a-438...|    0|      170|        3|      3|   2.0| 2.0|    1300.0|4100.0| 950000.0|           0|         0|         1|       0|       1|                 0|            1|                 1|       0|      1|         0|           0|                0|              1|\n",
            "|0036114a-4a0f-492...|    0|      173|        3|      3|   1.0| 2.0|    1750.0|4600.0|1300000.0|           0|         0|         1|       0|       1|                 0|            1|                 0|       0|      1|         1|           0|                0|              1|\n",
            "|00370d62-f774-405...|    0|       82|        1|      3|   1.0| 1.0|     650.0| 200.0| 650000.0|           0|         0|         1|       0|       0|                 0|            0|                 0|       0|      0|         0|           0|                0|              0|\n",
            "|00396d9d-2d0e-4b5...|    9|      120|        2|      2|   1.0| 2.0|     950.0| 200.0| 970000.0|           0|         0|         0|       1|       0|                 1|            0|                 1|       1|      0|         0|           1|                1|              0|\n",
            "|003cb63c-a666-458...|   20|      341|        2|      3|   1.0| 2.0|      20.0|  20.0|4800000.0|           0|         0|         0|       1|       0|                 1|            0|                 1|       1|      0|         0|           1|                1|              0|\n",
            "|0040f5a7-6c6a-40e...|    0|      194|        5|      4|   4.0| 3.0|       0.0|   0.0|2750000.0|           0|         0|         1|       0|       1|                 0|            1|                 1|       1|      1|         1|           1|                1|              1|\n",
            "|00529a9d-d876-4dc...|    0|       32|        1|      1|   0.0| 0.0|       0.0|   0.0| 194687.0|           0|         1|         0|       0|       0|                 0|            0|                 0|       0|      0|         0|           0|                0|              1|\n",
            "|00584813-33b4-477...|    1|       70|        1|      2|   0.0| 0.0|       0.0|   0.0| 220000.0|           0|         1|         0|       0|       0|                 0|            0|                 0|       0|      0|         0|           0|                0|              0|\n",
            "|005b5441-16b2-483...|   10|       72|        1|      2|   0.0| 1.0|    1086.0|1498.0|1000000.0|           0|         0|         0|       1|       0|                 1|            0|                 1|       1|      0|         0|           1|                1|              0|\n",
            "+--------------------+-----+---------+---------+-------+------+----+----------+------+---------+------------+----------+----------+--------+--------+------------------+-------------+------------------+--------+-------+----------+------------+-----------------+---------------+\n",
            "only showing top 20 rows\n",
            "\n"
          ]
        }
      ]
    },
    {
      "cell_type": "code",
      "source": [
        "va = VectorAssembler(inputCols=X, outputCol='features')\n",
        "scaler = StandardScaler(inputCol='features', outputCol='scaled_features')\n",
        "pca = PCA(k=8, inputCol='scaled_features', outputCol='pca_features')\n",
        "kmeans = KMeans(k=10, featuresCol='pca_features', predictionCol='cluster', seed=SEED)\n",
        "\n",
        "pipe = Pipeline(stages=[va, scaler, pca, kmeans])\n",
        "model_pipe = pipe.fit(dados)\n",
        "dados_prep_pipe = model_pipe.transform(dados)"
      ],
      "metadata": {
        "id": "PCEdoyBxMLYC"
      },
      "execution_count": 38,
      "outputs": []
    },
    {
      "cell_type": "code",
      "source": [
        "dados_prep_pipe.show()"
      ],
      "metadata": {
        "colab": {
          "base_uri": "https://localhost:8080/"
        },
        "id": "_5qaPFo6NE9K",
        "outputId": "3e35b3cc-533f-4fb8-9efd-78fecad16e5b"
      },
      "execution_count": 39,
      "outputs": [
        {
          "output_type": "stream",
          "name": "stdout",
          "text": [
            "+--------------------+-----+---------+---------+-------+------+----+----------+------+---------+------------+----------+----------+--------+--------+------------------+-------------+------------------+--------+-------+----------+------------+-----------------+---------------+--------------------+--------------------+--------------------+-------+\n",
            "|                  id|andar|area_util|banheiros|quartos|suites|vaga|condominio|  iptu|    valor|Zona Central|Zona Norte|Zona Oeste|Zona Sul|Academia|Animais permitidos|Churrasqueira|Condomínio fechado|Elevador|Piscina|Playground|Portaria 24h|Portão eletrônico|Salão de festas|            features|     scaled_features|        pca_features|cluster|\n",
            "+--------------------+-----+---------+---------+-------+------+----+----------+------+---------+------------+----------+----------+--------+--------+------------------+-------------+------------------+--------+-------+----------+------------+-----------------+---------------+--------------------+--------------------+--------------------+-------+\n",
            "|00002dd9-cc74-480...|    2|       35|        1|      1|   0.0| 0.0|     100.0| 100.0| 245000.0|           1|         0|         0|       0|       1|                 1|            1|                 1|       1|      1|         1|           1|                1|              1|[2.0,35.0,1.0,1.0...|[0.13607726247524...|[-6.1651250495338...|      3|\n",
            "|0009ca94-2b37-438...|    1|       84|        2|      2|   0.0| 1.0|     770.0| 105.0| 474980.0|           0|         1|         0|       0|       0|                 0|            1|                 0|       1|      0|         1|           1|                0|              1|(23,[0,1,2,3,5,6,...|(23,[0,1,2,3,5,6,...|[-3.2529111812184...|      9|\n",
            "|000e3d28-e3e5-411...|    0|       85|        2|      2|   0.0| 0.0|     460.0| 661.0| 290000.0|           0|         0|         0|       1|       0|                 1|            0|                 0|       1|      0|         0|           0|                0|              0|(23,[1,2,3,6,7,8,...|(23,[1,2,3,6,7,8,...|[-1.0611769329629...|      4|\n",
            "|000fb707-6cad-496...|    0|       58|        1|      2|   0.0| 1.0|     550.0| 550.0| 249000.0|           0|         0|         1|       0|       0|                 0|            0|                 0|       0|      1|         1|           0|                0|              0|(23,[1,2,3,5,6,7,...|(23,[1,2,3,5,6,7,...|[-1.9958119007838...|      7|\n",
            "|001b6db0-e88d-4eb...|    0|       64|        2|      2|   1.0| 1.0|     850.0|   0.0| 530000.0|           0|         1|         0|       0|       0|                 0|            0|                 0|       0|      0|         0|           0|                0|              0|(23,[1,2,3,4,5,6,...|(23,[1,2,3,4,5,6,...|[-0.4181406070145...|      9|\n",
            "|002db67e-52cc-480...|    0|      200|        6|      4|   4.0| 2.0|    2500.0| 420.0|2900000.0|           0|         0|         1|       0|       1|                 1|            1|                 1|       1|      1|         1|           0|                0|              1|[0.0,200.0,6.0,4....|[0.0,2.2447697820...|[-6.9015238649802...|      1|\n",
            "|002dc4e0-f1a5-4ad...|    0|       70|        2|      2|   0.0| 0.0|     570.0|   0.0| 389000.0|           0|         1|         0|       0|       0|                 0|            0|                 0|       1|      0|         0|           0|                0|              0|(23,[1,2,3,6,8,10...|(23,[1,2,3,6,8,10...|[-0.7164221492881...|      9|\n",
            "|0030dd84-f657-41f...|    3|       70|        2|      2|   1.0| 1.0|     670.0| 107.0| 470000.0|           0|         1|         0|       0|       0|                 0|            0|                 0|       1|      0|         0|           0|                1|              0|(23,[0,1,2,3,4,5,...|(23,[0,1,2,3,4,5,...|[-1.4856960209870...|      9|\n",
            "|003213bb-ec21-4ad...|    0|      302|        7|      4|   4.0| 2.0|       0.0|   0.0|4400000.0|           0|         0|         1|       0|       1|                 0|            1|                 1|       0|      1|         1|           0|                0|              1|(23,[1,2,3,4,5,8,...|(23,[1,2,3,4,5,8,...|[-6.0456283208921...|      1|\n",
            "|0032884c-aa5f-455...|    0|       41|        1|      1|   1.0| 1.0|     450.0|  40.0| 269900.0|           0|         1|         0|       0|       1|                 1|            1|                 1|       1|      1|         1|           1|                1|              1|[0.0,41.0,1.0,1.0...|[0.0,0.4601778053...|[-6.1992405713781...|      3|\n",
            "|00348cd1-923a-4db...|    5|       78|        1|      2|   1.0| 1.0|       1.0|   1.0|1050300.0|           0|         0|         1|       0|       1|                 1|            1|                 1|       1|      1|         1|           1|                1|              1|[5.0,78.0,1.0,2.0...|[0.34019315618810...|[-6.8846811115738...|      3|\n",
            "|0034df72-124a-438...|    0|      170|        3|      3|   2.0| 2.0|    1300.0|4100.0| 950000.0|           0|         0|         1|       0|       1|                 0|            1|                 1|       0|      1|         0|           0|                0|              1|(23,[1,2,3,4,5,6,...|(23,[1,2,3,4,5,6,...|[-4.6134703872770...|      5|\n",
            "|0036114a-4a0f-492...|    0|      173|        3|      3|   1.0| 2.0|    1750.0|4600.0|1300000.0|           0|         0|         1|       0|       1|                 0|            1|                 0|       0|      1|         1|           0|                0|              1|(23,[1,2,3,4,5,6,...|(23,[1,2,3,4,5,6,...|[-4.4763270618055...|      5|\n",
            "|00370d62-f774-405...|    0|       82|        1|      3|   1.0| 1.0|     650.0| 200.0| 650000.0|           0|         0|         1|       0|       0|                 0|            0|                 0|       0|      0|         0|           0|                0|              0|(23,[1,2,3,4,5,6,...|(23,[1,2,3,4,5,6,...|[-0.9935595784851...|      7|\n",
            "|00396d9d-2d0e-4b5...|    9|      120|        2|      2|   1.0| 2.0|     950.0| 200.0| 970000.0|           0|         0|         0|       1|       0|                 1|            0|                 1|       1|      0|         0|           1|                1|              0|[9.0,120.0,2.0,2....|[0.61234768113858...|[-3.1645192533431...|      0|\n",
            "|003cb63c-a666-458...|   20|      341|        2|      3|   1.0| 2.0|      20.0|  20.0|4800000.0|           0|         0|         0|       1|       0|                 1|            0|                 1|       1|      0|         0|           1|                1|              0|[20.0,341.0,2.0,3...|[1.36077262475241...|[-3.5460599405485...|      0|\n",
            "|0040f5a7-6c6a-40e...|    0|      194|        5|      4|   4.0| 3.0|       0.0|   0.0|2750000.0|           0|         0|         1|       0|       1|                 0|            1|                 1|       1|      1|         1|           1|                1|              1|[0.0,194.0,5.0,4....|[0.0,2.1774266885...|[-7.5070643480675...|      1|\n",
            "|00529a9d-d876-4dc...|    0|       32|        1|      1|   0.0| 0.0|       0.0|   0.0| 194687.0|           0|         1|         0|       0|       0|                 0|            0|                 0|       0|      0|         0|           0|                0|              1|(23,[1,2,3,8,10,2...|(23,[1,2,3,8,10,2...|[-0.6502007974669...|      9|\n",
            "|00584813-33b4-477...|    1|       70|        1|      2|   0.0| 0.0|       0.0|   0.0| 220000.0|           0|         1|         0|       0|       0|                 0|            0|                 0|       0|      0|         0|           0|                0|              0|(23,[0,1,2,3,8,10...|(23,[0,1,2,3,8,10...|[-0.1271532177362...|      9|\n",
            "|005b5441-16b2-483...|   10|       72|        1|      2|   0.0| 1.0|    1086.0|1498.0|1000000.0|           0|         0|         0|       1|       0|                 1|            0|                 1|       1|      0|         0|           1|                1|              0|(23,[0,1,2,3,5,6,...|(23,[0,1,2,3,5,6,...|[-2.8493633914844...|      0|\n",
            "+--------------------+-----+---------+---------+-------+------+----+----------+------+---------+------------+----------+----------+--------+--------+------------------+-------------+------------------+--------+-------+----------+------------+-----------------+---------------+--------------------+--------------------+--------------------+-------+\n",
            "only showing top 20 rows\n",
            "\n"
          ]
        }
      ]
    },
    {
      "cell_type": "markdown",
      "source": [
        "## Informações dos clusters"
      ],
      "metadata": {
        "id": "3TrbJbXyOVW8"
      }
    },
    {
      "cell_type": "code",
      "source": [
        "import plotly.express as px"
      ],
      "metadata": {
        "id": "zPHQwstXPeDG"
      },
      "execution_count": 40,
      "outputs": []
    },
    {
      "cell_type": "code",
      "source": [
        "dados_prep_pipe\\\n",
        "    .select('quartos', 'cluster')\\\n",
        "    .groupby('cluster')\\\n",
        "    .agg(\n",
        "        f.mean('quartos').alias('quartos')\n",
        "    )\\\n",
        "    .sort('quartos')\\\n",
        "    .show()"
      ],
      "metadata": {
        "colab": {
          "base_uri": "https://localhost:8080/"
        },
        "id": "UmKnQP3qOYcE",
        "outputId": "3f7aef49-b2fe-479d-f42e-4868ad8264a7"
      },
      "execution_count": 41,
      "outputs": [
        {
          "output_type": "stream",
          "name": "stdout",
          "text": [
            "+-------+------------------+\n",
            "|cluster|           quartos|\n",
            "+-------+------------------+\n",
            "|      0|2.1670878079595703|\n",
            "|      9|2.3416655873591505|\n",
            "|      3| 2.397264631043257|\n",
            "|      7|    2.482996611871|\n",
            "|      5|2.5109358726380004|\n",
            "|      4| 2.530987446871602|\n",
            "|      8|  2.57292576419214|\n",
            "|      2|3.4444444444444446|\n",
            "|      1|3.8679479231246123|\n",
            "|      6|3.9322125813449023|\n",
            "+-------+------------------+\n",
            "\n"
          ]
        }
      ]
    },
    {
      "cell_type": "code",
      "source": [
        "quartos_cluster = dados_prep_pipe\\\n",
        "    .select('quartos', 'cluster')\\\n",
        "    .groupby('cluster')\\\n",
        "    .agg(\n",
        "        f.mean('quartos').alias('quartos')\n",
        "    )\\\n",
        "    .sort('quartos')"
      ],
      "metadata": {
        "id": "sc-UyTi-PZO0"
      },
      "execution_count": 42,
      "outputs": []
    },
    {
      "cell_type": "code",
      "source": [
        "fig = px.bar(quartos_cluster.toPandas(), y='quartos', color='quartos', hover_data=['quartos', 'cluster'], text='cluster')\n",
        "\n",
        "fig.show()"
      ],
      "metadata": {
        "colab": {
          "base_uri": "https://localhost:8080/",
          "height": 542
        },
        "id": "gBbevBp9PcTK",
        "outputId": "0446b765-28d2-4824-98dc-bc28aa771e91"
      },
      "execution_count": 43,
      "outputs": [
        {
          "output_type": "display_data",
          "data": {
            "text/html": [
              "<html>\n",
              "<head><meta charset=\"utf-8\" /></head>\n",
              "<body>\n",
              "    <div>            <script src=\"https://cdnjs.cloudflare.com/ajax/libs/mathjax/2.7.5/MathJax.js?config=TeX-AMS-MML_SVG\"></script><script type=\"text/javascript\">if (window.MathJax) {MathJax.Hub.Config({SVG: {font: \"STIX-Web\"}});}</script>                <script type=\"text/javascript\">window.PlotlyConfig = {MathJaxConfig: 'local'};</script>\n",
              "        <script src=\"https://cdn.plot.ly/plotly-2.8.3.min.js\"></script>                <div id=\"b027c83b-ba44-4b7f-83ca-6bdf0553e564\" class=\"plotly-graph-div\" style=\"height:525px; width:100%;\"></div>            <script type=\"text/javascript\">                                    window.PLOTLYENV=window.PLOTLYENV || {};                                    if (document.getElementById(\"b027c83b-ba44-4b7f-83ca-6bdf0553e564\")) {                    Plotly.newPlot(                        \"b027c83b-ba44-4b7f-83ca-6bdf0553e564\",                        [{\"alignmentgroup\":\"True\",\"customdata\":[[0],[9],[3],[7],[5],[4],[8],[2],[1],[6]],\"hovertemplate\":\"index=%{x}<br>quartos=%{marker.color}<br>cluster=%{customdata[0]}<extra></extra>\",\"legendgroup\":\"\",\"marker\":{\"color\":[2.1670878079595703,2.3416655873591505,2.397264631043257,2.482996611871,2.5109358726380004,2.530987446871602,2.57292576419214,3.4444444444444446,3.8679479231246123,3.9322125813449023],\"coloraxis\":\"coloraxis\",\"pattern\":{\"shape\":\"\"}},\"name\":\"\",\"offsetgroup\":\"\",\"orientation\":\"v\",\"showlegend\":false,\"text\":[0.0,9.0,3.0,7.0,5.0,4.0,8.0,2.0,1.0,6.0],\"textposition\":\"auto\",\"x\":[0,1,2,3,4,5,6,7,8,9],\"xaxis\":\"x\",\"y\":[2.1670878079595703,2.3416655873591505,2.397264631043257,2.482996611871,2.5109358726380004,2.530987446871602,2.57292576419214,3.4444444444444446,3.8679479231246123,3.9322125813449023],\"yaxis\":\"y\",\"type\":\"bar\"}],                        {\"template\":{\"data\":{\"bar\":[{\"error_x\":{\"color\":\"#2a3f5f\"},\"error_y\":{\"color\":\"#2a3f5f\"},\"marker\":{\"line\":{\"color\":\"#E5ECF6\",\"width\":0.5},\"pattern\":{\"fillmode\":\"overlay\",\"size\":10,\"solidity\":0.2}},\"type\":\"bar\"}],\"barpolar\":[{\"marker\":{\"line\":{\"color\":\"#E5ECF6\",\"width\":0.5},\"pattern\":{\"fillmode\":\"overlay\",\"size\":10,\"solidity\":0.2}},\"type\":\"barpolar\"}],\"carpet\":[{\"aaxis\":{\"endlinecolor\":\"#2a3f5f\",\"gridcolor\":\"white\",\"linecolor\":\"white\",\"minorgridcolor\":\"white\",\"startlinecolor\":\"#2a3f5f\"},\"baxis\":{\"endlinecolor\":\"#2a3f5f\",\"gridcolor\":\"white\",\"linecolor\":\"white\",\"minorgridcolor\":\"white\",\"startlinecolor\":\"#2a3f5f\"},\"type\":\"carpet\"}],\"choropleth\":[{\"colorbar\":{\"outlinewidth\":0,\"ticks\":\"\"},\"type\":\"choropleth\"}],\"contour\":[{\"colorbar\":{\"outlinewidth\":0,\"ticks\":\"\"},\"colorscale\":[[0.0,\"#0d0887\"],[0.1111111111111111,\"#46039f\"],[0.2222222222222222,\"#7201a8\"],[0.3333333333333333,\"#9c179e\"],[0.4444444444444444,\"#bd3786\"],[0.5555555555555556,\"#d8576b\"],[0.6666666666666666,\"#ed7953\"],[0.7777777777777778,\"#fb9f3a\"],[0.8888888888888888,\"#fdca26\"],[1.0,\"#f0f921\"]],\"type\":\"contour\"}],\"contourcarpet\":[{\"colorbar\":{\"outlinewidth\":0,\"ticks\":\"\"},\"type\":\"contourcarpet\"}],\"heatmap\":[{\"colorbar\":{\"outlinewidth\":0,\"ticks\":\"\"},\"colorscale\":[[0.0,\"#0d0887\"],[0.1111111111111111,\"#46039f\"],[0.2222222222222222,\"#7201a8\"],[0.3333333333333333,\"#9c179e\"],[0.4444444444444444,\"#bd3786\"],[0.5555555555555556,\"#d8576b\"],[0.6666666666666666,\"#ed7953\"],[0.7777777777777778,\"#fb9f3a\"],[0.8888888888888888,\"#fdca26\"],[1.0,\"#f0f921\"]],\"type\":\"heatmap\"}],\"heatmapgl\":[{\"colorbar\":{\"outlinewidth\":0,\"ticks\":\"\"},\"colorscale\":[[0.0,\"#0d0887\"],[0.1111111111111111,\"#46039f\"],[0.2222222222222222,\"#7201a8\"],[0.3333333333333333,\"#9c179e\"],[0.4444444444444444,\"#bd3786\"],[0.5555555555555556,\"#d8576b\"],[0.6666666666666666,\"#ed7953\"],[0.7777777777777778,\"#fb9f3a\"],[0.8888888888888888,\"#fdca26\"],[1.0,\"#f0f921\"]],\"type\":\"heatmapgl\"}],\"histogram\":[{\"marker\":{\"pattern\":{\"fillmode\":\"overlay\",\"size\":10,\"solidity\":0.2}},\"type\":\"histogram\"}],\"histogram2d\":[{\"colorbar\":{\"outlinewidth\":0,\"ticks\":\"\"},\"colorscale\":[[0.0,\"#0d0887\"],[0.1111111111111111,\"#46039f\"],[0.2222222222222222,\"#7201a8\"],[0.3333333333333333,\"#9c179e\"],[0.4444444444444444,\"#bd3786\"],[0.5555555555555556,\"#d8576b\"],[0.6666666666666666,\"#ed7953\"],[0.7777777777777778,\"#fb9f3a\"],[0.8888888888888888,\"#fdca26\"],[1.0,\"#f0f921\"]],\"type\":\"histogram2d\"}],\"histogram2dcontour\":[{\"colorbar\":{\"outlinewidth\":0,\"ticks\":\"\"},\"colorscale\":[[0.0,\"#0d0887\"],[0.1111111111111111,\"#46039f\"],[0.2222222222222222,\"#7201a8\"],[0.3333333333333333,\"#9c179e\"],[0.4444444444444444,\"#bd3786\"],[0.5555555555555556,\"#d8576b\"],[0.6666666666666666,\"#ed7953\"],[0.7777777777777778,\"#fb9f3a\"],[0.8888888888888888,\"#fdca26\"],[1.0,\"#f0f921\"]],\"type\":\"histogram2dcontour\"}],\"mesh3d\":[{\"colorbar\":{\"outlinewidth\":0,\"ticks\":\"\"},\"type\":\"mesh3d\"}],\"parcoords\":[{\"line\":{\"colorbar\":{\"outlinewidth\":0,\"ticks\":\"\"}},\"type\":\"parcoords\"}],\"pie\":[{\"automargin\":true,\"type\":\"pie\"}],\"scatter\":[{\"marker\":{\"colorbar\":{\"outlinewidth\":0,\"ticks\":\"\"}},\"type\":\"scatter\"}],\"scatter3d\":[{\"line\":{\"colorbar\":{\"outlinewidth\":0,\"ticks\":\"\"}},\"marker\":{\"colorbar\":{\"outlinewidth\":0,\"ticks\":\"\"}},\"type\":\"scatter3d\"}],\"scattercarpet\":[{\"marker\":{\"colorbar\":{\"outlinewidth\":0,\"ticks\":\"\"}},\"type\":\"scattercarpet\"}],\"scattergeo\":[{\"marker\":{\"colorbar\":{\"outlinewidth\":0,\"ticks\":\"\"}},\"type\":\"scattergeo\"}],\"scattergl\":[{\"marker\":{\"colorbar\":{\"outlinewidth\":0,\"ticks\":\"\"}},\"type\":\"scattergl\"}],\"scattermapbox\":[{\"marker\":{\"colorbar\":{\"outlinewidth\":0,\"ticks\":\"\"}},\"type\":\"scattermapbox\"}],\"scatterpolar\":[{\"marker\":{\"colorbar\":{\"outlinewidth\":0,\"ticks\":\"\"}},\"type\":\"scatterpolar\"}],\"scatterpolargl\":[{\"marker\":{\"colorbar\":{\"outlinewidth\":0,\"ticks\":\"\"}},\"type\":\"scatterpolargl\"}],\"scatterternary\":[{\"marker\":{\"colorbar\":{\"outlinewidth\":0,\"ticks\":\"\"}},\"type\":\"scatterternary\"}],\"surface\":[{\"colorbar\":{\"outlinewidth\":0,\"ticks\":\"\"},\"colorscale\":[[0.0,\"#0d0887\"],[0.1111111111111111,\"#46039f\"],[0.2222222222222222,\"#7201a8\"],[0.3333333333333333,\"#9c179e\"],[0.4444444444444444,\"#bd3786\"],[0.5555555555555556,\"#d8576b\"],[0.6666666666666666,\"#ed7953\"],[0.7777777777777778,\"#fb9f3a\"],[0.8888888888888888,\"#fdca26\"],[1.0,\"#f0f921\"]],\"type\":\"surface\"}],\"table\":[{\"cells\":{\"fill\":{\"color\":\"#EBF0F8\"},\"line\":{\"color\":\"white\"}},\"header\":{\"fill\":{\"color\":\"#C8D4E3\"},\"line\":{\"color\":\"white\"}},\"type\":\"table\"}]},\"layout\":{\"annotationdefaults\":{\"arrowcolor\":\"#2a3f5f\",\"arrowhead\":0,\"arrowwidth\":1},\"autotypenumbers\":\"strict\",\"coloraxis\":{\"colorbar\":{\"outlinewidth\":0,\"ticks\":\"\"}},\"colorscale\":{\"diverging\":[[0,\"#8e0152\"],[0.1,\"#c51b7d\"],[0.2,\"#de77ae\"],[0.3,\"#f1b6da\"],[0.4,\"#fde0ef\"],[0.5,\"#f7f7f7\"],[0.6,\"#e6f5d0\"],[0.7,\"#b8e186\"],[0.8,\"#7fbc41\"],[0.9,\"#4d9221\"],[1,\"#276419\"]],\"sequential\":[[0.0,\"#0d0887\"],[0.1111111111111111,\"#46039f\"],[0.2222222222222222,\"#7201a8\"],[0.3333333333333333,\"#9c179e\"],[0.4444444444444444,\"#bd3786\"],[0.5555555555555556,\"#d8576b\"],[0.6666666666666666,\"#ed7953\"],[0.7777777777777778,\"#fb9f3a\"],[0.8888888888888888,\"#fdca26\"],[1.0,\"#f0f921\"]],\"sequentialminus\":[[0.0,\"#0d0887\"],[0.1111111111111111,\"#46039f\"],[0.2222222222222222,\"#7201a8\"],[0.3333333333333333,\"#9c179e\"],[0.4444444444444444,\"#bd3786\"],[0.5555555555555556,\"#d8576b\"],[0.6666666666666666,\"#ed7953\"],[0.7777777777777778,\"#fb9f3a\"],[0.8888888888888888,\"#fdca26\"],[1.0,\"#f0f921\"]]},\"colorway\":[\"#636efa\",\"#EF553B\",\"#00cc96\",\"#ab63fa\",\"#FFA15A\",\"#19d3f3\",\"#FF6692\",\"#B6E880\",\"#FF97FF\",\"#FECB52\"],\"font\":{\"color\":\"#2a3f5f\"},\"geo\":{\"bgcolor\":\"white\",\"lakecolor\":\"white\",\"landcolor\":\"#E5ECF6\",\"showlakes\":true,\"showland\":true,\"subunitcolor\":\"white\"},\"hoverlabel\":{\"align\":\"left\"},\"hovermode\":\"closest\",\"mapbox\":{\"style\":\"light\"},\"paper_bgcolor\":\"white\",\"plot_bgcolor\":\"#E5ECF6\",\"polar\":{\"angularaxis\":{\"gridcolor\":\"white\",\"linecolor\":\"white\",\"ticks\":\"\"},\"bgcolor\":\"#E5ECF6\",\"radialaxis\":{\"gridcolor\":\"white\",\"linecolor\":\"white\",\"ticks\":\"\"}},\"scene\":{\"xaxis\":{\"backgroundcolor\":\"#E5ECF6\",\"gridcolor\":\"white\",\"gridwidth\":2,\"linecolor\":\"white\",\"showbackground\":true,\"ticks\":\"\",\"zerolinecolor\":\"white\"},\"yaxis\":{\"backgroundcolor\":\"#E5ECF6\",\"gridcolor\":\"white\",\"gridwidth\":2,\"linecolor\":\"white\",\"showbackground\":true,\"ticks\":\"\",\"zerolinecolor\":\"white\"},\"zaxis\":{\"backgroundcolor\":\"#E5ECF6\",\"gridcolor\":\"white\",\"gridwidth\":2,\"linecolor\":\"white\",\"showbackground\":true,\"ticks\":\"\",\"zerolinecolor\":\"white\"}},\"shapedefaults\":{\"line\":{\"color\":\"#2a3f5f\"}},\"ternary\":{\"aaxis\":{\"gridcolor\":\"white\",\"linecolor\":\"white\",\"ticks\":\"\"},\"baxis\":{\"gridcolor\":\"white\",\"linecolor\":\"white\",\"ticks\":\"\"},\"bgcolor\":\"#E5ECF6\",\"caxis\":{\"gridcolor\":\"white\",\"linecolor\":\"white\",\"ticks\":\"\"}},\"title\":{\"x\":0.05},\"xaxis\":{\"automargin\":true,\"gridcolor\":\"white\",\"linecolor\":\"white\",\"ticks\":\"\",\"title\":{\"standoff\":15},\"zerolinecolor\":\"white\",\"zerolinewidth\":2},\"yaxis\":{\"automargin\":true,\"gridcolor\":\"white\",\"linecolor\":\"white\",\"ticks\":\"\",\"title\":{\"standoff\":15},\"zerolinecolor\":\"white\",\"zerolinewidth\":2}}},\"xaxis\":{\"anchor\":\"y\",\"domain\":[0.0,1.0],\"title\":{\"text\":\"index\"}},\"yaxis\":{\"anchor\":\"x\",\"domain\":[0.0,1.0],\"title\":{\"text\":\"quartos\"}},\"coloraxis\":{\"colorbar\":{\"title\":{\"text\":\"quartos\"}},\"colorscale\":[[0.0,\"#0d0887\"],[0.1111111111111111,\"#46039f\"],[0.2222222222222222,\"#7201a8\"],[0.3333333333333333,\"#9c179e\"],[0.4444444444444444,\"#bd3786\"],[0.5555555555555556,\"#d8576b\"],[0.6666666666666666,\"#ed7953\"],[0.7777777777777778,\"#fb9f3a\"],[0.8888888888888888,\"#fdca26\"],[1.0,\"#f0f921\"]]},\"legend\":{\"tracegroupgap\":0},\"margin\":{\"t\":60},\"barmode\":\"relative\"},                        {\"responsive\": true}                    ).then(function(){\n",
              "                            \n",
              "var gd = document.getElementById('b027c83b-ba44-4b7f-83ca-6bdf0553e564');\n",
              "var x = new MutationObserver(function (mutations, observer) {{\n",
              "        var display = window.getComputedStyle(gd).display;\n",
              "        if (!display || display === 'none') {{\n",
              "            console.log([gd, 'removed!']);\n",
              "            Plotly.purge(gd);\n",
              "            observer.disconnect();\n",
              "        }}\n",
              "}});\n",
              "\n",
              "// Listen for the removal of the full notebook cells\n",
              "var notebookContainer = gd.closest('#notebook-container');\n",
              "if (notebookContainer) {{\n",
              "    x.observe(notebookContainer, {childList: true});\n",
              "}}\n",
              "\n",
              "// Listen for the clearing of the current output cell\n",
              "var outputEl = gd.closest('.output');\n",
              "if (outputEl) {{\n",
              "    x.observe(outputEl, {childList: true});\n",
              "}}\n",
              "\n",
              "                        })                };                            </script>        </div>\n",
              "</body>\n",
              "</html>"
            ]
          },
          "metadata": {}
        }
      ]
    },
    {
      "cell_type": "code",
      "source": [
        "import plotly.graph_objects as go"
      ],
      "metadata": {
        "id": "LbHBy0U_VmWg"
      },
      "execution_count": 44,
      "outputs": []
    },
    {
      "cell_type": "code",
      "source": [
        "def get_dados_agrupados_cluster(coluna):\n",
        "    dados_coluna = dados_prep_pipe\\\n",
        "        .select(coluna, 'cluster')\\\n",
        "        .groupby('cluster')\\\n",
        "        .agg(\n",
        "            f.mean(coluna).alias(coluna)\n",
        "        )\\\n",
        "        .sort(coluna)\n",
        "    \n",
        "    return dados_coluna.toPandas()"
      ],
      "metadata": {
        "id": "sCvfEYcMVq60"
      },
      "execution_count": 45,
      "outputs": []
    },
    {
      "cell_type": "code",
      "source": [
        "fig = go.Figure()\n",
        "\n",
        "lista_colunas = ['banheiros', 'quartos']#, 'area_util']\n",
        "\n",
        "for coluna in lista_colunas:\n",
        "    temp = get_dados_agrupados_cluster(coluna)\n",
        "    fig.add_trace(go.Bar(x=temp['cluster'].apply(lambda x: str(x)), y=temp[coluna], name=coluna))\n",
        "\n",
        "fig.show()"
      ],
      "metadata": {
        "colab": {
          "base_uri": "https://localhost:8080/",
          "height": 542
        },
        "id": "RhO_BFXqVN2j",
        "outputId": "e84782eb-f1d0-448d-ea52-1c671b9ebf02"
      },
      "execution_count": 46,
      "outputs": [
        {
          "output_type": "display_data",
          "data": {
            "text/html": [
              "<html>\n",
              "<head><meta charset=\"utf-8\" /></head>\n",
              "<body>\n",
              "    <div>            <script src=\"https://cdnjs.cloudflare.com/ajax/libs/mathjax/2.7.5/MathJax.js?config=TeX-AMS-MML_SVG\"></script><script type=\"text/javascript\">if (window.MathJax) {MathJax.Hub.Config({SVG: {font: \"STIX-Web\"}});}</script>                <script type=\"text/javascript\">window.PlotlyConfig = {MathJaxConfig: 'local'};</script>\n",
              "        <script src=\"https://cdn.plot.ly/plotly-2.8.3.min.js\"></script>                <div id=\"1e9be61d-05e4-46f1-a5f2-d308bc8478ba\" class=\"plotly-graph-div\" style=\"height:525px; width:100%;\"></div>            <script type=\"text/javascript\">                                    window.PLOTLYENV=window.PLOTLYENV || {};                                    if (document.getElementById(\"1e9be61d-05e4-46f1-a5f2-d308bc8478ba\")) {                    Plotly.newPlot(                        \"1e9be61d-05e4-46f1-a5f2-d308bc8478ba\",                        [{\"name\":\"banheiros\",\"x\":[\"0\",\"9\",\"3\",\"4\",\"7\",\"5\",\"8\",\"2\",\"1\",\"6\"],\"y\":[1.8885028427037271,1.9702111125501878,2.005407124681934,2.2099436591875063,2.2114443468440204,2.265139116202946,2.4963609898107713,3.888888888888889,4.6286422814631125,5.002982646420825],\"type\":\"bar\"},{\"name\":\"quartos\",\"x\":[\"0\",\"9\",\"3\",\"7\",\"5\",\"4\",\"8\",\"2\",\"1\",\"6\"],\"y\":[2.1670878079595703,2.3416655873591505,2.397264631043257,2.482996611871,2.5109358726380004,2.530987446871602,2.57292576419214,3.4444444444444446,3.8679479231246123,3.9322125813449023],\"type\":\"bar\"}],                        {\"template\":{\"data\":{\"bar\":[{\"error_x\":{\"color\":\"#2a3f5f\"},\"error_y\":{\"color\":\"#2a3f5f\"},\"marker\":{\"line\":{\"color\":\"#E5ECF6\",\"width\":0.5},\"pattern\":{\"fillmode\":\"overlay\",\"size\":10,\"solidity\":0.2}},\"type\":\"bar\"}],\"barpolar\":[{\"marker\":{\"line\":{\"color\":\"#E5ECF6\",\"width\":0.5},\"pattern\":{\"fillmode\":\"overlay\",\"size\":10,\"solidity\":0.2}},\"type\":\"barpolar\"}],\"carpet\":[{\"aaxis\":{\"endlinecolor\":\"#2a3f5f\",\"gridcolor\":\"white\",\"linecolor\":\"white\",\"minorgridcolor\":\"white\",\"startlinecolor\":\"#2a3f5f\"},\"baxis\":{\"endlinecolor\":\"#2a3f5f\",\"gridcolor\":\"white\",\"linecolor\":\"white\",\"minorgridcolor\":\"white\",\"startlinecolor\":\"#2a3f5f\"},\"type\":\"carpet\"}],\"choropleth\":[{\"colorbar\":{\"outlinewidth\":0,\"ticks\":\"\"},\"type\":\"choropleth\"}],\"contour\":[{\"colorbar\":{\"outlinewidth\":0,\"ticks\":\"\"},\"colorscale\":[[0.0,\"#0d0887\"],[0.1111111111111111,\"#46039f\"],[0.2222222222222222,\"#7201a8\"],[0.3333333333333333,\"#9c179e\"],[0.4444444444444444,\"#bd3786\"],[0.5555555555555556,\"#d8576b\"],[0.6666666666666666,\"#ed7953\"],[0.7777777777777778,\"#fb9f3a\"],[0.8888888888888888,\"#fdca26\"],[1.0,\"#f0f921\"]],\"type\":\"contour\"}],\"contourcarpet\":[{\"colorbar\":{\"outlinewidth\":0,\"ticks\":\"\"},\"type\":\"contourcarpet\"}],\"heatmap\":[{\"colorbar\":{\"outlinewidth\":0,\"ticks\":\"\"},\"colorscale\":[[0.0,\"#0d0887\"],[0.1111111111111111,\"#46039f\"],[0.2222222222222222,\"#7201a8\"],[0.3333333333333333,\"#9c179e\"],[0.4444444444444444,\"#bd3786\"],[0.5555555555555556,\"#d8576b\"],[0.6666666666666666,\"#ed7953\"],[0.7777777777777778,\"#fb9f3a\"],[0.8888888888888888,\"#fdca26\"],[1.0,\"#f0f921\"]],\"type\":\"heatmap\"}],\"heatmapgl\":[{\"colorbar\":{\"outlinewidth\":0,\"ticks\":\"\"},\"colorscale\":[[0.0,\"#0d0887\"],[0.1111111111111111,\"#46039f\"],[0.2222222222222222,\"#7201a8\"],[0.3333333333333333,\"#9c179e\"],[0.4444444444444444,\"#bd3786\"],[0.5555555555555556,\"#d8576b\"],[0.6666666666666666,\"#ed7953\"],[0.7777777777777778,\"#fb9f3a\"],[0.8888888888888888,\"#fdca26\"],[1.0,\"#f0f921\"]],\"type\":\"heatmapgl\"}],\"histogram\":[{\"marker\":{\"pattern\":{\"fillmode\":\"overlay\",\"size\":10,\"solidity\":0.2}},\"type\":\"histogram\"}],\"histogram2d\":[{\"colorbar\":{\"outlinewidth\":0,\"ticks\":\"\"},\"colorscale\":[[0.0,\"#0d0887\"],[0.1111111111111111,\"#46039f\"],[0.2222222222222222,\"#7201a8\"],[0.3333333333333333,\"#9c179e\"],[0.4444444444444444,\"#bd3786\"],[0.5555555555555556,\"#d8576b\"],[0.6666666666666666,\"#ed7953\"],[0.7777777777777778,\"#fb9f3a\"],[0.8888888888888888,\"#fdca26\"],[1.0,\"#f0f921\"]],\"type\":\"histogram2d\"}],\"histogram2dcontour\":[{\"colorbar\":{\"outlinewidth\":0,\"ticks\":\"\"},\"colorscale\":[[0.0,\"#0d0887\"],[0.1111111111111111,\"#46039f\"],[0.2222222222222222,\"#7201a8\"],[0.3333333333333333,\"#9c179e\"],[0.4444444444444444,\"#bd3786\"],[0.5555555555555556,\"#d8576b\"],[0.6666666666666666,\"#ed7953\"],[0.7777777777777778,\"#fb9f3a\"],[0.8888888888888888,\"#fdca26\"],[1.0,\"#f0f921\"]],\"type\":\"histogram2dcontour\"}],\"mesh3d\":[{\"colorbar\":{\"outlinewidth\":0,\"ticks\":\"\"},\"type\":\"mesh3d\"}],\"parcoords\":[{\"line\":{\"colorbar\":{\"outlinewidth\":0,\"ticks\":\"\"}},\"type\":\"parcoords\"}],\"pie\":[{\"automargin\":true,\"type\":\"pie\"}],\"scatter\":[{\"marker\":{\"colorbar\":{\"outlinewidth\":0,\"ticks\":\"\"}},\"type\":\"scatter\"}],\"scatter3d\":[{\"line\":{\"colorbar\":{\"outlinewidth\":0,\"ticks\":\"\"}},\"marker\":{\"colorbar\":{\"outlinewidth\":0,\"ticks\":\"\"}},\"type\":\"scatter3d\"}],\"scattercarpet\":[{\"marker\":{\"colorbar\":{\"outlinewidth\":0,\"ticks\":\"\"}},\"type\":\"scattercarpet\"}],\"scattergeo\":[{\"marker\":{\"colorbar\":{\"outlinewidth\":0,\"ticks\":\"\"}},\"type\":\"scattergeo\"}],\"scattergl\":[{\"marker\":{\"colorbar\":{\"outlinewidth\":0,\"ticks\":\"\"}},\"type\":\"scattergl\"}],\"scattermapbox\":[{\"marker\":{\"colorbar\":{\"outlinewidth\":0,\"ticks\":\"\"}},\"type\":\"scattermapbox\"}],\"scatterpolar\":[{\"marker\":{\"colorbar\":{\"outlinewidth\":0,\"ticks\":\"\"}},\"type\":\"scatterpolar\"}],\"scatterpolargl\":[{\"marker\":{\"colorbar\":{\"outlinewidth\":0,\"ticks\":\"\"}},\"type\":\"scatterpolargl\"}],\"scatterternary\":[{\"marker\":{\"colorbar\":{\"outlinewidth\":0,\"ticks\":\"\"}},\"type\":\"scatterternary\"}],\"surface\":[{\"colorbar\":{\"outlinewidth\":0,\"ticks\":\"\"},\"colorscale\":[[0.0,\"#0d0887\"],[0.1111111111111111,\"#46039f\"],[0.2222222222222222,\"#7201a8\"],[0.3333333333333333,\"#9c179e\"],[0.4444444444444444,\"#bd3786\"],[0.5555555555555556,\"#d8576b\"],[0.6666666666666666,\"#ed7953\"],[0.7777777777777778,\"#fb9f3a\"],[0.8888888888888888,\"#fdca26\"],[1.0,\"#f0f921\"]],\"type\":\"surface\"}],\"table\":[{\"cells\":{\"fill\":{\"color\":\"#EBF0F8\"},\"line\":{\"color\":\"white\"}},\"header\":{\"fill\":{\"color\":\"#C8D4E3\"},\"line\":{\"color\":\"white\"}},\"type\":\"table\"}]},\"layout\":{\"annotationdefaults\":{\"arrowcolor\":\"#2a3f5f\",\"arrowhead\":0,\"arrowwidth\":1},\"autotypenumbers\":\"strict\",\"coloraxis\":{\"colorbar\":{\"outlinewidth\":0,\"ticks\":\"\"}},\"colorscale\":{\"diverging\":[[0,\"#8e0152\"],[0.1,\"#c51b7d\"],[0.2,\"#de77ae\"],[0.3,\"#f1b6da\"],[0.4,\"#fde0ef\"],[0.5,\"#f7f7f7\"],[0.6,\"#e6f5d0\"],[0.7,\"#b8e186\"],[0.8,\"#7fbc41\"],[0.9,\"#4d9221\"],[1,\"#276419\"]],\"sequential\":[[0.0,\"#0d0887\"],[0.1111111111111111,\"#46039f\"],[0.2222222222222222,\"#7201a8\"],[0.3333333333333333,\"#9c179e\"],[0.4444444444444444,\"#bd3786\"],[0.5555555555555556,\"#d8576b\"],[0.6666666666666666,\"#ed7953\"],[0.7777777777777778,\"#fb9f3a\"],[0.8888888888888888,\"#fdca26\"],[1.0,\"#f0f921\"]],\"sequentialminus\":[[0.0,\"#0d0887\"],[0.1111111111111111,\"#46039f\"],[0.2222222222222222,\"#7201a8\"],[0.3333333333333333,\"#9c179e\"],[0.4444444444444444,\"#bd3786\"],[0.5555555555555556,\"#d8576b\"],[0.6666666666666666,\"#ed7953\"],[0.7777777777777778,\"#fb9f3a\"],[0.8888888888888888,\"#fdca26\"],[1.0,\"#f0f921\"]]},\"colorway\":[\"#636efa\",\"#EF553B\",\"#00cc96\",\"#ab63fa\",\"#FFA15A\",\"#19d3f3\",\"#FF6692\",\"#B6E880\",\"#FF97FF\",\"#FECB52\"],\"font\":{\"color\":\"#2a3f5f\"},\"geo\":{\"bgcolor\":\"white\",\"lakecolor\":\"white\",\"landcolor\":\"#E5ECF6\",\"showlakes\":true,\"showland\":true,\"subunitcolor\":\"white\"},\"hoverlabel\":{\"align\":\"left\"},\"hovermode\":\"closest\",\"mapbox\":{\"style\":\"light\"},\"paper_bgcolor\":\"white\",\"plot_bgcolor\":\"#E5ECF6\",\"polar\":{\"angularaxis\":{\"gridcolor\":\"white\",\"linecolor\":\"white\",\"ticks\":\"\"},\"bgcolor\":\"#E5ECF6\",\"radialaxis\":{\"gridcolor\":\"white\",\"linecolor\":\"white\",\"ticks\":\"\"}},\"scene\":{\"xaxis\":{\"backgroundcolor\":\"#E5ECF6\",\"gridcolor\":\"white\",\"gridwidth\":2,\"linecolor\":\"white\",\"showbackground\":true,\"ticks\":\"\",\"zerolinecolor\":\"white\"},\"yaxis\":{\"backgroundcolor\":\"#E5ECF6\",\"gridcolor\":\"white\",\"gridwidth\":2,\"linecolor\":\"white\",\"showbackground\":true,\"ticks\":\"\",\"zerolinecolor\":\"white\"},\"zaxis\":{\"backgroundcolor\":\"#E5ECF6\",\"gridcolor\":\"white\",\"gridwidth\":2,\"linecolor\":\"white\",\"showbackground\":true,\"ticks\":\"\",\"zerolinecolor\":\"white\"}},\"shapedefaults\":{\"line\":{\"color\":\"#2a3f5f\"}},\"ternary\":{\"aaxis\":{\"gridcolor\":\"white\",\"linecolor\":\"white\",\"ticks\":\"\"},\"baxis\":{\"gridcolor\":\"white\",\"linecolor\":\"white\",\"ticks\":\"\"},\"bgcolor\":\"#E5ECF6\",\"caxis\":{\"gridcolor\":\"white\",\"linecolor\":\"white\",\"ticks\":\"\"}},\"title\":{\"x\":0.05},\"xaxis\":{\"automargin\":true,\"gridcolor\":\"white\",\"linecolor\":\"white\",\"ticks\":\"\",\"title\":{\"standoff\":15},\"zerolinecolor\":\"white\",\"zerolinewidth\":2},\"yaxis\":{\"automargin\":true,\"gridcolor\":\"white\",\"linecolor\":\"white\",\"ticks\":\"\",\"title\":{\"standoff\":15},\"zerolinecolor\":\"white\",\"zerolinewidth\":2}}}},                        {\"responsive\": true}                    ).then(function(){\n",
              "                            \n",
              "var gd = document.getElementById('1e9be61d-05e4-46f1-a5f2-d308bc8478ba');\n",
              "var x = new MutationObserver(function (mutations, observer) {{\n",
              "        var display = window.getComputedStyle(gd).display;\n",
              "        if (!display || display === 'none') {{\n",
              "            console.log([gd, 'removed!']);\n",
              "            Plotly.purge(gd);\n",
              "            observer.disconnect();\n",
              "        }}\n",
              "}});\n",
              "\n",
              "// Listen for the removal of the full notebook cells\n",
              "var notebookContainer = gd.closest('#notebook-container');\n",
              "if (notebookContainer) {{\n",
              "    x.observe(notebookContainer, {childList: true});\n",
              "}}\n",
              "\n",
              "// Listen for the clearing of the current output cell\n",
              "var outputEl = gd.closest('.output');\n",
              "if (outputEl) {{\n",
              "    x.observe(outputEl, {childList: true});\n",
              "}}\n",
              "\n",
              "                        })                };                            </script>        </div>\n",
              "</body>\n",
              "</html>"
            ]
          },
          "metadata": {}
        }
      ]
    },
    {
      "cell_type": "code",
      "source": [],
      "metadata": {
        "id": "xEFwMdJfXxHh"
      },
      "execution_count": 46,
      "outputs": []
    }
  ]
}